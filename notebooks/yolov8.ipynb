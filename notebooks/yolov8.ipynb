{
 "cells": [
  {
   "cell_type": "code",
   "execution_count": 4,
   "id": "a15c7789-e95c-442e-8c21-01d50bfc2279",
   "metadata": {
    "tags": []
   },
   "outputs": [
    {
     "name": "stdout",
     "output_type": "stream",
     "text": [
      "Ultralytics 8.3.38 🚀 Python-3.9.10 torch-1.13.1 CUDA:0 (NVIDIA A100 80GB PCIe MIG 1g.10gb, 9728MiB)\n",
      "WARNING ⚠️ Upgrade to torch>=2.0.0 for deterministic training.\n",
      "\u001b[34m\u001b[1mengine/trainer: \u001b[0mtask=detect, mode=train, model=./yolov8s.pt, data=./dataset_splitted_2/dataset.yaml, epochs=30, time=None, patience=100, batch=16, imgsz=256, save=True, save_period=-1, cache=False, device=None, workers=8, project=None, name=train, exist_ok=False, pretrained=True, optimizer=auto, verbose=True, seed=0, deterministic=True, single_cls=False, rect=False, cos_lr=False, close_mosaic=10, resume=False, amp=False, fraction=1.0, profile=False, freeze=None, multi_scale=False, overlap_mask=True, mask_ratio=4, dropout=0.0, val=True, split=val, save_json=False, save_hybrid=False, conf=None, iou=0.7, max_det=300, half=False, dnn=False, plots=True, source=None, vid_stride=1, stream_buffer=False, visualize=False, augment=False, agnostic_nms=False, classes=None, retina_masks=False, embed=None, show=False, save_frames=False, save_txt=False, save_conf=False, save_crop=False, show_labels=True, show_conf=True, show_boxes=True, line_width=None, format=torchscript, keras=False, optimize=False, int8=False, dynamic=False, simplify=True, opset=None, workspace=None, nms=False, lr0=0.01, lrf=0.01, momentum=0.937, weight_decay=0.0005, warmup_epochs=3.0, warmup_momentum=0.8, warmup_bias_lr=0.1, box=7.5, cls=0.5, dfl=1.5, pose=12.0, kobj=1.0, nbs=64, hsv_h=0.015, hsv_s=0.7, hsv_v=0.4, degrees=0.0, translate=0.1, scale=0.5, shear=0.0, perspective=0.0, flipud=0.0, fliplr=0.5, bgr=0.0, mosaic=1.0, mixup=0.0, copy_paste=0.0, copy_paste_mode=flip, auto_augment=randaugment, erasing=0.4, crop_fraction=1.0, cfg=None, tracker=botsort.yaml, save_dir=runs/detect/train\n",
      "Overriding model.yaml nc=80 with nc=1\n",
      "\n",
      "                   from  n    params  module                                       arguments                     \n",
      "  0                  -1  1       928  ultralytics.nn.modules.conv.Conv             [3, 32, 3, 2]                 \n",
      "  1                  -1  1     18560  ultralytics.nn.modules.conv.Conv             [32, 64, 3, 2]                \n",
      "  2                  -1  1     29056  ultralytics.nn.modules.block.C2f             [64, 64, 1, True]             \n",
      "  3                  -1  1     73984  ultralytics.nn.modules.conv.Conv             [64, 128, 3, 2]               \n",
      "  4                  -1  2    197632  ultralytics.nn.modules.block.C2f             [128, 128, 2, True]           \n",
      "  5                  -1  1    295424  ultralytics.nn.modules.conv.Conv             [128, 256, 3, 2]              \n",
      "  6                  -1  2    788480  ultralytics.nn.modules.block.C2f             [256, 256, 2, True]           \n",
      "  7                  -1  1   1180672  ultralytics.nn.modules.conv.Conv             [256, 512, 3, 2]              \n",
      "  8                  -1  1   1838080  ultralytics.nn.modules.block.C2f             [512, 512, 1, True]           \n",
      "  9                  -1  1    656896  ultralytics.nn.modules.block.SPPF            [512, 512, 5]                 \n",
      " 10                  -1  1         0  torch.nn.modules.upsampling.Upsample         [None, 2, 'nearest']          \n",
      " 11             [-1, 6]  1         0  ultralytics.nn.modules.conv.Concat           [1]                           \n",
      " 12                  -1  1    591360  ultralytics.nn.modules.block.C2f             [768, 256, 1]                 \n",
      " 13                  -1  1         0  torch.nn.modules.upsampling.Upsample         [None, 2, 'nearest']          \n",
      " 14             [-1, 4]  1         0  ultralytics.nn.modules.conv.Concat           [1]                           \n",
      " 15                  -1  1    148224  ultralytics.nn.modules.block.C2f             [384, 128, 1]                 \n",
      " 16                  -1  1    147712  ultralytics.nn.modules.conv.Conv             [128, 128, 3, 2]              \n",
      " 17            [-1, 12]  1         0  ultralytics.nn.modules.conv.Concat           [1]                           \n",
      " 18                  -1  1    493056  ultralytics.nn.modules.block.C2f             [384, 256, 1]                 \n",
      " 19                  -1  1    590336  ultralytics.nn.modules.conv.Conv             [256, 256, 3, 2]              \n",
      " 20             [-1, 9]  1         0  ultralytics.nn.modules.conv.Concat           [1]                           \n",
      " 21                  -1  1   1969152  ultralytics.nn.modules.block.C2f             [768, 512, 1]                 \n",
      " 22        [15, 18, 21]  1   2116435  ultralytics.nn.modules.head.Detect           [1, [128, 256, 512]]          \n",
      "Model summary: 225 layers, 11,135,987 parameters, 11,135,971 gradients, 28.6 GFLOPs\n",
      "\n",
      "Transferred 349/355 items from pretrained weights\n",
      "\u001b[34m\u001b[1mTensorBoard: \u001b[0mStart with 'tensorboard --logdir runs/detect/train', view at http://localhost:6006/\n",
      "Freezing layer 'model.22.dfl.conv.weight'\n"
     ]
    },
    {
     "name": "stderr",
     "output_type": "stream",
     "text": [
      "\u001b[34m\u001b[1mtrain: \u001b[0mScanning /home/jovyan/work/run_pipeline/olga_detection/dataset_splitted_2/train/labels.cache... 152 images, 0 backgrounds, 0 corrupt: 100%|██████████| 152/152 [00:00<?, ?it/s]\n"
     ]
    },
    {
     "name": "stdout",
     "output_type": "stream",
     "text": [
      "\u001b[34m\u001b[1malbumentations: \u001b[0mBlur(p=0.01, blur_limit=(3, 7)), MedianBlur(p=0.01, blur_limit=(3, 7)), ToGray(p=0.01), CLAHE(p=0.01, clip_limit=(1, 4.0), tile_grid_size=(8, 8))\n"
     ]
    },
    {
     "name": "stderr",
     "output_type": "stream",
     "text": [
      "\u001b[34m\u001b[1mval: \u001b[0mScanning /home/jovyan/work/run_pipeline/olga_detection/dataset_splitted_2/val/labels.cache... 39 images, 0 backgrounds, 0 corrupt: 100%|██████████| 39/39 [00:00<?, ?it/s]\n"
     ]
    },
    {
     "name": "stdout",
     "output_type": "stream",
     "text": [
      "Plotting labels to runs/detect/train/labels.jpg... \n",
      "\u001b[34m\u001b[1moptimizer:\u001b[0m 'optimizer=auto' found, ignoring 'lr0=0.01' and 'momentum=0.937' and determining best 'optimizer', 'lr0' and 'momentum' automatically... \n",
      "\u001b[34m\u001b[1moptimizer:\u001b[0m AdamW(lr=0.002, momentum=0.9) with parameter groups 57 weight(decay=0.0), 64 weight(decay=0.0005), 63 bias(decay=0.0)\n",
      "\u001b[34m\u001b[1mTensorBoard: \u001b[0mmodel graph visualization added ✅\n",
      "Image sizes 256 train, 256 val\n",
      "Using 8 dataloader workers\n",
      "Logging results to \u001b[1mruns/detect/train\u001b[0m\n",
      "Starting training for 30 epochs...\n",
      "\n",
      "      Epoch    GPU_mem   box_loss   cls_loss   dfl_loss  Instances       Size\n"
     ]
    },
    {
     "name": "stderr",
     "output_type": "stream",
     "text": [
      "       1/30      1.56G     0.7784       1.41     0.9483         47        256: 100%|██████████| 10/10 [00:06<00:00,  1.59it/s]\n",
      "                 Class     Images  Instances      Box(P          R      mAP50  mAP50-95): 100%|██████████| 2/2 [00:02<00:00,  1.00s/it]"
     ]
    },
    {
     "name": "stdout",
     "output_type": "stream",
     "text": [
      "                   all         39        137      0.924      0.942      0.963      0.819\n"
     ]
    },
    {
     "name": "stderr",
     "output_type": "stream",
     "text": [
      "\n"
     ]
    },
    {
     "name": "stdout",
     "output_type": "stream",
     "text": [
      "\n",
      "      Epoch    GPU_mem   box_loss   cls_loss   dfl_loss  Instances       Size\n"
     ]
    },
    {
     "name": "stderr",
     "output_type": "stream",
     "text": [
      "       2/30      1.46G      0.705     0.5909     0.9023         55        256: 100%|██████████| 10/10 [00:04<00:00,  2.03it/s]\n",
      "                 Class     Images  Instances      Box(P          R      mAP50  mAP50-95): 100%|██████████| 2/2 [00:00<00:00,  3.97it/s]"
     ]
    },
    {
     "name": "stdout",
     "output_type": "stream",
     "text": [
      "                   all         39        137      0.936      0.968      0.982      0.852\n"
     ]
    },
    {
     "name": "stderr",
     "output_type": "stream",
     "text": [
      "\n"
     ]
    },
    {
     "name": "stdout",
     "output_type": "stream",
     "text": [
      "\n",
      "      Epoch    GPU_mem   box_loss   cls_loss   dfl_loss  Instances       Size\n"
     ]
    },
    {
     "name": "stderr",
     "output_type": "stream",
     "text": [
      "       3/30      1.46G     0.6817      0.504     0.8808         34        256: 100%|██████████| 10/10 [00:04<00:00,  2.18it/s]\n",
      "                 Class     Images  Instances      Box(P          R      mAP50  mAP50-95): 100%|██████████| 2/2 [00:00<00:00,  6.25it/s]\n"
     ]
    },
    {
     "name": "stdout",
     "output_type": "stream",
     "text": [
      "                   all         39        137      0.931      0.986      0.982      0.814\n",
      "\n",
      "      Epoch    GPU_mem   box_loss   cls_loss   dfl_loss  Instances       Size\n"
     ]
    },
    {
     "name": "stderr",
     "output_type": "stream",
     "text": [
      "       4/30      1.46G     0.6849     0.4989     0.8865         39        256: 100%|██████████| 10/10 [00:07<00:00,  1.39it/s]\n",
      "                 Class     Images  Instances      Box(P          R      mAP50  mAP50-95): 100%|██████████| 2/2 [00:01<00:00,  1.69it/s]"
     ]
    },
    {
     "name": "stdout",
     "output_type": "stream",
     "text": [
      "                   all         39        137      0.948      0.985      0.986       0.85\n"
     ]
    },
    {
     "name": "stderr",
     "output_type": "stream",
     "text": [
      "\n"
     ]
    },
    {
     "name": "stdout",
     "output_type": "stream",
     "text": [
      "\n",
      "      Epoch    GPU_mem   box_loss   cls_loss   dfl_loss  Instances       Size\n"
     ]
    },
    {
     "name": "stderr",
     "output_type": "stream",
     "text": [
      "       5/30      1.46G     0.6459     0.4644     0.8604         51        256: 100%|██████████| 10/10 [00:06<00:00,  1.53it/s]\n",
      "                 Class     Images  Instances      Box(P          R      mAP50  mAP50-95): 100%|██████████| 2/2 [00:00<00:00,  2.48it/s]"
     ]
    },
    {
     "name": "stdout",
     "output_type": "stream",
     "text": [
      "                   all         39        137      0.975      0.978      0.988      0.842\n"
     ]
    },
    {
     "name": "stderr",
     "output_type": "stream",
     "text": [
      "\n"
     ]
    },
    {
     "name": "stdout",
     "output_type": "stream",
     "text": [
      "\n",
      "      Epoch    GPU_mem   box_loss   cls_loss   dfl_loss  Instances       Size\n"
     ]
    },
    {
     "name": "stderr",
     "output_type": "stream",
     "text": [
      "       6/30      1.46G     0.6838     0.5156     0.8903         40        256: 100%|██████████| 10/10 [00:04<00:00,  2.28it/s]\n",
      "                 Class     Images  Instances      Box(P          R      mAP50  mAP50-95): 100%|██████████| 2/2 [00:01<00:00,  1.24it/s]"
     ]
    },
    {
     "name": "stdout",
     "output_type": "stream",
     "text": [
      "                   all         39        137      0.966      0.978      0.972      0.838\n"
     ]
    },
    {
     "name": "stderr",
     "output_type": "stream",
     "text": [
      "\n"
     ]
    },
    {
     "name": "stdout",
     "output_type": "stream",
     "text": [
      "\n",
      "      Epoch    GPU_mem   box_loss   cls_loss   dfl_loss  Instances       Size\n"
     ]
    },
    {
     "name": "stderr",
     "output_type": "stream",
     "text": [
      "       7/30      1.46G     0.6564     0.5149     0.8891         21        256: 100%|██████████| 10/10 [00:05<00:00,  1.76it/s]\n",
      "                 Class     Images  Instances      Box(P          R      mAP50  mAP50-95): 100%|██████████| 2/2 [00:01<00:00,  1.10it/s]"
     ]
    },
    {
     "name": "stdout",
     "output_type": "stream",
     "text": [
      "                   all         39        137      0.933      0.964      0.984      0.845\n"
     ]
    },
    {
     "name": "stderr",
     "output_type": "stream",
     "text": [
      "\n"
     ]
    },
    {
     "name": "stdout",
     "output_type": "stream",
     "text": [
      "\n",
      "      Epoch    GPU_mem   box_loss   cls_loss   dfl_loss  Instances       Size\n"
     ]
    },
    {
     "name": "stderr",
     "output_type": "stream",
     "text": [
      "       8/30      1.46G     0.6166     0.4645      0.863         50        256: 100%|██████████| 10/10 [00:03<00:00,  2.93it/s]\n",
      "                 Class     Images  Instances      Box(P          R      mAP50  mAP50-95): 100%|██████████| 2/2 [00:01<00:00,  1.01it/s]"
     ]
    },
    {
     "name": "stdout",
     "output_type": "stream",
     "text": [
      "                   all         39        137      0.966      0.956      0.988       0.85\n"
     ]
    },
    {
     "name": "stderr",
     "output_type": "stream",
     "text": [
      "\n"
     ]
    },
    {
     "name": "stdout",
     "output_type": "stream",
     "text": [
      "\n",
      "      Epoch    GPU_mem   box_loss   cls_loss   dfl_loss  Instances       Size\n"
     ]
    },
    {
     "name": "stderr",
     "output_type": "stream",
     "text": [
      "       9/30      1.46G     0.6165     0.4505     0.8808         57        256: 100%|██████████| 10/10 [00:03<00:00,  2.70it/s]\n",
      "                 Class     Images  Instances      Box(P          R      mAP50  mAP50-95): 100%|██████████| 2/2 [00:00<00:00,  2.20it/s]"
     ]
    },
    {
     "name": "stdout",
     "output_type": "stream",
     "text": [
      "                   all         39        137       0.95      0.976      0.978      0.838\n"
     ]
    },
    {
     "name": "stderr",
     "output_type": "stream",
     "text": [
      "\n"
     ]
    },
    {
     "name": "stdout",
     "output_type": "stream",
     "text": [
      "\n",
      "      Epoch    GPU_mem   box_loss   cls_loss   dfl_loss  Instances       Size\n"
     ]
    },
    {
     "name": "stderr",
     "output_type": "stream",
     "text": [
      "      10/30      1.46G     0.6148     0.4391     0.8749         55        256: 100%|██████████| 10/10 [00:06<00:00,  1.67it/s]\n",
      "                 Class     Images  Instances      Box(P          R      mAP50  mAP50-95): 100%|██████████| 2/2 [00:01<00:00,  1.00it/s]"
     ]
    },
    {
     "name": "stdout",
     "output_type": "stream",
     "text": [
      "                   all         39        137      0.955       0.94       0.97      0.812\n"
     ]
    },
    {
     "name": "stderr",
     "output_type": "stream",
     "text": [
      "\n"
     ]
    },
    {
     "name": "stdout",
     "output_type": "stream",
     "text": [
      "\n",
      "      Epoch    GPU_mem   box_loss   cls_loss   dfl_loss  Instances       Size\n"
     ]
    },
    {
     "name": "stderr",
     "output_type": "stream",
     "text": [
      "      11/30      1.46G     0.6506     0.4589     0.8662         38        256: 100%|██████████| 10/10 [00:05<00:00,  1.70it/s]\n",
      "                 Class     Images  Instances      Box(P          R      mAP50  mAP50-95): 100%|██████████| 2/2 [00:00<00:00,  2.89it/s]"
     ]
    },
    {
     "name": "stdout",
     "output_type": "stream",
     "text": [
      "                   all         39        137      0.956      0.963      0.968      0.833\n"
     ]
    },
    {
     "name": "stderr",
     "output_type": "stream",
     "text": [
      "\n"
     ]
    },
    {
     "name": "stdout",
     "output_type": "stream",
     "text": [
      "\n",
      "      Epoch    GPU_mem   box_loss   cls_loss   dfl_loss  Instances       Size\n"
     ]
    },
    {
     "name": "stderr",
     "output_type": "stream",
     "text": [
      "      12/30      1.46G      0.602     0.4271     0.8629         36        256: 100%|██████████| 10/10 [00:03<00:00,  2.76it/s]\n",
      "                 Class     Images  Instances      Box(P          R      mAP50  mAP50-95): 100%|██████████| 2/2 [00:03<00:00,  1.71s/it]"
     ]
    },
    {
     "name": "stdout",
     "output_type": "stream",
     "text": [
      "                   all         39        137      0.949      0.964      0.974      0.821\n"
     ]
    },
    {
     "name": "stderr",
     "output_type": "stream",
     "text": [
      "\n"
     ]
    },
    {
     "name": "stdout",
     "output_type": "stream",
     "text": [
      "\n",
      "      Epoch    GPU_mem   box_loss   cls_loss   dfl_loss  Instances       Size\n"
     ]
    },
    {
     "name": "stderr",
     "output_type": "stream",
     "text": [
      "      13/30      1.46G     0.5889     0.4144     0.8711         51        256: 100%|██████████| 10/10 [00:03<00:00,  2.63it/s]\n",
      "                 Class     Images  Instances      Box(P          R      mAP50  mAP50-95): 100%|██████████| 2/2 [00:02<00:00,  1.04s/it]"
     ]
    },
    {
     "name": "stdout",
     "output_type": "stream",
     "text": [
      "                   all         39        137       0.86      0.942      0.909      0.778\n"
     ]
    },
    {
     "name": "stderr",
     "output_type": "stream",
     "text": [
      "\n"
     ]
    },
    {
     "name": "stdout",
     "output_type": "stream",
     "text": [
      "\n",
      "      Epoch    GPU_mem   box_loss   cls_loss   dfl_loss  Instances       Size\n"
     ]
    },
    {
     "name": "stderr",
     "output_type": "stream",
     "text": [
      "      14/30      1.46G      0.599     0.4073     0.8692         52        256: 100%|██████████| 10/10 [00:02<00:00,  3.48it/s]\n",
      "                 Class     Images  Instances      Box(P          R      mAP50  mAP50-95): 100%|██████████| 2/2 [00:01<00:00,  1.51it/s]"
     ]
    },
    {
     "name": "stdout",
     "output_type": "stream",
     "text": [
      "                   all         39        137      0.893       0.91       0.93      0.749\n"
     ]
    },
    {
     "name": "stderr",
     "output_type": "stream",
     "text": [
      "\n"
     ]
    },
    {
     "name": "stdout",
     "output_type": "stream",
     "text": [
      "\n",
      "      Epoch    GPU_mem   box_loss   cls_loss   dfl_loss  Instances       Size\n"
     ]
    },
    {
     "name": "stderr",
     "output_type": "stream",
     "text": [
      "      15/30      1.46G     0.5752     0.4024     0.8674         47        256: 100%|██████████| 10/10 [00:01<00:00,  5.73it/s]\n",
      "                 Class     Images  Instances      Box(P          R      mAP50  mAP50-95): 100%|██████████| 2/2 [00:00<00:00,  6.43it/s]"
     ]
    },
    {
     "name": "stdout",
     "output_type": "stream",
     "text": [
      "                   all         39        137      0.959      0.956      0.979      0.866\n"
     ]
    },
    {
     "name": "stderr",
     "output_type": "stream",
     "text": [
      "\n"
     ]
    },
    {
     "name": "stdout",
     "output_type": "stream",
     "text": [
      "\n",
      "      Epoch    GPU_mem   box_loss   cls_loss   dfl_loss  Instances       Size\n"
     ]
    },
    {
     "name": "stderr",
     "output_type": "stream",
     "text": [
      "      16/30      1.43G     0.5423     0.3912     0.8594         31        256: 100%|██████████| 10/10 [00:01<00:00,  5.53it/s]\n",
      "                 Class     Images  Instances      Box(P          R      mAP50  mAP50-95): 100%|██████████| 2/2 [00:00<00:00,  6.68it/s]"
     ]
    },
    {
     "name": "stdout",
     "output_type": "stream",
     "text": [
      "                   all         39        137      0.971      0.968      0.983      0.873\n"
     ]
    },
    {
     "name": "stderr",
     "output_type": "stream",
     "text": [
      "\n"
     ]
    },
    {
     "name": "stdout",
     "output_type": "stream",
     "text": [
      "\n",
      "      Epoch    GPU_mem   box_loss   cls_loss   dfl_loss  Instances       Size\n"
     ]
    },
    {
     "name": "stderr",
     "output_type": "stream",
     "text": [
      "      17/30      1.43G     0.5477     0.3799      0.864         23        256: 100%|██████████| 10/10 [00:02<00:00,  4.72it/s]\n",
      "                 Class     Images  Instances      Box(P          R      mAP50  mAP50-95): 100%|██████████| 2/2 [00:00<00:00,  5.00it/s]"
     ]
    },
    {
     "name": "stdout",
     "output_type": "stream",
     "text": [
      "                   all         39        137      0.979      0.971      0.987      0.885\n"
     ]
    },
    {
     "name": "stderr",
     "output_type": "stream",
     "text": [
      "\n"
     ]
    },
    {
     "name": "stdout",
     "output_type": "stream",
     "text": [
      "\n",
      "      Epoch    GPU_mem   box_loss   cls_loss   dfl_loss  Instances       Size\n"
     ]
    },
    {
     "name": "stderr",
     "output_type": "stream",
     "text": [
      "      18/30      1.43G      0.552     0.3953     0.8586         37        256: 100%|██████████| 10/10 [00:01<00:00,  8.56it/s]\n",
      "                 Class     Images  Instances      Box(P          R      mAP50  mAP50-95): 100%|██████████| 2/2 [00:01<00:00,  1.44it/s]"
     ]
    },
    {
     "name": "stdout",
     "output_type": "stream",
     "text": [
      "                   all         39        137      0.969      0.971      0.986      0.891\n"
     ]
    },
    {
     "name": "stderr",
     "output_type": "stream",
     "text": [
      "\n"
     ]
    },
    {
     "name": "stdout",
     "output_type": "stream",
     "text": [
      "\n",
      "      Epoch    GPU_mem   box_loss   cls_loss   dfl_loss  Instances       Size\n"
     ]
    },
    {
     "name": "stderr",
     "output_type": "stream",
     "text": [
      "      19/30      1.44G     0.5103     0.3659     0.8456         58        256: 100%|██████████| 10/10 [00:02<00:00,  4.73it/s]\n",
      "                 Class     Images  Instances      Box(P          R      mAP50  mAP50-95): 100%|██████████| 2/2 [00:00<00:00,  6.47it/s]"
     ]
    },
    {
     "name": "stdout",
     "output_type": "stream",
     "text": [
      "                   all         39        137      0.958      0.991      0.984      0.891\n"
     ]
    },
    {
     "name": "stderr",
     "output_type": "stream",
     "text": [
      "\n"
     ]
    },
    {
     "name": "stdout",
     "output_type": "stream",
     "text": [
      "\n",
      "      Epoch    GPU_mem   box_loss   cls_loss   dfl_loss  Instances       Size\n"
     ]
    },
    {
     "name": "stderr",
     "output_type": "stream",
     "text": [
      "      20/30      1.44G     0.5182     0.3665     0.8471         42        256: 100%|██████████| 10/10 [00:02<00:00,  4.69it/s]\n",
      "                 Class     Images  Instances      Box(P          R      mAP50  mAP50-95): 100%|██████████| 2/2 [00:00<00:00,  4.84it/s]"
     ]
    },
    {
     "name": "stdout",
     "output_type": "stream",
     "text": [
      "                   all         39        137      0.978       0.99      0.988      0.895\n"
     ]
    },
    {
     "name": "stderr",
     "output_type": "stream",
     "text": [
      "\n"
     ]
    },
    {
     "name": "stdout",
     "output_type": "stream",
     "text": [
      "Closing dataloader mosaic\n",
      "\u001b[34m\u001b[1malbumentations: \u001b[0mBlur(p=0.01, blur_limit=(3, 7)), MedianBlur(p=0.01, blur_limit=(3, 7)), ToGray(p=0.01), CLAHE(p=0.01, clip_limit=(1, 4.0), tile_grid_size=(8, 8))\n",
      "\n",
      "      Epoch    GPU_mem   box_loss   cls_loss   dfl_loss  Instances       Size\n"
     ]
    },
    {
     "name": "stderr",
     "output_type": "stream",
     "text": [
      "      21/30      1.43G     0.4583     0.3398     0.7957          9        256: 100%|██████████| 10/10 [00:05<00:00,  1.83it/s]\n",
      "                 Class     Images  Instances      Box(P          R      mAP50  mAP50-95): 100%|██████████| 2/2 [00:00<00:00,  2.41it/s]"
     ]
    },
    {
     "name": "stdout",
     "output_type": "stream",
     "text": [
      "                   all         39        137      0.978      0.985      0.987      0.889\n"
     ]
    },
    {
     "name": "stderr",
     "output_type": "stream",
     "text": [
      "\n"
     ]
    },
    {
     "name": "stdout",
     "output_type": "stream",
     "text": [
      "\n",
      "      Epoch    GPU_mem   box_loss   cls_loss   dfl_loss  Instances       Size\n"
     ]
    },
    {
     "name": "stderr",
     "output_type": "stream",
     "text": [
      "      22/30      1.48G     0.4499     0.3288     0.8191         24        256: 100%|██████████| 10/10 [00:02<00:00,  3.57it/s]\n",
      "                 Class     Images  Instances      Box(P          R      mAP50  mAP50-95): 100%|██████████| 2/2 [00:00<00:00,  3.66it/s]"
     ]
    },
    {
     "name": "stdout",
     "output_type": "stream",
     "text": [
      "                   all         39        137      0.978      0.985      0.988      0.892\n"
     ]
    },
    {
     "name": "stderr",
     "output_type": "stream",
     "text": [
      "\n"
     ]
    },
    {
     "name": "stdout",
     "output_type": "stream",
     "text": [
      "\n",
      "      Epoch    GPU_mem   box_loss   cls_loss   dfl_loss  Instances       Size\n"
     ]
    },
    {
     "name": "stderr",
     "output_type": "stream",
     "text": [
      "      23/30      1.48G       0.46     0.3215     0.8205         13        256: 100%|██████████| 10/10 [00:01<00:00,  5.56it/s]\n",
      "                 Class     Images  Instances      Box(P          R      mAP50  mAP50-95): 100%|██████████| 2/2 [00:00<00:00,  4.90it/s]"
     ]
    },
    {
     "name": "stdout",
     "output_type": "stream",
     "text": [
      "                   all         39        137      0.985      0.993      0.987      0.888\n"
     ]
    },
    {
     "name": "stderr",
     "output_type": "stream",
     "text": [
      "\n"
     ]
    },
    {
     "name": "stdout",
     "output_type": "stream",
     "text": [
      "\n",
      "      Epoch    GPU_mem   box_loss   cls_loss   dfl_loss  Instances       Size\n"
     ]
    },
    {
     "name": "stderr",
     "output_type": "stream",
     "text": [
      "      24/30      1.48G     0.4701     0.3276     0.8234         21        256: 100%|██████████| 10/10 [00:01<00:00,  7.37it/s]\n",
      "                 Class     Images  Instances      Box(P          R      mAP50  mAP50-95): 100%|██████████| 2/2 [00:01<00:00,  1.38it/s]"
     ]
    },
    {
     "name": "stdout",
     "output_type": "stream",
     "text": [
      "                   all         39        137      0.978      0.993      0.987      0.885\n"
     ]
    },
    {
     "name": "stderr",
     "output_type": "stream",
     "text": [
      "\n"
     ]
    },
    {
     "name": "stdout",
     "output_type": "stream",
     "text": [
      "\n",
      "      Epoch    GPU_mem   box_loss   cls_loss   dfl_loss  Instances       Size\n"
     ]
    },
    {
     "name": "stderr",
     "output_type": "stream",
     "text": [
      "      25/30      1.48G     0.4447     0.3015     0.8085         10        256: 100%|██████████| 10/10 [00:01<00:00,  5.16it/s]\n",
      "                 Class     Images  Instances      Box(P          R      mAP50  mAP50-95): 100%|██████████| 2/2 [00:00<00:00,  4.81it/s]"
     ]
    },
    {
     "name": "stdout",
     "output_type": "stream",
     "text": [
      "                   all         39        137      0.978      0.992      0.987      0.887\n"
     ]
    },
    {
     "name": "stderr",
     "output_type": "stream",
     "text": [
      "\n"
     ]
    },
    {
     "name": "stdout",
     "output_type": "stream",
     "text": [
      "\n",
      "      Epoch    GPU_mem   box_loss   cls_loss   dfl_loss  Instances       Size\n"
     ]
    },
    {
     "name": "stderr",
     "output_type": "stream",
     "text": [
      "      26/30      1.48G     0.4423      0.309     0.8135         14        256: 100%|██████████| 10/10 [00:02<00:00,  3.77it/s]\n",
      "                 Class     Images  Instances      Box(P          R      mAP50  mAP50-95): 100%|██████████| 2/2 [00:00<00:00, 16.51it/s]"
     ]
    },
    {
     "name": "stdout",
     "output_type": "stream",
     "text": [
      "                   all         39        137      0.978      0.992      0.985      0.885\n"
     ]
    },
    {
     "name": "stderr",
     "output_type": "stream",
     "text": [
      "\n"
     ]
    },
    {
     "name": "stdout",
     "output_type": "stream",
     "text": [
      "\n",
      "      Epoch    GPU_mem   box_loss   cls_loss   dfl_loss  Instances       Size\n"
     ]
    },
    {
     "name": "stderr",
     "output_type": "stream",
     "text": [
      "      27/30      1.48G     0.4344     0.3047     0.8086         17        256: 100%|██████████| 10/10 [00:00<00:00, 12.64it/s]\n",
      "                 Class     Images  Instances      Box(P          R      mAP50  mAP50-95): 100%|██████████| 2/2 [00:00<00:00, 16.81it/s]"
     ]
    },
    {
     "name": "stdout",
     "output_type": "stream",
     "text": [
      "                   all         39        137      0.978      0.992      0.985      0.894\n"
     ]
    },
    {
     "name": "stderr",
     "output_type": "stream",
     "text": [
      "\n"
     ]
    },
    {
     "name": "stdout",
     "output_type": "stream",
     "text": [
      "\n",
      "      Epoch    GPU_mem   box_loss   cls_loss   dfl_loss  Instances       Size\n"
     ]
    },
    {
     "name": "stderr",
     "output_type": "stream",
     "text": [
      "      28/30      1.48G     0.4411      0.299     0.8079         17        256: 100%|██████████| 10/10 [00:00<00:00, 12.63it/s]\n",
      "                 Class     Images  Instances      Box(P          R      mAP50  mAP50-95): 100%|██████████| 2/2 [00:00<00:00, 16.50it/s]"
     ]
    },
    {
     "name": "stdout",
     "output_type": "stream",
     "text": [
      "                   all         39        137      0.976      0.985      0.987      0.904\n"
     ]
    },
    {
     "name": "stderr",
     "output_type": "stream",
     "text": [
      "\n"
     ]
    },
    {
     "name": "stdout",
     "output_type": "stream",
     "text": [
      "\n",
      "      Epoch    GPU_mem   box_loss   cls_loss   dfl_loss  Instances       Size\n"
     ]
    },
    {
     "name": "stderr",
     "output_type": "stream",
     "text": [
      "      29/30      1.48G     0.4103     0.2795      0.796         26        256: 100%|██████████| 10/10 [00:00<00:00, 12.74it/s]\n",
      "                 Class     Images  Instances      Box(P          R      mAP50  mAP50-95): 100%|██████████| 2/2 [00:00<00:00, 16.51it/s]"
     ]
    },
    {
     "name": "stdout",
     "output_type": "stream",
     "text": [
      "                   all         39        137      0.976      0.985      0.987      0.904\n"
     ]
    },
    {
     "name": "stderr",
     "output_type": "stream",
     "text": [
      "\n"
     ]
    },
    {
     "name": "stdout",
     "output_type": "stream",
     "text": [
      "\n",
      "      Epoch    GPU_mem   box_loss   cls_loss   dfl_loss  Instances       Size\n"
     ]
    },
    {
     "name": "stderr",
     "output_type": "stream",
     "text": [
      "      30/30      1.48G      0.385     0.2725       0.79         18        256: 100%|██████████| 10/10 [00:00<00:00, 12.40it/s]\n",
      "                 Class     Images  Instances      Box(P          R      mAP50  mAP50-95): 100%|██████████| 2/2 [00:00<00:00, 16.54it/s]"
     ]
    },
    {
     "name": "stdout",
     "output_type": "stream",
     "text": [
      "                   all         39        137      0.978      0.991      0.987      0.901\n"
     ]
    },
    {
     "name": "stderr",
     "output_type": "stream",
     "text": [
      "\n"
     ]
    },
    {
     "name": "stdout",
     "output_type": "stream",
     "text": [
      "\n",
      "30 epochs completed in 0.058 hours.\n",
      "Optimizer stripped from runs/detect/train/weights/last.pt, 22.5MB\n",
      "Optimizer stripped from runs/detect/train/weights/best.pt, 22.5MB\n",
      "\n",
      "Validating runs/detect/train/weights/best.pt...\n",
      "Ultralytics 8.3.38 🚀 Python-3.9.10 torch-1.13.1 CUDA:0 (NVIDIA A100 80GB PCIe MIG 1g.10gb, 9728MiB)\n",
      "Model summary (fused): 168 layers, 11,125,971 parameters, 0 gradients, 28.4 GFLOPs\n"
     ]
    },
    {
     "name": "stderr",
     "output_type": "stream",
     "text": [
      "                 Class     Images  Instances      Box(P          R      mAP50  mAP50-95): 100%|██████████| 2/2 [00:00<00:00, 12.53it/s]\n"
     ]
    },
    {
     "name": "stdout",
     "output_type": "stream",
     "text": [
      "                   all         39        137      0.976      0.985      0.987      0.904\n",
      "Speed: 0.3ms preprocess, 1.4ms inference, 0.0ms loss, 0.3ms postprocess per image\n",
      "Results saved to \u001b[1mruns/detect/train\u001b[0m\n"
     ]
    },
    {
     "data": {
      "text/plain": [
       "ultralytics.utils.metrics.DetMetrics object with attributes:\n",
       "\n",
       "ap_class_index: array([0])\n",
       "box: ultralytics.utils.metrics.Metric object\n",
       "confusion_matrix: <ultralytics.utils.metrics.ConfusionMatrix object at 0x7fa72e0a96d0>\n",
       "curves: ['Precision-Recall(B)', 'F1-Confidence(B)', 'Precision-Confidence(B)', 'Recall-Confidence(B)']\n",
       "curves_results: [[array([          0,    0.001001,    0.002002,    0.003003,    0.004004,    0.005005,    0.006006,    0.007007,    0.008008,    0.009009,     0.01001,    0.011011,    0.012012,    0.013013,    0.014014,    0.015015,    0.016016,    0.017017,    0.018018,    0.019019,     0.02002,    0.021021,    0.022022,    0.023023,\n",
       "          0.024024,    0.025025,    0.026026,    0.027027,    0.028028,    0.029029,     0.03003,    0.031031,    0.032032,    0.033033,    0.034034,    0.035035,    0.036036,    0.037037,    0.038038,    0.039039,     0.04004,    0.041041,    0.042042,    0.043043,    0.044044,    0.045045,    0.046046,    0.047047,\n",
       "          0.048048,    0.049049,     0.05005,    0.051051,    0.052052,    0.053053,    0.054054,    0.055055,    0.056056,    0.057057,    0.058058,    0.059059,     0.06006,    0.061061,    0.062062,    0.063063,    0.064064,    0.065065,    0.066066,    0.067067,    0.068068,    0.069069,     0.07007,    0.071071,\n",
       "          0.072072,    0.073073,    0.074074,    0.075075,    0.076076,    0.077077,    0.078078,    0.079079,     0.08008,    0.081081,    0.082082,    0.083083,    0.084084,    0.085085,    0.086086,    0.087087,    0.088088,    0.089089,     0.09009,    0.091091,    0.092092,    0.093093,    0.094094,    0.095095,\n",
       "          0.096096,    0.097097,    0.098098,    0.099099,      0.1001,      0.1011,      0.1021,      0.1031,      0.1041,     0.10511,     0.10611,     0.10711,     0.10811,     0.10911,     0.11011,     0.11111,     0.11211,     0.11311,     0.11411,     0.11512,     0.11612,     0.11712,     0.11812,     0.11912,\n",
       "           0.12012,     0.12112,     0.12212,     0.12312,     0.12412,     0.12513,     0.12613,     0.12713,     0.12813,     0.12913,     0.13013,     0.13113,     0.13213,     0.13313,     0.13413,     0.13514,     0.13614,     0.13714,     0.13814,     0.13914,     0.14014,     0.14114,     0.14214,     0.14314,\n",
       "           0.14414,     0.14515,     0.14615,     0.14715,     0.14815,     0.14915,     0.15015,     0.15115,     0.15215,     0.15315,     0.15415,     0.15516,     0.15616,     0.15716,     0.15816,     0.15916,     0.16016,     0.16116,     0.16216,     0.16316,     0.16416,     0.16517,     0.16617,     0.16717,\n",
       "           0.16817,     0.16917,     0.17017,     0.17117,     0.17217,     0.17317,     0.17417,     0.17518,     0.17618,     0.17718,     0.17818,     0.17918,     0.18018,     0.18118,     0.18218,     0.18318,     0.18418,     0.18519,     0.18619,     0.18719,     0.18819,     0.18919,     0.19019,     0.19119,\n",
       "           0.19219,     0.19319,     0.19419,      0.1952,      0.1962,      0.1972,      0.1982,      0.1992,      0.2002,      0.2012,      0.2022,      0.2032,      0.2042,     0.20521,     0.20621,     0.20721,     0.20821,     0.20921,     0.21021,     0.21121,     0.21221,     0.21321,     0.21421,     0.21522,\n",
       "           0.21622,     0.21722,     0.21822,     0.21922,     0.22022,     0.22122,     0.22222,     0.22322,     0.22422,     0.22523,     0.22623,     0.22723,     0.22823,     0.22923,     0.23023,     0.23123,     0.23223,     0.23323,     0.23423,     0.23524,     0.23624,     0.23724,     0.23824,     0.23924,\n",
       "           0.24024,     0.24124,     0.24224,     0.24324,     0.24424,     0.24525,     0.24625,     0.24725,     0.24825,     0.24925,     0.25025,     0.25125,     0.25225,     0.25325,     0.25425,     0.25526,     0.25626,     0.25726,     0.25826,     0.25926,     0.26026,     0.26126,     0.26226,     0.26326,\n",
       "           0.26426,     0.26527,     0.26627,     0.26727,     0.26827,     0.26927,     0.27027,     0.27127,     0.27227,     0.27327,     0.27427,     0.27528,     0.27628,     0.27728,     0.27828,     0.27928,     0.28028,     0.28128,     0.28228,     0.28328,     0.28428,     0.28529,     0.28629,     0.28729,\n",
       "           0.28829,     0.28929,     0.29029,     0.29129,     0.29229,     0.29329,     0.29429,      0.2953,      0.2963,      0.2973,      0.2983,      0.2993,      0.3003,      0.3013,      0.3023,      0.3033,      0.3043,     0.30531,     0.30631,     0.30731,     0.30831,     0.30931,     0.31031,     0.31131,\n",
       "           0.31231,     0.31331,     0.31431,     0.31532,     0.31632,     0.31732,     0.31832,     0.31932,     0.32032,     0.32132,     0.32232,     0.32332,     0.32432,     0.32533,     0.32633,     0.32733,     0.32833,     0.32933,     0.33033,     0.33133,     0.33233,     0.33333,     0.33433,     0.33534,\n",
       "           0.33634,     0.33734,     0.33834,     0.33934,     0.34034,     0.34134,     0.34234,     0.34334,     0.34434,     0.34535,     0.34635,     0.34735,     0.34835,     0.34935,     0.35035,     0.35135,     0.35235,     0.35335,     0.35435,     0.35536,     0.35636,     0.35736,     0.35836,     0.35936,\n",
       "           0.36036,     0.36136,     0.36236,     0.36336,     0.36436,     0.36537,     0.36637,     0.36737,     0.36837,     0.36937,     0.37037,     0.37137,     0.37237,     0.37337,     0.37437,     0.37538,     0.37638,     0.37738,     0.37838,     0.37938,     0.38038,     0.38138,     0.38238,     0.38338,\n",
       "           0.38438,     0.38539,     0.38639,     0.38739,     0.38839,     0.38939,     0.39039,     0.39139,     0.39239,     0.39339,     0.39439,      0.3954,      0.3964,      0.3974,      0.3984,      0.3994,      0.4004,      0.4014,      0.4024,      0.4034,      0.4044,     0.40541,     0.40641,     0.40741,\n",
       "           0.40841,     0.40941,     0.41041,     0.41141,     0.41241,     0.41341,     0.41441,     0.41542,     0.41642,     0.41742,     0.41842,     0.41942,     0.42042,     0.42142,     0.42242,     0.42342,     0.42442,     0.42543,     0.42643,     0.42743,     0.42843,     0.42943,     0.43043,     0.43143,\n",
       "           0.43243,     0.43343,     0.43443,     0.43544,     0.43644,     0.43744,     0.43844,     0.43944,     0.44044,     0.44144,     0.44244,     0.44344,     0.44444,     0.44545,     0.44645,     0.44745,     0.44845,     0.44945,     0.45045,     0.45145,     0.45245,     0.45345,     0.45445,     0.45546,\n",
       "           0.45646,     0.45746,     0.45846,     0.45946,     0.46046,     0.46146,     0.46246,     0.46346,     0.46446,     0.46547,     0.46647,     0.46747,     0.46847,     0.46947,     0.47047,     0.47147,     0.47247,     0.47347,     0.47447,     0.47548,     0.47648,     0.47748,     0.47848,     0.47948,\n",
       "           0.48048,     0.48148,     0.48248,     0.48348,     0.48448,     0.48549,     0.48649,     0.48749,     0.48849,     0.48949,     0.49049,     0.49149,     0.49249,     0.49349,     0.49449,      0.4955,      0.4965,      0.4975,      0.4985,      0.4995,      0.5005,      0.5015,      0.5025,      0.5035,\n",
       "            0.5045,     0.50551,     0.50651,     0.50751,     0.50851,     0.50951,     0.51051,     0.51151,     0.51251,     0.51351,     0.51451,     0.51552,     0.51652,     0.51752,     0.51852,     0.51952,     0.52052,     0.52152,     0.52252,     0.52352,     0.52452,     0.52553,     0.52653,     0.52753,\n",
       "           0.52853,     0.52953,     0.53053,     0.53153,     0.53253,     0.53353,     0.53453,     0.53554,     0.53654,     0.53754,     0.53854,     0.53954,     0.54054,     0.54154,     0.54254,     0.54354,     0.54454,     0.54555,     0.54655,     0.54755,     0.54855,     0.54955,     0.55055,     0.55155,\n",
       "           0.55255,     0.55355,     0.55455,     0.55556,     0.55656,     0.55756,     0.55856,     0.55956,     0.56056,     0.56156,     0.56256,     0.56356,     0.56456,     0.56557,     0.56657,     0.56757,     0.56857,     0.56957,     0.57057,     0.57157,     0.57257,     0.57357,     0.57457,     0.57558,\n",
       "           0.57658,     0.57758,     0.57858,     0.57958,     0.58058,     0.58158,     0.58258,     0.58358,     0.58458,     0.58559,     0.58659,     0.58759,     0.58859,     0.58959,     0.59059,     0.59159,     0.59259,     0.59359,     0.59459,      0.5956,      0.5966,      0.5976,      0.5986,      0.5996,\n",
       "            0.6006,      0.6016,      0.6026,      0.6036,      0.6046,     0.60561,     0.60661,     0.60761,     0.60861,     0.60961,     0.61061,     0.61161,     0.61261,     0.61361,     0.61461,     0.61562,     0.61662,     0.61762,     0.61862,     0.61962,     0.62062,     0.62162,     0.62262,     0.62362,\n",
       "           0.62462,     0.62563,     0.62663,     0.62763,     0.62863,     0.62963,     0.63063,     0.63163,     0.63263,     0.63363,     0.63463,     0.63564,     0.63664,     0.63764,     0.63864,     0.63964,     0.64064,     0.64164,     0.64264,     0.64364,     0.64464,     0.64565,     0.64665,     0.64765,\n",
       "           0.64865,     0.64965,     0.65065,     0.65165,     0.65265,     0.65365,     0.65465,     0.65566,     0.65666,     0.65766,     0.65866,     0.65966,     0.66066,     0.66166,     0.66266,     0.66366,     0.66466,     0.66567,     0.66667,     0.66767,     0.66867,     0.66967,     0.67067,     0.67167,\n",
       "           0.67267,     0.67367,     0.67467,     0.67568,     0.67668,     0.67768,     0.67868,     0.67968,     0.68068,     0.68168,     0.68268,     0.68368,     0.68468,     0.68569,     0.68669,     0.68769,     0.68869,     0.68969,     0.69069,     0.69169,     0.69269,     0.69369,     0.69469,      0.6957,\n",
       "            0.6967,      0.6977,      0.6987,      0.6997,      0.7007,      0.7017,      0.7027,      0.7037,      0.7047,     0.70571,     0.70671,     0.70771,     0.70871,     0.70971,     0.71071,     0.71171,     0.71271,     0.71371,     0.71471,     0.71572,     0.71672,     0.71772,     0.71872,     0.71972,\n",
       "           0.72072,     0.72172,     0.72272,     0.72372,     0.72472,     0.72573,     0.72673,     0.72773,     0.72873,     0.72973,     0.73073,     0.73173,     0.73273,     0.73373,     0.73473,     0.73574,     0.73674,     0.73774,     0.73874,     0.73974,     0.74074,     0.74174,     0.74274,     0.74374,\n",
       "           0.74474,     0.74575,     0.74675,     0.74775,     0.74875,     0.74975,     0.75075,     0.75175,     0.75275,     0.75375,     0.75475,     0.75576,     0.75676,     0.75776,     0.75876,     0.75976,     0.76076,     0.76176,     0.76276,     0.76376,     0.76476,     0.76577,     0.76677,     0.76777,\n",
       "           0.76877,     0.76977,     0.77077,     0.77177,     0.77277,     0.77377,     0.77477,     0.77578,     0.77678,     0.77778,     0.77878,     0.77978,     0.78078,     0.78178,     0.78278,     0.78378,     0.78478,     0.78579,     0.78679,     0.78779,     0.78879,     0.78979,     0.79079,     0.79179,\n",
       "           0.79279,     0.79379,     0.79479,      0.7958,      0.7968,      0.7978,      0.7988,      0.7998,      0.8008,      0.8018,      0.8028,      0.8038,      0.8048,     0.80581,     0.80681,     0.80781,     0.80881,     0.80981,     0.81081,     0.81181,     0.81281,     0.81381,     0.81481,     0.81582,\n",
       "           0.81682,     0.81782,     0.81882,     0.81982,     0.82082,     0.82182,     0.82282,     0.82382,     0.82482,     0.82583,     0.82683,     0.82783,     0.82883,     0.82983,     0.83083,     0.83183,     0.83283,     0.83383,     0.83483,     0.83584,     0.83684,     0.83784,     0.83884,     0.83984,\n",
       "           0.84084,     0.84184,     0.84284,     0.84384,     0.84484,     0.84585,     0.84685,     0.84785,     0.84885,     0.84985,     0.85085,     0.85185,     0.85285,     0.85385,     0.85485,     0.85586,     0.85686,     0.85786,     0.85886,     0.85986,     0.86086,     0.86186,     0.86286,     0.86386,\n",
       "           0.86486,     0.86587,     0.86687,     0.86787,     0.86887,     0.86987,     0.87087,     0.87187,     0.87287,     0.87387,     0.87487,     0.87588,     0.87688,     0.87788,     0.87888,     0.87988,     0.88088,     0.88188,     0.88288,     0.88388,     0.88488,     0.88589,     0.88689,     0.88789,\n",
       "           0.88889,     0.88989,     0.89089,     0.89189,     0.89289,     0.89389,     0.89489,      0.8959,      0.8969,      0.8979,      0.8989,      0.8999,      0.9009,      0.9019,      0.9029,      0.9039,      0.9049,     0.90591,     0.90691,     0.90791,     0.90891,     0.90991,     0.91091,     0.91191,\n",
       "           0.91291,     0.91391,     0.91491,     0.91592,     0.91692,     0.91792,     0.91892,     0.91992,     0.92092,     0.92192,     0.92292,     0.92392,     0.92492,     0.92593,     0.92693,     0.92793,     0.92893,     0.92993,     0.93093,     0.93193,     0.93293,     0.93393,     0.93493,     0.93594,\n",
       "           0.93694,     0.93794,     0.93894,     0.93994,     0.94094,     0.94194,     0.94294,     0.94394,     0.94494,     0.94595,     0.94695,     0.94795,     0.94895,     0.94995,     0.95095,     0.95195,     0.95295,     0.95395,     0.95495,     0.95596,     0.95696,     0.95796,     0.95896,     0.95996,\n",
       "           0.96096,     0.96196,     0.96296,     0.96396,     0.96496,     0.96597,     0.96697,     0.96797,     0.96897,     0.96997,     0.97097,     0.97197,     0.97297,     0.97397,     0.97497,     0.97598,     0.97698,     0.97798,     0.97898,     0.97998,     0.98098,     0.98198,     0.98298,     0.98398,\n",
       "           0.98498,     0.98599,     0.98699,     0.98799,     0.98899,     0.98999,     0.99099,     0.99199,     0.99299,     0.99399,     0.99499,       0.996,       0.997,       0.998,       0.999,           1]), array([[          1,           1,           1,           1,           1,           1,           1,           1,           1,           1,           1,           1,           1,           1,           1,           1,           1,           1,           1,           1,           1,           1,           1,\n",
       "                  1,           1,           1,           1,           1,           1,           1,           1,           1,           1,           1,           1,           1,           1,           1,           1,           1,           1,           1,           1,           1,           1,           1,\n",
       "                  1,           1,           1,           1,           1,           1,           1,           1,           1,           1,           1,           1,           1,           1,           1,           1,           1,           1,           1,           1,           1,           1,           1,\n",
       "                  1,           1,           1,           1,           1,           1,           1,           1,           1,           1,           1,           1,           1,           1,           1,           1,           1,           1,           1,           1,           1,           1,           1,\n",
       "                  1,           1,           1,           1,           1,           1,           1,           1,           1,           1,           1,           1,           1,           1,           1,           1,           1,           1,           1,           1,           1,           1,           1,\n",
       "                  1,           1,           1,           1,           1,           1,           1,           1,           1,           1,           1,           1,           1,           1,           1,           1,           1,           1,           1,           1,           1,           1,           1,\n",
       "                  1,           1,           1,           1,           1,           1,           1,           1,           1,           1,           1,           1,           1,           1,           1,           1,           1,           1,           1,           1,           1,           1,           1,\n",
       "                  1,           1,           1,           1,           1,           1,           1,           1,           1,           1,           1,           1,           1,           1,           1,           1,           1,           1,           1,           1,           1,           1,           1,\n",
       "                  1,           1,           1,           1,           1,           1,           1,           1,           1,           1,           1,           1,           1,           1,           1,           1,           1,           1,           1,           1,           1,           1,           1,\n",
       "                  1,           1,           1,           1,           1,           1,           1,           1,           1,           1,           1,           1,           1,           1,           1,           1,           1,           1,           1,           1,     0.99138,     0.99138,     0.99138,\n",
       "            0.99138,     0.99138,     0.99138,     0.99138,     0.99138,     0.99138,     0.99138,     0.99138,     0.99138,     0.99138,     0.99138,     0.99138,     0.99138,     0.99138,     0.99138,     0.99138,     0.99138,     0.99138,     0.99138,     0.99138,     0.99138,     0.99138,     0.99138,\n",
       "            0.99138,     0.99138,     0.99138,     0.99138,     0.99138,     0.99138,     0.99138,     0.99138,     0.99138,     0.99138,     0.99138,     0.99138,     0.99138,     0.99138,     0.99138,     0.99138,     0.99138,     0.99138,     0.99138,     0.99138,     0.99138,     0.99138,     0.99138,\n",
       "            0.99138,     0.99138,     0.99138,     0.99138,     0.99138,     0.99138,     0.99138,     0.99138,     0.99138,     0.99138,     0.99138,     0.99138,     0.99138,     0.99138,     0.99138,     0.99138,     0.99138,     0.99138,     0.99138,     0.99138,     0.99138,     0.99138,     0.99138,\n",
       "            0.99138,     0.99138,     0.99138,     0.99138,     0.99138,     0.99138,     0.99138,     0.99138,     0.99138,     0.99138,     0.99138,     0.99138,     0.99138,     0.99138,     0.99138,     0.99138,     0.99138,     0.99138,     0.99138,     0.99138,     0.99138,     0.99138,     0.99138,\n",
       "            0.99138,     0.99138,     0.99138,     0.99138,     0.99138,     0.99138,     0.99138,     0.99138,     0.99138,     0.99138,     0.99138,     0.99138,     0.99138,     0.99138,     0.99138,     0.99138,     0.99138,     0.99138,     0.99138,     0.99138,     0.99138,     0.99138,     0.99138,\n",
       "            0.99138,     0.99138,     0.99138,     0.99138,     0.99138,     0.99138,     0.99138,     0.99138,     0.99138,     0.99138,     0.99138,     0.99138,     0.99138,     0.99138,     0.99138,     0.99138,     0.99138,     0.99138,     0.99138,     0.99138,     0.99138,     0.99138,     0.99138,\n",
       "            0.99138,     0.99138,     0.99138,     0.99138,     0.99138,     0.99138,     0.99138,     0.99138,     0.99138,     0.99138,     0.99138,     0.99138,     0.99138,     0.99138,     0.99138,     0.99138,     0.99138,     0.99138,     0.99138,     0.99138,     0.99138,     0.99138,     0.99138,\n",
       "            0.99138,     0.99138,     0.99138,     0.99138,     0.99138,     0.99138,     0.99138,     0.99138,     0.99138,     0.99138,     0.99138,     0.99138,     0.99138,     0.99138,     0.99138,     0.99138,     0.99138,     0.99138,     0.99138,     0.99138,     0.99138,     0.99138,     0.99138,\n",
       "            0.99138,     0.99138,     0.99138,     0.99138,     0.99138,     0.99138,     0.99138,     0.99138,     0.99138,     0.99138,     0.99138,     0.99138,     0.99138,     0.99138,     0.99138,     0.99138,     0.99138,     0.99138,     0.99138,     0.99138,     0.99138,     0.99138,     0.99138,\n",
       "            0.99138,     0.99138,     0.99138,     0.99138,     0.99138,     0.99138,     0.99138,     0.99138,     0.99138,     0.99138,     0.99138,     0.99138,     0.99138,     0.99138,     0.99138,     0.99138,     0.99138,     0.99138,     0.99138,     0.99138,     0.99138,     0.99138,     0.99138,\n",
       "            0.99138,     0.99138,     0.99138,     0.99138,     0.99138,     0.99138,     0.99138,     0.99138,     0.99138,     0.99138,     0.99138,     0.99138,     0.99138,     0.99138,     0.99138,     0.99138,     0.99138,     0.99138,     0.99138,     0.99138,     0.99138,     0.99138,     0.99138,\n",
       "            0.99138,     0.99138,     0.99138,     0.99138,     0.99138,     0.99138,     0.99138,     0.99138,     0.99138,     0.99138,     0.99138,     0.99138,     0.99138,     0.99138,     0.99138,     0.99138,     0.99138,     0.99138,     0.99138,     0.99138,     0.99138,     0.99138,     0.99138,\n",
       "            0.99138,     0.99138,     0.99138,     0.99138,     0.99138,     0.99138,     0.99138,     0.99138,     0.99138,     0.99138,     0.99138,     0.99138,     0.99138,     0.99138,     0.99138,     0.99138,     0.99138,     0.99138,     0.99138,     0.99138,     0.99138,     0.99138,     0.99138,\n",
       "            0.99138,     0.99138,     0.99138,     0.99138,     0.99138,     0.99138,     0.99138,     0.99138,     0.99138,     0.99138,     0.99138,     0.99138,     0.99138,     0.99138,     0.99138,     0.99138,     0.99138,     0.99138,     0.99138,     0.99138,     0.99138,     0.99138,     0.99138,\n",
       "            0.99138,     0.99138,     0.99138,     0.99138,     0.99138,     0.99138,     0.99138,     0.99138,     0.99138,     0.99138,     0.99138,     0.99138,     0.99138,     0.99138,     0.99138,     0.99138,     0.99138,     0.99138,     0.99138,     0.99138,     0.99138,     0.99138,     0.99138,\n",
       "            0.99138,     0.99138,     0.99138,     0.99138,     0.99138,     0.99138,     0.99138,     0.99138,     0.99138,     0.99138,     0.99138,     0.99138,     0.99138,     0.99138,     0.99138,     0.99138,     0.99138,     0.99138,     0.99138,     0.99138,     0.99138,     0.99138,     0.99138,\n",
       "            0.99138,     0.99138,     0.99138,     0.99138,     0.99138,     0.99138,     0.99138,     0.99138,     0.99138,     0.99138,     0.99138,     0.99138,     0.99138,     0.99138,     0.99138,     0.99138,     0.99138,     0.99138,     0.99138,     0.99138,     0.99138,     0.99138,     0.99138,\n",
       "            0.99138,     0.99138,     0.99138,     0.99138,     0.99138,     0.99138,     0.99138,     0.99138,     0.99138,     0.99138,     0.99138,     0.99138,     0.99138,     0.99138,     0.99138,     0.99138,     0.99138,     0.99138,     0.99138,     0.99138,     0.99138,     0.99138,     0.99138,\n",
       "            0.99138,     0.99138,     0.99138,     0.99138,     0.99138,     0.99138,     0.99138,     0.99138,     0.99138,     0.99138,     0.99138,     0.99138,     0.99138,     0.99138,     0.99138,     0.99138,     0.99138,     0.99138,     0.99138,     0.99138,     0.99138,     0.99138,     0.99138,\n",
       "            0.99138,     0.99138,     0.99138,     0.99138,     0.99138,     0.99138,     0.99138,     0.99138,     0.99138,     0.99138,     0.99138,     0.99138,     0.99138,     0.99138,     0.99138,     0.99138,     0.99138,     0.99138,     0.99138,     0.99138,     0.99138,     0.99138,     0.99138,\n",
       "            0.99138,     0.99138,     0.99138,     0.99138,     0.99138,     0.99138,     0.99138,     0.99138,     0.99138,     0.99138,     0.99138,     0.99138,     0.99138,     0.99138,     0.99138,     0.99138,     0.99138,     0.99138,     0.99138,     0.99138,     0.99138,     0.99138,     0.99138,\n",
       "            0.99138,     0.99138,     0.99138,     0.99138,     0.99138,     0.99138,     0.99138,     0.99138,     0.99138,     0.99138,     0.99138,     0.99138,     0.99138,     0.99138,     0.99138,     0.99138,     0.99138,     0.99138,     0.99138,     0.99138,     0.99138,     0.99138,     0.99138,\n",
       "            0.99138,     0.99138,     0.99138,     0.99138,     0.99138,     0.99138,     0.99138,     0.99138,     0.99138,     0.99138,     0.99138,     0.99138,     0.99138,     0.99138,     0.99138,     0.99138,     0.99138,     0.99138,     0.99138,     0.99138,     0.99138,     0.99138,     0.99138,\n",
       "            0.99138,     0.99138,     0.99138,     0.99138,     0.99138,     0.99138,     0.99138,     0.99138,     0.99138,     0.99138,     0.99138,     0.99138,     0.99138,     0.99138,     0.99138,     0.99138,     0.99138,     0.99138,     0.99138,     0.99138,     0.99138,     0.99138,     0.99138,\n",
       "            0.99138,     0.99138,     0.99138,     0.99138,     0.99138,     0.99138,     0.99138,     0.99138,     0.99138,     0.99138,     0.99138,     0.99138,     0.99138,     0.99138,     0.99138,     0.99138,     0.99138,     0.99138,     0.99138,     0.99138,     0.99138,     0.99138,     0.99138,\n",
       "            0.99138,     0.99138,     0.99138,     0.99138,     0.99138,     0.99138,     0.99138,     0.99138,     0.99138,     0.99138,     0.99138,     0.99138,     0.99138,     0.99138,     0.99138,     0.99138,     0.99138,     0.99138,     0.99138,     0.99138,     0.99138,     0.99138,     0.99138,\n",
       "            0.99138,     0.99138,     0.99138,     0.99138,     0.99138,     0.99138,     0.99138,     0.99138,     0.99138,     0.99138,     0.99138,     0.98438,     0.98438,     0.98438,     0.98438,     0.98438,     0.98438,     0.98438,     0.98438,     0.98438,     0.98438,     0.98438,     0.98438,\n",
       "            0.98438,     0.98438,     0.98438,     0.98438,     0.98438,     0.98438,     0.98438,     0.98438,     0.98438,     0.98438,     0.98438,     0.98438,     0.98438,     0.98438,     0.98438,     0.98438,     0.98438,     0.98438,     0.98438,     0.98438,     0.98438,     0.98438,     0.98438,\n",
       "            0.98438,     0.98438,     0.98438,     0.98438,     0.98438,     0.98438,     0.98438,     0.98438,     0.98438,     0.98438,     0.98438,     0.98438,     0.98438,     0.98438,     0.98438,     0.98438,     0.98438,     0.98438,     0.98438,     0.98438,     0.98438,     0.98438,     0.98438,\n",
       "            0.98438,     0.98438,     0.98438,     0.98438,     0.98438,     0.98438,     0.98438,     0.98438,     0.98438,     0.98438,     0.98438,     0.98438,     0.98438,     0.98438,     0.98438,     0.98438,     0.98438,     0.98438,     0.98438,     0.98438,     0.98438,     0.98438,     0.97826,\n",
       "            0.97826,     0.97826,     0.97826,     0.97826,     0.97826,     0.97826,     0.97826,     0.97826,     0.97826,     0.97826,     0.97826,     0.97826,     0.97826,     0.97826,     0.97826,     0.97826,     0.97826,     0.97826,     0.97826,     0.97826,     0.97826,     0.97826,     0.97826,\n",
       "            0.97826,     0.97826,     0.97826,     0.97826,     0.97826,     0.97826,     0.97826,     0.97826,     0.97826,     0.97826,     0.97826,     0.97826,     0.97826,     0.97826,     0.97826,     0.97826,     0.97826,     0.97826,     0.97826,     0.97826,     0.97826,     0.97826,     0.97826,\n",
       "            0.97826,     0.97826,     0.97826,     0.97826,     0.97826,     0.97826,     0.97826,     0.97826,     0.97826,     0.97826,     0.97826,     0.97826,     0.97826,     0.97826,     0.97826,     0.97826,     0.97826,     0.97826,     0.97826,     0.96454,     0.96454,     0.96454,     0.96454,\n",
       "            0.96454,     0.96454,     0.96454,     0.40171,     0.34432,     0.28693,     0.22955,     0.17216,     0.11477,    0.057387,           0]]), 'Recall', 'Precision'], [array([          0,    0.001001,    0.002002,    0.003003,    0.004004,    0.005005,    0.006006,    0.007007,    0.008008,    0.009009,     0.01001,    0.011011,    0.012012,    0.013013,    0.014014,    0.015015,    0.016016,    0.017017,    0.018018,    0.019019,     0.02002,    0.021021,    0.022022,    0.023023,\n",
       "          0.024024,    0.025025,    0.026026,    0.027027,    0.028028,    0.029029,     0.03003,    0.031031,    0.032032,    0.033033,    0.034034,    0.035035,    0.036036,    0.037037,    0.038038,    0.039039,     0.04004,    0.041041,    0.042042,    0.043043,    0.044044,    0.045045,    0.046046,    0.047047,\n",
       "          0.048048,    0.049049,     0.05005,    0.051051,    0.052052,    0.053053,    0.054054,    0.055055,    0.056056,    0.057057,    0.058058,    0.059059,     0.06006,    0.061061,    0.062062,    0.063063,    0.064064,    0.065065,    0.066066,    0.067067,    0.068068,    0.069069,     0.07007,    0.071071,\n",
       "          0.072072,    0.073073,    0.074074,    0.075075,    0.076076,    0.077077,    0.078078,    0.079079,     0.08008,    0.081081,    0.082082,    0.083083,    0.084084,    0.085085,    0.086086,    0.087087,    0.088088,    0.089089,     0.09009,    0.091091,    0.092092,    0.093093,    0.094094,    0.095095,\n",
       "          0.096096,    0.097097,    0.098098,    0.099099,      0.1001,      0.1011,      0.1021,      0.1031,      0.1041,     0.10511,     0.10611,     0.10711,     0.10811,     0.10911,     0.11011,     0.11111,     0.11211,     0.11311,     0.11411,     0.11512,     0.11612,     0.11712,     0.11812,     0.11912,\n",
       "           0.12012,     0.12112,     0.12212,     0.12312,     0.12412,     0.12513,     0.12613,     0.12713,     0.12813,     0.12913,     0.13013,     0.13113,     0.13213,     0.13313,     0.13413,     0.13514,     0.13614,     0.13714,     0.13814,     0.13914,     0.14014,     0.14114,     0.14214,     0.14314,\n",
       "           0.14414,     0.14515,     0.14615,     0.14715,     0.14815,     0.14915,     0.15015,     0.15115,     0.15215,     0.15315,     0.15415,     0.15516,     0.15616,     0.15716,     0.15816,     0.15916,     0.16016,     0.16116,     0.16216,     0.16316,     0.16416,     0.16517,     0.16617,     0.16717,\n",
       "           0.16817,     0.16917,     0.17017,     0.17117,     0.17217,     0.17317,     0.17417,     0.17518,     0.17618,     0.17718,     0.17818,     0.17918,     0.18018,     0.18118,     0.18218,     0.18318,     0.18418,     0.18519,     0.18619,     0.18719,     0.18819,     0.18919,     0.19019,     0.19119,\n",
       "           0.19219,     0.19319,     0.19419,      0.1952,      0.1962,      0.1972,      0.1982,      0.1992,      0.2002,      0.2012,      0.2022,      0.2032,      0.2042,     0.20521,     0.20621,     0.20721,     0.20821,     0.20921,     0.21021,     0.21121,     0.21221,     0.21321,     0.21421,     0.21522,\n",
       "           0.21622,     0.21722,     0.21822,     0.21922,     0.22022,     0.22122,     0.22222,     0.22322,     0.22422,     0.22523,     0.22623,     0.22723,     0.22823,     0.22923,     0.23023,     0.23123,     0.23223,     0.23323,     0.23423,     0.23524,     0.23624,     0.23724,     0.23824,     0.23924,\n",
       "           0.24024,     0.24124,     0.24224,     0.24324,     0.24424,     0.24525,     0.24625,     0.24725,     0.24825,     0.24925,     0.25025,     0.25125,     0.25225,     0.25325,     0.25425,     0.25526,     0.25626,     0.25726,     0.25826,     0.25926,     0.26026,     0.26126,     0.26226,     0.26326,\n",
       "           0.26426,     0.26527,     0.26627,     0.26727,     0.26827,     0.26927,     0.27027,     0.27127,     0.27227,     0.27327,     0.27427,     0.27528,     0.27628,     0.27728,     0.27828,     0.27928,     0.28028,     0.28128,     0.28228,     0.28328,     0.28428,     0.28529,     0.28629,     0.28729,\n",
       "           0.28829,     0.28929,     0.29029,     0.29129,     0.29229,     0.29329,     0.29429,      0.2953,      0.2963,      0.2973,      0.2983,      0.2993,      0.3003,      0.3013,      0.3023,      0.3033,      0.3043,     0.30531,     0.30631,     0.30731,     0.30831,     0.30931,     0.31031,     0.31131,\n",
       "           0.31231,     0.31331,     0.31431,     0.31532,     0.31632,     0.31732,     0.31832,     0.31932,     0.32032,     0.32132,     0.32232,     0.32332,     0.32432,     0.32533,     0.32633,     0.32733,     0.32833,     0.32933,     0.33033,     0.33133,     0.33233,     0.33333,     0.33433,     0.33534,\n",
       "           0.33634,     0.33734,     0.33834,     0.33934,     0.34034,     0.34134,     0.34234,     0.34334,     0.34434,     0.34535,     0.34635,     0.34735,     0.34835,     0.34935,     0.35035,     0.35135,     0.35235,     0.35335,     0.35435,     0.35536,     0.35636,     0.35736,     0.35836,     0.35936,\n",
       "           0.36036,     0.36136,     0.36236,     0.36336,     0.36436,     0.36537,     0.36637,     0.36737,     0.36837,     0.36937,     0.37037,     0.37137,     0.37237,     0.37337,     0.37437,     0.37538,     0.37638,     0.37738,     0.37838,     0.37938,     0.38038,     0.38138,     0.38238,     0.38338,\n",
       "           0.38438,     0.38539,     0.38639,     0.38739,     0.38839,     0.38939,     0.39039,     0.39139,     0.39239,     0.39339,     0.39439,      0.3954,      0.3964,      0.3974,      0.3984,      0.3994,      0.4004,      0.4014,      0.4024,      0.4034,      0.4044,     0.40541,     0.40641,     0.40741,\n",
       "           0.40841,     0.40941,     0.41041,     0.41141,     0.41241,     0.41341,     0.41441,     0.41542,     0.41642,     0.41742,     0.41842,     0.41942,     0.42042,     0.42142,     0.42242,     0.42342,     0.42442,     0.42543,     0.42643,     0.42743,     0.42843,     0.42943,     0.43043,     0.43143,\n",
       "           0.43243,     0.43343,     0.43443,     0.43544,     0.43644,     0.43744,     0.43844,     0.43944,     0.44044,     0.44144,     0.44244,     0.44344,     0.44444,     0.44545,     0.44645,     0.44745,     0.44845,     0.44945,     0.45045,     0.45145,     0.45245,     0.45345,     0.45445,     0.45546,\n",
       "           0.45646,     0.45746,     0.45846,     0.45946,     0.46046,     0.46146,     0.46246,     0.46346,     0.46446,     0.46547,     0.46647,     0.46747,     0.46847,     0.46947,     0.47047,     0.47147,     0.47247,     0.47347,     0.47447,     0.47548,     0.47648,     0.47748,     0.47848,     0.47948,\n",
       "           0.48048,     0.48148,     0.48248,     0.48348,     0.48448,     0.48549,     0.48649,     0.48749,     0.48849,     0.48949,     0.49049,     0.49149,     0.49249,     0.49349,     0.49449,      0.4955,      0.4965,      0.4975,      0.4985,      0.4995,      0.5005,      0.5015,      0.5025,      0.5035,\n",
       "            0.5045,     0.50551,     0.50651,     0.50751,     0.50851,     0.50951,     0.51051,     0.51151,     0.51251,     0.51351,     0.51451,     0.51552,     0.51652,     0.51752,     0.51852,     0.51952,     0.52052,     0.52152,     0.52252,     0.52352,     0.52452,     0.52553,     0.52653,     0.52753,\n",
       "           0.52853,     0.52953,     0.53053,     0.53153,     0.53253,     0.53353,     0.53453,     0.53554,     0.53654,     0.53754,     0.53854,     0.53954,     0.54054,     0.54154,     0.54254,     0.54354,     0.54454,     0.54555,     0.54655,     0.54755,     0.54855,     0.54955,     0.55055,     0.55155,\n",
       "           0.55255,     0.55355,     0.55455,     0.55556,     0.55656,     0.55756,     0.55856,     0.55956,     0.56056,     0.56156,     0.56256,     0.56356,     0.56456,     0.56557,     0.56657,     0.56757,     0.56857,     0.56957,     0.57057,     0.57157,     0.57257,     0.57357,     0.57457,     0.57558,\n",
       "           0.57658,     0.57758,     0.57858,     0.57958,     0.58058,     0.58158,     0.58258,     0.58358,     0.58458,     0.58559,     0.58659,     0.58759,     0.58859,     0.58959,     0.59059,     0.59159,     0.59259,     0.59359,     0.59459,      0.5956,      0.5966,      0.5976,      0.5986,      0.5996,\n",
       "            0.6006,      0.6016,      0.6026,      0.6036,      0.6046,     0.60561,     0.60661,     0.60761,     0.60861,     0.60961,     0.61061,     0.61161,     0.61261,     0.61361,     0.61461,     0.61562,     0.61662,     0.61762,     0.61862,     0.61962,     0.62062,     0.62162,     0.62262,     0.62362,\n",
       "           0.62462,     0.62563,     0.62663,     0.62763,     0.62863,     0.62963,     0.63063,     0.63163,     0.63263,     0.63363,     0.63463,     0.63564,     0.63664,     0.63764,     0.63864,     0.63964,     0.64064,     0.64164,     0.64264,     0.64364,     0.64464,     0.64565,     0.64665,     0.64765,\n",
       "           0.64865,     0.64965,     0.65065,     0.65165,     0.65265,     0.65365,     0.65465,     0.65566,     0.65666,     0.65766,     0.65866,     0.65966,     0.66066,     0.66166,     0.66266,     0.66366,     0.66466,     0.66567,     0.66667,     0.66767,     0.66867,     0.66967,     0.67067,     0.67167,\n",
       "           0.67267,     0.67367,     0.67467,     0.67568,     0.67668,     0.67768,     0.67868,     0.67968,     0.68068,     0.68168,     0.68268,     0.68368,     0.68468,     0.68569,     0.68669,     0.68769,     0.68869,     0.68969,     0.69069,     0.69169,     0.69269,     0.69369,     0.69469,      0.6957,\n",
       "            0.6967,      0.6977,      0.6987,      0.6997,      0.7007,      0.7017,      0.7027,      0.7037,      0.7047,     0.70571,     0.70671,     0.70771,     0.70871,     0.70971,     0.71071,     0.71171,     0.71271,     0.71371,     0.71471,     0.71572,     0.71672,     0.71772,     0.71872,     0.71972,\n",
       "           0.72072,     0.72172,     0.72272,     0.72372,     0.72472,     0.72573,     0.72673,     0.72773,     0.72873,     0.72973,     0.73073,     0.73173,     0.73273,     0.73373,     0.73473,     0.73574,     0.73674,     0.73774,     0.73874,     0.73974,     0.74074,     0.74174,     0.74274,     0.74374,\n",
       "           0.74474,     0.74575,     0.74675,     0.74775,     0.74875,     0.74975,     0.75075,     0.75175,     0.75275,     0.75375,     0.75475,     0.75576,     0.75676,     0.75776,     0.75876,     0.75976,     0.76076,     0.76176,     0.76276,     0.76376,     0.76476,     0.76577,     0.76677,     0.76777,\n",
       "           0.76877,     0.76977,     0.77077,     0.77177,     0.77277,     0.77377,     0.77477,     0.77578,     0.77678,     0.77778,     0.77878,     0.77978,     0.78078,     0.78178,     0.78278,     0.78378,     0.78478,     0.78579,     0.78679,     0.78779,     0.78879,     0.78979,     0.79079,     0.79179,\n",
       "           0.79279,     0.79379,     0.79479,      0.7958,      0.7968,      0.7978,      0.7988,      0.7998,      0.8008,      0.8018,      0.8028,      0.8038,      0.8048,     0.80581,     0.80681,     0.80781,     0.80881,     0.80981,     0.81081,     0.81181,     0.81281,     0.81381,     0.81481,     0.81582,\n",
       "           0.81682,     0.81782,     0.81882,     0.81982,     0.82082,     0.82182,     0.82282,     0.82382,     0.82482,     0.82583,     0.82683,     0.82783,     0.82883,     0.82983,     0.83083,     0.83183,     0.83283,     0.83383,     0.83483,     0.83584,     0.83684,     0.83784,     0.83884,     0.83984,\n",
       "           0.84084,     0.84184,     0.84284,     0.84384,     0.84484,     0.84585,     0.84685,     0.84785,     0.84885,     0.84985,     0.85085,     0.85185,     0.85285,     0.85385,     0.85485,     0.85586,     0.85686,     0.85786,     0.85886,     0.85986,     0.86086,     0.86186,     0.86286,     0.86386,\n",
       "           0.86486,     0.86587,     0.86687,     0.86787,     0.86887,     0.86987,     0.87087,     0.87187,     0.87287,     0.87387,     0.87487,     0.87588,     0.87688,     0.87788,     0.87888,     0.87988,     0.88088,     0.88188,     0.88288,     0.88388,     0.88488,     0.88589,     0.88689,     0.88789,\n",
       "           0.88889,     0.88989,     0.89089,     0.89189,     0.89289,     0.89389,     0.89489,      0.8959,      0.8969,      0.8979,      0.8989,      0.8999,      0.9009,      0.9019,      0.9029,      0.9039,      0.9049,     0.90591,     0.90691,     0.90791,     0.90891,     0.90991,     0.91091,     0.91191,\n",
       "           0.91291,     0.91391,     0.91491,     0.91592,     0.91692,     0.91792,     0.91892,     0.91992,     0.92092,     0.92192,     0.92292,     0.92392,     0.92492,     0.92593,     0.92693,     0.92793,     0.92893,     0.92993,     0.93093,     0.93193,     0.93293,     0.93393,     0.93493,     0.93594,\n",
       "           0.93694,     0.93794,     0.93894,     0.93994,     0.94094,     0.94194,     0.94294,     0.94394,     0.94494,     0.94595,     0.94695,     0.94795,     0.94895,     0.94995,     0.95095,     0.95195,     0.95295,     0.95395,     0.95495,     0.95596,     0.95696,     0.95796,     0.95896,     0.95996,\n",
       "           0.96096,     0.96196,     0.96296,     0.96396,     0.96496,     0.96597,     0.96697,     0.96797,     0.96897,     0.96997,     0.97097,     0.97197,     0.97297,     0.97397,     0.97497,     0.97598,     0.97698,     0.97798,     0.97898,     0.97998,     0.98098,     0.98198,     0.98298,     0.98398,\n",
       "           0.98498,     0.98599,     0.98699,     0.98799,     0.98899,     0.98999,     0.99099,     0.99199,     0.99299,     0.99399,     0.99499,       0.996,       0.997,       0.998,       0.999,           1]), array([[    0.58874,     0.58874,     0.77204,     0.82288,     0.84705,      0.8576,     0.87447,     0.88661,     0.89446,     0.90154,     0.90682,     0.90862,     0.91102,     0.91309,     0.91381,     0.91452,     0.91523,     0.91697,     0.92124,     0.92456,     0.92589,     0.92678,     0.92766,\n",
       "            0.92853,     0.92934,     0.93014,     0.93095,     0.93216,      0.9343,     0.93549,     0.93645,     0.93742,     0.93838,     0.93935,     0.94032,     0.94124,     0.94182,     0.94239,     0.94296,     0.94353,      0.9441,      0.9445,     0.94464,     0.94478,     0.94491,     0.94505,\n",
       "            0.94519,     0.94533,     0.94547,     0.94561,     0.94574,     0.94588,     0.94602,     0.94616,      0.9463,     0.94644,     0.94657,     0.94671,     0.94685,     0.94699,     0.94713,     0.94726,      0.9474,     0.94754,     0.94768,     0.94798,      0.9484,     0.94881,     0.94923,\n",
       "            0.94964,     0.95006,     0.95047,     0.95088,     0.95118,     0.95139,      0.9516,     0.95181,     0.95202,     0.95223,     0.95244,     0.95266,     0.95287,     0.95308,     0.95329,      0.9535,     0.95371,     0.95392,     0.95413,     0.95434,     0.95446,     0.95455,     0.95465,\n",
       "            0.95474,     0.95483,     0.95493,     0.95502,     0.95511,     0.95521,      0.9553,     0.95539,     0.95549,     0.95558,     0.95568,     0.95577,     0.95586,     0.95596,     0.95605,     0.95614,     0.95624,     0.95633,     0.95642,     0.95652,     0.95661,      0.9567,     0.95679,\n",
       "            0.95689,     0.95698,     0.95707,     0.95717,     0.95726,     0.95735,     0.95745,     0.95754,     0.95763,     0.95773,     0.95777,     0.95779,     0.95782,     0.95784,     0.95787,     0.95789,     0.95792,     0.95794,     0.95797,     0.95799,     0.95802,     0.95804,     0.95807,\n",
       "            0.95809,     0.95812,     0.95815,     0.95817,      0.9582,     0.95822,     0.95825,     0.95827,      0.9583,     0.95832,     0.95835,     0.95837,      0.9584,     0.95842,     0.95845,     0.95847,      0.9585,     0.95852,     0.95855,     0.95857,      0.9586,     0.95863,     0.95865,\n",
       "            0.95868,      0.9587,     0.95873,     0.95875,     0.95878,      0.9588,     0.95883,     0.95885,     0.95888,      0.9589,     0.95893,     0.95895,     0.95898,       0.959,     0.95903,     0.95905,     0.95908,      0.9591,     0.95913,     0.95915,     0.95918,     0.95921,     0.95923,\n",
       "            0.95926,     0.95928,     0.95931,     0.95933,     0.95936,     0.95938,     0.95941,     0.95943,     0.95946,     0.95948,     0.95951,     0.95953,     0.95956,     0.95958,     0.95961,     0.95963,     0.95966,     0.95968,     0.95971,     0.95973,     0.95976,     0.95978,     0.95981,\n",
       "            0.95984,     0.95986,     0.95989,     0.95991,     0.95994,     0.95996,     0.95999,     0.96001,     0.96004,     0.96006,     0.96009,     0.96011,     0.96014,     0.96016,     0.96019,     0.96021,     0.96024,     0.96026,     0.96029,     0.96031,     0.96034,     0.96036,     0.96039,\n",
       "            0.96041,     0.96044,     0.96046,     0.96049,     0.96051,     0.96054,     0.96056,     0.96059,     0.96061,     0.96064,     0.96067,     0.96069,     0.96072,     0.96074,     0.96077,     0.96079,     0.96082,     0.96084,     0.96087,     0.96089,     0.96092,     0.96094,     0.96097,\n",
       "            0.96099,     0.96102,     0.96104,     0.96107,     0.96109,     0.96112,      0.9619,     0.96351,     0.96455,     0.96457,      0.9646,     0.96463,     0.96465,     0.96468,     0.96471,     0.96473,     0.96476,     0.96478,     0.96481,     0.96484,     0.96486,     0.96489,     0.96491,\n",
       "            0.96494,     0.96497,     0.96499,     0.96502,     0.96504,     0.96507,      0.9651,     0.96512,     0.96515,     0.96517,      0.9652,     0.96523,     0.96525,     0.96528,      0.9653,     0.96533,     0.96536,     0.96538,     0.96541,     0.96543,     0.96546,     0.96549,     0.96551,\n",
       "            0.96554,     0.96557,     0.96559,     0.96562,     0.96564,     0.96567,      0.9657,     0.96572,     0.96575,     0.96577,      0.9658,     0.96583,     0.96585,     0.96588,      0.9659,     0.96593,     0.96596,     0.96598,     0.96601,     0.96603,     0.96606,     0.96609,     0.96611,\n",
       "            0.96614,     0.96616,     0.96619,     0.96622,     0.96624,     0.96627,     0.96629,     0.96632,     0.96635,     0.96637,      0.9664,     0.96642,     0.96645,     0.96648,      0.9665,     0.96653,     0.96655,     0.96658,     0.96661,     0.96663,     0.96666,     0.96668,     0.96671,\n",
       "            0.96674,     0.96676,     0.96679,     0.96681,     0.96684,     0.96687,     0.96689,     0.96692,     0.96694,     0.96697,       0.967,     0.96702,     0.96705,     0.96707,      0.9671,     0.96713,     0.96715,     0.96718,      0.9672,     0.96723,     0.96726,     0.96728,     0.96731,\n",
       "            0.96733,     0.96736,     0.96739,     0.96741,     0.96744,     0.96746,     0.96749,     0.96751,     0.96754,     0.96757,     0.96759,     0.96762,     0.96764,     0.96767,      0.9677,     0.96772,     0.96775,     0.96777,      0.9678,     0.96783,     0.96785,     0.96788,      0.9679,\n",
       "            0.96793,     0.96796,       0.968,     0.96806,     0.96813,     0.96819,     0.96826,     0.96833,     0.96839,     0.96846,     0.96852,     0.96859,     0.96866,     0.96872,     0.96879,     0.96885,     0.96892,     0.96899,     0.96905,     0.96912,     0.96918,     0.96925,     0.96932,\n",
       "            0.96938,     0.96945,     0.96951,     0.96958,     0.96964,     0.96971,     0.96978,     0.96984,     0.96991,     0.96997,     0.97004,      0.9701,     0.97017,     0.97024,      0.9703,     0.97037,     0.97043,      0.9705,     0.97056,     0.97063,      0.9707,     0.97076,     0.97083,\n",
       "            0.97089,     0.97096,     0.97102,     0.97109,     0.97116,     0.97122,     0.97129,     0.97135,     0.97142,     0.97172,     0.97208,     0.97243,     0.97279,     0.97314,      0.9735,     0.97385,     0.97421,     0.97456,     0.97491,     0.97493,     0.97495,     0.97496,     0.97498,\n",
       "              0.975,     0.97502,     0.97503,     0.97505,     0.97507,     0.97509,     0.97511,     0.97512,     0.97514,     0.97516,     0.97518,     0.97519,     0.97521,     0.97523,     0.97525,     0.97527,     0.97528,      0.9753,     0.97532,     0.97534,     0.97535,     0.97537,     0.97539,\n",
       "            0.97541,     0.97543,     0.97544,     0.97546,     0.97548,      0.9755,     0.97551,     0.97553,     0.97555,     0.97557,     0.97558,      0.9756,     0.97562,     0.97564,     0.97566,     0.97567,     0.97569,     0.97571,     0.97573,     0.97574,     0.97576,     0.97578,      0.9758,\n",
       "            0.97582,     0.97583,     0.97585,     0.97587,     0.97589,      0.9759,     0.97592,     0.97594,     0.97596,     0.97597,     0.97599,     0.97601,     0.97603,     0.97605,     0.97606,     0.97608,      0.9761,     0.97612,     0.97613,     0.97615,     0.97617,     0.97619,      0.9762,\n",
       "            0.97622,     0.97624,     0.97626,     0.97628,     0.97629,     0.97631,     0.97633,     0.97635,     0.97636,     0.97638,      0.9764,     0.97642,     0.97644,     0.97645,     0.97647,     0.97649,     0.97651,     0.97652,     0.97654,     0.97656,     0.97658,     0.97659,     0.97661,\n",
       "            0.97663,     0.97665,     0.97667,     0.97668,      0.9767,     0.97672,     0.97674,     0.97675,     0.97677,     0.97679,     0.97681,     0.97682,     0.97684,     0.97686,     0.97688,      0.9769,     0.97691,     0.97693,     0.97695,     0.97697,     0.97698,       0.977,     0.97702,\n",
       "            0.97704,     0.97705,     0.97707,     0.97709,     0.97711,     0.97712,     0.97714,     0.97716,     0.97718,      0.9772,     0.97721,     0.97723,     0.97725,     0.97727,     0.97728,      0.9773,     0.97732,     0.97734,     0.97735,     0.97737,     0.97739,     0.97741,     0.97743,\n",
       "            0.97744,     0.97746,     0.97748,      0.9775,     0.97751,     0.97753,     0.97755,     0.97757,     0.97758,      0.9776,     0.97762,     0.97764,     0.97765,     0.97767,     0.97769,     0.97771,     0.97773,     0.97774,     0.97776,     0.97778,      0.9778,     0.97781,     0.97783,\n",
       "            0.97785,     0.97787,     0.97788,      0.9779,     0.97792,     0.97794,     0.97796,     0.97797,     0.97799,     0.97801,     0.97803,     0.97804,     0.97806,     0.97808,      0.9781,     0.97811,     0.97813,     0.97815,     0.97817,     0.97818,      0.9782,     0.97822,     0.97824,\n",
       "            0.97825,     0.97827,     0.97829,     0.97831,     0.97833,     0.97834,     0.97836,     0.97838,      0.9784,     0.97841,     0.97805,     0.97759,     0.97712,     0.97666,      0.9762,     0.97573,     0.97527,      0.9748,     0.97532,     0.97603,     0.97673,     0.97743,     0.97814,\n",
       "            0.97828,      0.9783,     0.97833,     0.97835,     0.97837,     0.97839,     0.97842,     0.97844,     0.97846,     0.97849,     0.97851,     0.97853,     0.97855,     0.97858,      0.9786,     0.97862,     0.97864,     0.97867,     0.97869,     0.97871,     0.97874,     0.97876,     0.97878,\n",
       "             0.9788,     0.97883,     0.97885,     0.97887,      0.9789,     0.97892,     0.97894,     0.97896,     0.97899,     0.97901,     0.97903,     0.97906,     0.97908,      0.9791,     0.97912,     0.97915,     0.97917,     0.97919,     0.97921,     0.97924,     0.97926,     0.97928,     0.97931,\n",
       "            0.97933,     0.97935,     0.97937,      0.9794,     0.97942,     0.97944,     0.97947,     0.97949,     0.97951,     0.97953,     0.97956,     0.97958,      0.9796,     0.97962,     0.97965,     0.97967,     0.97969,     0.97972,     0.97974,     0.97976,     0.97978,     0.97981,     0.97983,\n",
       "            0.97985,     0.97987,      0.9799,     0.97992,     0.97994,     0.97997,     0.97999,     0.98001,     0.98003,     0.98006,     0.98008,      0.9801,     0.98013,     0.98015,     0.98017,     0.98019,     0.98022,     0.98024,     0.98026,     0.98028,     0.98031,     0.98033,     0.98035,\n",
       "            0.98038,      0.9804,     0.98042,     0.98044,     0.98047,     0.98049,     0.98051,     0.98053,     0.98056,     0.98058,      0.9806,     0.98063,     0.98065,     0.98067,     0.98069,     0.98072,     0.98074,     0.98076,     0.98078,     0.98081,     0.98083,     0.98085,     0.98088,\n",
       "             0.9809,     0.98092,     0.98094,     0.98097,     0.98099,     0.98101,     0.98103,     0.98106,     0.98108,      0.9811,     0.98112,     0.98115,     0.98117,     0.98119,     0.98122,     0.98124,     0.98126,     0.98128,     0.98131,     0.98133,     0.98135,     0.98137,      0.9814,\n",
       "            0.98142,     0.98144,     0.98147,     0.98149,     0.98151,     0.98153,     0.98156,     0.98158,      0.9816,     0.98162,     0.98165,     0.98167,     0.98169,     0.98171,     0.98174,     0.98176,     0.98178,     0.98181,     0.98137,     0.98034,     0.97931,     0.97828,     0.97793,\n",
       "            0.97772,     0.97752,     0.97731,      0.9771,     0.97689,     0.97669,     0.97648,     0.97627,     0.97607,     0.97586,     0.97565,     0.97544,     0.97523,     0.97503,     0.97482,     0.97461,      0.9744,     0.97391,     0.97335,     0.97278,     0.97221,     0.97165,     0.97108,\n",
       "             0.9705,     0.96984,     0.96919,     0.96853,     0.96787,     0.96721,     0.96571,     0.96281,     0.96109,     0.95936,     0.95656,     0.95421,     0.95236,     0.94813,     0.95032,     0.94953,     0.94873,     0.94793,     0.94713,     0.94634,     0.94555,     0.94476,     0.94397,\n",
       "            0.94318,     0.94043,     0.93825,     0.93703,     0.93582,     0.93333,     0.92618,     0.92367,     0.92122,     0.91883,     0.91452,     0.91233,     0.91042,     0.90787,     0.90706,      0.9074,     0.90519,     0.89777,     0.89519,     0.89373,     0.89227,     0.88545,     0.88134,\n",
       "            0.87902,      0.8716,     0.86456,     0.85669,     0.84835,     0.83021,     0.82653,     0.81011,      0.8066,     0.79325,     0.78295,     0.77529,      0.7628,     0.74759,     0.73429,     0.71603,     0.70139,     0.69766,     0.69434,     0.68812,     0.67007,     0.66018,     0.65054,\n",
       "            0.62504,     0.61179,     0.60827,      0.5977,     0.59222,     0.57871,     0.55954,     0.53427,     0.52571,     0.50232,     0.48964,     0.47818,     0.47201,     0.46718,     0.44814,     0.43856,     0.42981,     0.40381,     0.36691,      0.3678,     0.36867,     0.34738,     0.32862,\n",
       "            0.30422,     0.27526,     0.27111,     0.26694,     0.25197,     0.24444,     0.17322,     0.16852,     0.16379,     0.15119,     0.12351,      0.1043,     0.08609,     0.08148,    0.078692,    0.075897,    0.073093,    0.068984,    0.050587,    0.041662,    0.037409,    0.033138,    0.028849,\n",
       "           0.027148,    0.025489,    0.023827,    0.022162,    0.020494,    0.018823,     0.01715,    0.015474,           0,           0,           0,           0,           0,           0,           0,           0,           0,           0,           0,           0,           0,           0,           0,\n",
       "                  0,           0,           0,           0,           0,           0,           0,           0,           0,           0,           0]]), 'Confidence', 'F1'], [array([          0,    0.001001,    0.002002,    0.003003,    0.004004,    0.005005,    0.006006,    0.007007,    0.008008,    0.009009,     0.01001,    0.011011,    0.012012,    0.013013,    0.014014,    0.015015,    0.016016,    0.017017,    0.018018,    0.019019,     0.02002,    0.021021,    0.022022,    0.023023,\n",
       "          0.024024,    0.025025,    0.026026,    0.027027,    0.028028,    0.029029,     0.03003,    0.031031,    0.032032,    0.033033,    0.034034,    0.035035,    0.036036,    0.037037,    0.038038,    0.039039,     0.04004,    0.041041,    0.042042,    0.043043,    0.044044,    0.045045,    0.046046,    0.047047,\n",
       "          0.048048,    0.049049,     0.05005,    0.051051,    0.052052,    0.053053,    0.054054,    0.055055,    0.056056,    0.057057,    0.058058,    0.059059,     0.06006,    0.061061,    0.062062,    0.063063,    0.064064,    0.065065,    0.066066,    0.067067,    0.068068,    0.069069,     0.07007,    0.071071,\n",
       "          0.072072,    0.073073,    0.074074,    0.075075,    0.076076,    0.077077,    0.078078,    0.079079,     0.08008,    0.081081,    0.082082,    0.083083,    0.084084,    0.085085,    0.086086,    0.087087,    0.088088,    0.089089,     0.09009,    0.091091,    0.092092,    0.093093,    0.094094,    0.095095,\n",
       "          0.096096,    0.097097,    0.098098,    0.099099,      0.1001,      0.1011,      0.1021,      0.1031,      0.1041,     0.10511,     0.10611,     0.10711,     0.10811,     0.10911,     0.11011,     0.11111,     0.11211,     0.11311,     0.11411,     0.11512,     0.11612,     0.11712,     0.11812,     0.11912,\n",
       "           0.12012,     0.12112,     0.12212,     0.12312,     0.12412,     0.12513,     0.12613,     0.12713,     0.12813,     0.12913,     0.13013,     0.13113,     0.13213,     0.13313,     0.13413,     0.13514,     0.13614,     0.13714,     0.13814,     0.13914,     0.14014,     0.14114,     0.14214,     0.14314,\n",
       "           0.14414,     0.14515,     0.14615,     0.14715,     0.14815,     0.14915,     0.15015,     0.15115,     0.15215,     0.15315,     0.15415,     0.15516,     0.15616,     0.15716,     0.15816,     0.15916,     0.16016,     0.16116,     0.16216,     0.16316,     0.16416,     0.16517,     0.16617,     0.16717,\n",
       "           0.16817,     0.16917,     0.17017,     0.17117,     0.17217,     0.17317,     0.17417,     0.17518,     0.17618,     0.17718,     0.17818,     0.17918,     0.18018,     0.18118,     0.18218,     0.18318,     0.18418,     0.18519,     0.18619,     0.18719,     0.18819,     0.18919,     0.19019,     0.19119,\n",
       "           0.19219,     0.19319,     0.19419,      0.1952,      0.1962,      0.1972,      0.1982,      0.1992,      0.2002,      0.2012,      0.2022,      0.2032,      0.2042,     0.20521,     0.20621,     0.20721,     0.20821,     0.20921,     0.21021,     0.21121,     0.21221,     0.21321,     0.21421,     0.21522,\n",
       "           0.21622,     0.21722,     0.21822,     0.21922,     0.22022,     0.22122,     0.22222,     0.22322,     0.22422,     0.22523,     0.22623,     0.22723,     0.22823,     0.22923,     0.23023,     0.23123,     0.23223,     0.23323,     0.23423,     0.23524,     0.23624,     0.23724,     0.23824,     0.23924,\n",
       "           0.24024,     0.24124,     0.24224,     0.24324,     0.24424,     0.24525,     0.24625,     0.24725,     0.24825,     0.24925,     0.25025,     0.25125,     0.25225,     0.25325,     0.25425,     0.25526,     0.25626,     0.25726,     0.25826,     0.25926,     0.26026,     0.26126,     0.26226,     0.26326,\n",
       "           0.26426,     0.26527,     0.26627,     0.26727,     0.26827,     0.26927,     0.27027,     0.27127,     0.27227,     0.27327,     0.27427,     0.27528,     0.27628,     0.27728,     0.27828,     0.27928,     0.28028,     0.28128,     0.28228,     0.28328,     0.28428,     0.28529,     0.28629,     0.28729,\n",
       "           0.28829,     0.28929,     0.29029,     0.29129,     0.29229,     0.29329,     0.29429,      0.2953,      0.2963,      0.2973,      0.2983,      0.2993,      0.3003,      0.3013,      0.3023,      0.3033,      0.3043,     0.30531,     0.30631,     0.30731,     0.30831,     0.30931,     0.31031,     0.31131,\n",
       "           0.31231,     0.31331,     0.31431,     0.31532,     0.31632,     0.31732,     0.31832,     0.31932,     0.32032,     0.32132,     0.32232,     0.32332,     0.32432,     0.32533,     0.32633,     0.32733,     0.32833,     0.32933,     0.33033,     0.33133,     0.33233,     0.33333,     0.33433,     0.33534,\n",
       "           0.33634,     0.33734,     0.33834,     0.33934,     0.34034,     0.34134,     0.34234,     0.34334,     0.34434,     0.34535,     0.34635,     0.34735,     0.34835,     0.34935,     0.35035,     0.35135,     0.35235,     0.35335,     0.35435,     0.35536,     0.35636,     0.35736,     0.35836,     0.35936,\n",
       "           0.36036,     0.36136,     0.36236,     0.36336,     0.36436,     0.36537,     0.36637,     0.36737,     0.36837,     0.36937,     0.37037,     0.37137,     0.37237,     0.37337,     0.37437,     0.37538,     0.37638,     0.37738,     0.37838,     0.37938,     0.38038,     0.38138,     0.38238,     0.38338,\n",
       "           0.38438,     0.38539,     0.38639,     0.38739,     0.38839,     0.38939,     0.39039,     0.39139,     0.39239,     0.39339,     0.39439,      0.3954,      0.3964,      0.3974,      0.3984,      0.3994,      0.4004,      0.4014,      0.4024,      0.4034,      0.4044,     0.40541,     0.40641,     0.40741,\n",
       "           0.40841,     0.40941,     0.41041,     0.41141,     0.41241,     0.41341,     0.41441,     0.41542,     0.41642,     0.41742,     0.41842,     0.41942,     0.42042,     0.42142,     0.42242,     0.42342,     0.42442,     0.42543,     0.42643,     0.42743,     0.42843,     0.42943,     0.43043,     0.43143,\n",
       "           0.43243,     0.43343,     0.43443,     0.43544,     0.43644,     0.43744,     0.43844,     0.43944,     0.44044,     0.44144,     0.44244,     0.44344,     0.44444,     0.44545,     0.44645,     0.44745,     0.44845,     0.44945,     0.45045,     0.45145,     0.45245,     0.45345,     0.45445,     0.45546,\n",
       "           0.45646,     0.45746,     0.45846,     0.45946,     0.46046,     0.46146,     0.46246,     0.46346,     0.46446,     0.46547,     0.46647,     0.46747,     0.46847,     0.46947,     0.47047,     0.47147,     0.47247,     0.47347,     0.47447,     0.47548,     0.47648,     0.47748,     0.47848,     0.47948,\n",
       "           0.48048,     0.48148,     0.48248,     0.48348,     0.48448,     0.48549,     0.48649,     0.48749,     0.48849,     0.48949,     0.49049,     0.49149,     0.49249,     0.49349,     0.49449,      0.4955,      0.4965,      0.4975,      0.4985,      0.4995,      0.5005,      0.5015,      0.5025,      0.5035,\n",
       "            0.5045,     0.50551,     0.50651,     0.50751,     0.50851,     0.50951,     0.51051,     0.51151,     0.51251,     0.51351,     0.51451,     0.51552,     0.51652,     0.51752,     0.51852,     0.51952,     0.52052,     0.52152,     0.52252,     0.52352,     0.52452,     0.52553,     0.52653,     0.52753,\n",
       "           0.52853,     0.52953,     0.53053,     0.53153,     0.53253,     0.53353,     0.53453,     0.53554,     0.53654,     0.53754,     0.53854,     0.53954,     0.54054,     0.54154,     0.54254,     0.54354,     0.54454,     0.54555,     0.54655,     0.54755,     0.54855,     0.54955,     0.55055,     0.55155,\n",
       "           0.55255,     0.55355,     0.55455,     0.55556,     0.55656,     0.55756,     0.55856,     0.55956,     0.56056,     0.56156,     0.56256,     0.56356,     0.56456,     0.56557,     0.56657,     0.56757,     0.56857,     0.56957,     0.57057,     0.57157,     0.57257,     0.57357,     0.57457,     0.57558,\n",
       "           0.57658,     0.57758,     0.57858,     0.57958,     0.58058,     0.58158,     0.58258,     0.58358,     0.58458,     0.58559,     0.58659,     0.58759,     0.58859,     0.58959,     0.59059,     0.59159,     0.59259,     0.59359,     0.59459,      0.5956,      0.5966,      0.5976,      0.5986,      0.5996,\n",
       "            0.6006,      0.6016,      0.6026,      0.6036,      0.6046,     0.60561,     0.60661,     0.60761,     0.60861,     0.60961,     0.61061,     0.61161,     0.61261,     0.61361,     0.61461,     0.61562,     0.61662,     0.61762,     0.61862,     0.61962,     0.62062,     0.62162,     0.62262,     0.62362,\n",
       "           0.62462,     0.62563,     0.62663,     0.62763,     0.62863,     0.62963,     0.63063,     0.63163,     0.63263,     0.63363,     0.63463,     0.63564,     0.63664,     0.63764,     0.63864,     0.63964,     0.64064,     0.64164,     0.64264,     0.64364,     0.64464,     0.64565,     0.64665,     0.64765,\n",
       "           0.64865,     0.64965,     0.65065,     0.65165,     0.65265,     0.65365,     0.65465,     0.65566,     0.65666,     0.65766,     0.65866,     0.65966,     0.66066,     0.66166,     0.66266,     0.66366,     0.66466,     0.66567,     0.66667,     0.66767,     0.66867,     0.66967,     0.67067,     0.67167,\n",
       "           0.67267,     0.67367,     0.67467,     0.67568,     0.67668,     0.67768,     0.67868,     0.67968,     0.68068,     0.68168,     0.68268,     0.68368,     0.68468,     0.68569,     0.68669,     0.68769,     0.68869,     0.68969,     0.69069,     0.69169,     0.69269,     0.69369,     0.69469,      0.6957,\n",
       "            0.6967,      0.6977,      0.6987,      0.6997,      0.7007,      0.7017,      0.7027,      0.7037,      0.7047,     0.70571,     0.70671,     0.70771,     0.70871,     0.70971,     0.71071,     0.71171,     0.71271,     0.71371,     0.71471,     0.71572,     0.71672,     0.71772,     0.71872,     0.71972,\n",
       "           0.72072,     0.72172,     0.72272,     0.72372,     0.72472,     0.72573,     0.72673,     0.72773,     0.72873,     0.72973,     0.73073,     0.73173,     0.73273,     0.73373,     0.73473,     0.73574,     0.73674,     0.73774,     0.73874,     0.73974,     0.74074,     0.74174,     0.74274,     0.74374,\n",
       "           0.74474,     0.74575,     0.74675,     0.74775,     0.74875,     0.74975,     0.75075,     0.75175,     0.75275,     0.75375,     0.75475,     0.75576,     0.75676,     0.75776,     0.75876,     0.75976,     0.76076,     0.76176,     0.76276,     0.76376,     0.76476,     0.76577,     0.76677,     0.76777,\n",
       "           0.76877,     0.76977,     0.77077,     0.77177,     0.77277,     0.77377,     0.77477,     0.77578,     0.77678,     0.77778,     0.77878,     0.77978,     0.78078,     0.78178,     0.78278,     0.78378,     0.78478,     0.78579,     0.78679,     0.78779,     0.78879,     0.78979,     0.79079,     0.79179,\n",
       "           0.79279,     0.79379,     0.79479,      0.7958,      0.7968,      0.7978,      0.7988,      0.7998,      0.8008,      0.8018,      0.8028,      0.8038,      0.8048,     0.80581,     0.80681,     0.80781,     0.80881,     0.80981,     0.81081,     0.81181,     0.81281,     0.81381,     0.81481,     0.81582,\n",
       "           0.81682,     0.81782,     0.81882,     0.81982,     0.82082,     0.82182,     0.82282,     0.82382,     0.82482,     0.82583,     0.82683,     0.82783,     0.82883,     0.82983,     0.83083,     0.83183,     0.83283,     0.83383,     0.83483,     0.83584,     0.83684,     0.83784,     0.83884,     0.83984,\n",
       "           0.84084,     0.84184,     0.84284,     0.84384,     0.84484,     0.84585,     0.84685,     0.84785,     0.84885,     0.84985,     0.85085,     0.85185,     0.85285,     0.85385,     0.85485,     0.85586,     0.85686,     0.85786,     0.85886,     0.85986,     0.86086,     0.86186,     0.86286,     0.86386,\n",
       "           0.86486,     0.86587,     0.86687,     0.86787,     0.86887,     0.86987,     0.87087,     0.87187,     0.87287,     0.87387,     0.87487,     0.87588,     0.87688,     0.87788,     0.87888,     0.87988,     0.88088,     0.88188,     0.88288,     0.88388,     0.88488,     0.88589,     0.88689,     0.88789,\n",
       "           0.88889,     0.88989,     0.89089,     0.89189,     0.89289,     0.89389,     0.89489,      0.8959,      0.8969,      0.8979,      0.8989,      0.8999,      0.9009,      0.9019,      0.9029,      0.9039,      0.9049,     0.90591,     0.90691,     0.90791,     0.90891,     0.90991,     0.91091,     0.91191,\n",
       "           0.91291,     0.91391,     0.91491,     0.91592,     0.91692,     0.91792,     0.91892,     0.91992,     0.92092,     0.92192,     0.92292,     0.92392,     0.92492,     0.92593,     0.92693,     0.92793,     0.92893,     0.92993,     0.93093,     0.93193,     0.93293,     0.93393,     0.93493,     0.93594,\n",
       "           0.93694,     0.93794,     0.93894,     0.93994,     0.94094,     0.94194,     0.94294,     0.94394,     0.94494,     0.94595,     0.94695,     0.94795,     0.94895,     0.94995,     0.95095,     0.95195,     0.95295,     0.95395,     0.95495,     0.95596,     0.95696,     0.95796,     0.95896,     0.95996,\n",
       "           0.96096,     0.96196,     0.96296,     0.96396,     0.96496,     0.96597,     0.96697,     0.96797,     0.96897,     0.96997,     0.97097,     0.97197,     0.97297,     0.97397,     0.97497,     0.97598,     0.97698,     0.97798,     0.97898,     0.97998,     0.98098,     0.98198,     0.98298,     0.98398,\n",
       "           0.98498,     0.98599,     0.98699,     0.98799,     0.98899,     0.98999,     0.99099,     0.99199,     0.99299,     0.99399,     0.99499,       0.996,       0.997,       0.998,       0.999,           1]), array([[    0.41846,     0.41846,     0.63164,     0.70268,     0.73866,     0.75486,      0.7814,       0.801,     0.81391,     0.82571,     0.83462,     0.83767,     0.84176,      0.8453,     0.84653,     0.84775,     0.84898,     0.85197,     0.85938,     0.86517,     0.86751,     0.86907,     0.87062,\n",
       "            0.87215,     0.87357,       0.875,     0.87643,     0.87859,     0.88239,     0.88451,     0.88624,     0.88796,      0.8897,     0.89145,     0.89319,     0.89486,     0.89589,     0.89693,     0.89796,     0.89899,     0.90003,     0.90076,     0.90101,     0.90126,     0.90152,     0.90177,\n",
       "            0.90202,     0.90227,     0.90253,     0.90278,     0.90303,     0.90328,     0.90353,     0.90379,     0.90404,     0.90429,     0.90454,      0.9048,     0.90505,      0.9053,     0.90555,     0.90581,     0.90606,     0.90631,     0.90656,     0.90711,     0.90788,     0.90864,      0.9094,\n",
       "            0.91016,     0.91092,     0.91169,     0.91245,     0.91299,     0.91338,     0.91377,     0.91416,     0.91455,     0.91494,     0.91533,     0.91572,      0.9161,     0.91649,     0.91688,     0.91727,     0.91766,     0.91805,     0.91844,     0.91883,     0.91905,     0.91923,      0.9194,\n",
       "            0.91958,     0.91975,     0.91992,      0.9201,     0.92027,     0.92044,     0.92062,     0.92079,     0.92096,     0.92114,     0.92131,     0.92149,     0.92166,     0.92183,     0.92201,     0.92218,     0.92235,     0.92253,      0.9227,     0.92287,     0.92305,     0.92322,      0.9234,\n",
       "            0.92357,     0.92374,     0.92392,     0.92409,     0.92426,     0.92444,     0.92461,     0.92478,     0.92496,     0.92513,     0.92521,     0.92525,      0.9253,     0.92535,      0.9254,     0.92544,     0.92549,     0.92554,     0.92558,     0.92563,     0.92568,     0.92573,     0.92577,\n",
       "            0.92582,     0.92587,     0.92591,     0.92596,     0.92601,     0.92606,      0.9261,     0.92615,      0.9262,     0.92624,     0.92629,     0.92634,     0.92639,     0.92643,     0.92648,     0.92653,     0.92658,     0.92662,     0.92667,     0.92672,     0.92676,     0.92681,     0.92686,\n",
       "            0.92691,     0.92695,       0.927,     0.92705,     0.92709,     0.92714,     0.92719,     0.92724,     0.92728,     0.92733,     0.92738,     0.92742,     0.92747,     0.92752,     0.92757,     0.92761,     0.92766,     0.92771,     0.92775,      0.9278,     0.92785,      0.9279,     0.92794,\n",
       "            0.92799,     0.92804,     0.92808,     0.92813,     0.92818,     0.92823,     0.92827,     0.92832,     0.92837,     0.92842,     0.92846,     0.92851,     0.92856,      0.9286,     0.92865,      0.9287,     0.92875,     0.92879,     0.92884,     0.92889,     0.92893,     0.92898,     0.92903,\n",
       "            0.92908,     0.92912,     0.92917,     0.92922,     0.92926,     0.92931,     0.92936,     0.92941,     0.92945,      0.9295,     0.92955,     0.92959,     0.92964,     0.92969,     0.92974,     0.92978,     0.92983,     0.92988,     0.92993,     0.92997,     0.93002,     0.93007,     0.93011,\n",
       "            0.93016,     0.93021,     0.93026,      0.9303,     0.93035,      0.9304,     0.93044,     0.93049,     0.93054,     0.93059,     0.93063,     0.93068,     0.93073,     0.93077,     0.93082,     0.93087,     0.93092,     0.93096,     0.93101,     0.93106,      0.9311,     0.93115,      0.9312,\n",
       "            0.93125,     0.93129,     0.93134,     0.93139,     0.93143,     0.93148,     0.93295,       0.936,     0.93795,       0.938,     0.93805,      0.9381,     0.93815,      0.9382,     0.93825,     0.93829,     0.93834,     0.93839,     0.93844,     0.93849,     0.93854,     0.93859,     0.93864,\n",
       "            0.93869,     0.93874,     0.93879,     0.93884,     0.93889,     0.93894,     0.93899,     0.93903,     0.93908,     0.93913,     0.93918,     0.93923,     0.93928,     0.93933,     0.93938,     0.93943,     0.93948,     0.93953,     0.93958,     0.93963,     0.93968,     0.93973,     0.93978,\n",
       "            0.93982,     0.93987,     0.93992,     0.93997,     0.94002,     0.94007,     0.94012,     0.94017,     0.94022,     0.94027,     0.94032,     0.94037,     0.94042,     0.94047,     0.94052,     0.94056,     0.94061,     0.94066,     0.94071,     0.94076,     0.94081,     0.94086,     0.94091,\n",
       "            0.94096,     0.94101,     0.94106,     0.94111,     0.94116,     0.94121,     0.94126,      0.9413,     0.94135,      0.9414,     0.94145,      0.9415,     0.94155,      0.9416,     0.94165,      0.9417,     0.94175,      0.9418,     0.94185,      0.9419,     0.94195,       0.942,     0.94205,\n",
       "            0.94209,     0.94214,     0.94219,     0.94224,     0.94229,     0.94234,     0.94239,     0.94244,     0.94249,     0.94254,     0.94259,     0.94264,     0.94269,     0.94274,     0.94279,     0.94283,     0.94288,     0.94293,     0.94298,     0.94303,     0.94308,     0.94313,     0.94318,\n",
       "            0.94323,     0.94328,     0.94333,     0.94338,     0.94343,     0.94348,     0.94353,     0.94358,     0.94362,     0.94367,     0.94372,     0.94377,     0.94382,     0.94387,     0.94392,     0.94397,     0.94402,     0.94407,     0.94412,     0.94417,     0.94422,     0.94427,     0.94432,\n",
       "            0.94436,     0.94441,     0.94449,     0.94462,     0.94474,     0.94487,       0.945,     0.94512,     0.94525,     0.94537,      0.9455,     0.94562,     0.94575,     0.94588,       0.946,     0.94613,     0.94625,     0.94638,      0.9465,     0.94663,     0.94675,     0.94688,     0.94701,\n",
       "            0.94713,     0.94726,     0.94738,     0.94751,     0.94763,     0.94776,     0.94789,     0.94801,     0.94814,     0.94826,     0.94839,     0.94851,     0.94864,     0.94877,     0.94889,     0.94902,     0.94914,     0.94927,     0.94939,     0.94952,     0.94965,     0.94977,      0.9499,\n",
       "            0.95002,     0.95015,     0.95027,      0.9504,     0.95053,     0.95065,     0.95078,      0.9509,     0.95103,     0.95162,      0.9523,     0.95298,     0.95366,     0.95434,     0.95503,     0.95571,     0.95639,     0.95707,     0.95775,     0.95778,     0.95782,     0.95785,     0.95788,\n",
       "            0.95792,     0.95795,     0.95799,     0.95802,     0.95806,     0.95809,     0.95812,     0.95816,     0.95819,     0.95823,     0.95826,      0.9583,     0.95833,     0.95836,      0.9584,     0.95843,     0.95847,      0.9585,     0.95853,     0.95857,      0.9586,     0.95864,     0.95867,\n",
       "            0.95871,     0.95874,     0.95877,     0.95881,     0.95884,     0.95888,     0.95891,     0.95895,     0.95898,     0.95901,     0.95905,     0.95908,     0.95912,     0.95915,     0.95919,     0.95922,     0.95925,     0.95929,     0.95932,     0.95936,     0.95939,     0.95943,     0.95946,\n",
       "            0.95949,     0.95953,     0.95956,      0.9596,     0.95963,     0.95967,      0.9597,     0.95973,     0.95977,      0.9598,     0.95984,     0.95987,     0.95991,     0.95994,     0.95997,     0.96001,     0.96004,     0.96008,     0.96011,     0.96015,     0.96018,     0.96021,     0.96025,\n",
       "            0.96028,     0.96032,     0.96035,     0.96039,     0.96042,     0.96045,     0.96049,     0.96052,     0.96056,     0.96059,     0.96063,     0.96066,     0.96069,     0.96073,     0.96076,      0.9608,     0.96083,     0.96087,      0.9609,     0.96093,     0.96097,       0.961,     0.96104,\n",
       "            0.96107,     0.96111,     0.96114,     0.96117,     0.96121,     0.96124,     0.96128,     0.96131,     0.96135,     0.96138,     0.96141,     0.96145,     0.96148,     0.96152,     0.96155,     0.96158,     0.96162,     0.96165,     0.96169,     0.96172,     0.96176,     0.96179,     0.96182,\n",
       "            0.96186,     0.96189,     0.96193,     0.96196,       0.962,     0.96203,     0.96206,      0.9621,     0.96213,     0.96217,      0.9622,     0.96224,     0.96227,      0.9623,     0.96234,     0.96237,     0.96241,     0.96244,     0.96248,     0.96251,     0.96254,     0.96258,     0.96261,\n",
       "            0.96265,     0.96268,     0.96272,     0.96275,     0.96278,     0.96282,     0.96285,     0.96289,     0.96292,     0.96296,     0.96299,     0.96302,     0.96306,     0.96309,     0.96313,     0.96316,      0.9632,     0.96323,     0.96326,      0.9633,     0.96333,     0.96337,      0.9634,\n",
       "            0.96344,     0.96347,      0.9635,     0.96354,     0.96357,     0.96361,     0.96364,     0.96368,     0.96371,     0.96374,     0.96378,     0.96381,     0.96385,     0.96388,     0.96392,     0.96395,     0.96398,     0.96402,     0.96405,     0.96409,     0.96412,     0.96416,     0.96419,\n",
       "            0.96422,     0.96426,     0.96429,     0.96433,     0.96436,     0.96439,     0.96443,     0.96446,      0.9645,     0.96453,     0.96451,     0.96448,     0.96445,     0.96442,     0.96439,     0.96435,     0.96432,     0.96429,     0.96545,     0.96683,     0.96821,     0.96959,     0.97098,\n",
       "            0.97126,      0.9713,     0.97135,     0.97139,     0.97144,     0.97148,     0.97153,     0.97157,     0.97162,     0.97166,     0.97171,     0.97175,      0.9718,     0.97184,     0.97189,     0.97194,     0.97198,     0.97203,     0.97207,     0.97212,     0.97216,     0.97221,     0.97225,\n",
       "             0.9723,     0.97234,     0.97239,     0.97243,     0.97248,     0.97252,     0.97257,     0.97261,     0.97266,      0.9727,     0.97275,     0.97279,     0.97284,     0.97288,     0.97293,     0.97297,     0.97302,     0.97306,     0.97311,     0.97315,      0.9732,     0.97324,     0.97329,\n",
       "            0.97333,     0.97338,     0.97342,     0.97347,     0.97351,     0.97356,      0.9736,     0.97365,     0.97369,     0.97374,     0.97378,     0.97383,     0.97387,     0.97392,     0.97396,     0.97401,     0.97405,      0.9741,     0.97414,     0.97419,     0.97423,     0.97428,     0.97432,\n",
       "            0.97437,     0.97441,     0.97446,      0.9745,     0.97455,     0.97459,     0.97464,     0.97468,     0.97473,     0.97477,     0.97482,     0.97486,     0.97491,     0.97495,       0.975,     0.97504,     0.97509,     0.97513,     0.97518,     0.97522,     0.97527,     0.97531,     0.97536,\n",
       "             0.9754,     0.97545,     0.97549,     0.97554,     0.97558,     0.97563,     0.97567,     0.97572,     0.97576,     0.97581,     0.97585,      0.9759,     0.97594,     0.97599,     0.97603,     0.97608,     0.97612,     0.97617,     0.97621,     0.97626,      0.9763,     0.97635,     0.97639,\n",
       "            0.97644,     0.97648,     0.97653,     0.97657,     0.97662,     0.97666,     0.97671,     0.97675,      0.9768,     0.97684,     0.97689,     0.97693,     0.97698,     0.97702,     0.97707,     0.97711,     0.97716,      0.9772,     0.97725,     0.97729,     0.97734,     0.97738,     0.97743,\n",
       "            0.97747,     0.97752,     0.97756,     0.97761,     0.97765,      0.9777,     0.97774,     0.97779,     0.97783,     0.97788,     0.97792,     0.97797,     0.97801,     0.97806,      0.9781,     0.97815,     0.97819,     0.97824,     0.97824,      0.9782,     0.97815,     0.97811,     0.97809,\n",
       "            0.97809,     0.97808,     0.97807,     0.97806,     0.97805,     0.97804,     0.97803,     0.97802,     0.97801,     0.97801,       0.978,     0.97799,     0.97798,     0.97797,     0.97796,     0.97795,     0.97794,     0.97792,      0.9779,     0.97787,     0.97785,     0.97782,      0.9778,\n",
       "            0.97777,     0.97775,     0.97772,     0.97769,     0.97766,     0.97763,     0.97756,     0.97744,     0.97736,     0.97728,     0.97716,     0.97705,     0.97697,     0.97678,     0.98436,     0.98433,     0.98431,     0.98428,     0.98426,     0.98423,     0.98421,     0.98418,     0.98416,\n",
       "            0.98413,     0.98405,     0.98398,     0.98394,      0.9839,     0.98382,     0.98359,     0.98351,     0.98343,     0.98335,     0.98321,     0.98314,     0.98307,     0.98299,     0.98656,     0.99135,     0.99131,     0.99118,     0.99114,     0.99111,     0.99108,     0.99096,     0.99089,\n",
       "            0.99084,     0.99071,     0.99057,     0.99042,     0.99026,     0.98989,     0.98982,     0.98947,     0.98939,      0.9891,     0.98886,     0.98868,     0.98838,     0.98801,     0.98766,     0.98717,     0.98676,     0.98665,     0.98656,     0.98637,     0.98582,     0.98551,     0.98519,\n",
       "            0.98431,     0.98382,     0.98369,     0.98328,     0.98307,     0.98251,     0.98169,     0.98051,     0.98008,     0.97885,     0.97813,     0.97746,     0.97708,     0.97678,     0.97552,     0.97485,     0.97421,     0.97215,     0.96945,     0.98194,     0.99444,           1,           1,\n",
       "                  1,           1,           1,           1,           1,           1,           1,           1,           1,           1,           1,           1,           1,           1,           1,           1,           1,           1,           1,           1,           1,           1,           1,\n",
       "                  1,           1,           1,           1,           1,           1,           1,           1,           1,           1,           1,           1,           1,           1,           1,           1,           1,           1,           1,           1,           1,           1,           1,\n",
       "                  1,           1,           1,           1,           1,           1,           1,           1,           1,           1,           1]]), 'Confidence', 'Precision'], [array([          0,    0.001001,    0.002002,    0.003003,    0.004004,    0.005005,    0.006006,    0.007007,    0.008008,    0.009009,     0.01001,    0.011011,    0.012012,    0.013013,    0.014014,    0.015015,    0.016016,    0.017017,    0.018018,    0.019019,     0.02002,    0.021021,    0.022022,    0.023023,\n",
       "          0.024024,    0.025025,    0.026026,    0.027027,    0.028028,    0.029029,     0.03003,    0.031031,    0.032032,    0.033033,    0.034034,    0.035035,    0.036036,    0.037037,    0.038038,    0.039039,     0.04004,    0.041041,    0.042042,    0.043043,    0.044044,    0.045045,    0.046046,    0.047047,\n",
       "          0.048048,    0.049049,     0.05005,    0.051051,    0.052052,    0.053053,    0.054054,    0.055055,    0.056056,    0.057057,    0.058058,    0.059059,     0.06006,    0.061061,    0.062062,    0.063063,    0.064064,    0.065065,    0.066066,    0.067067,    0.068068,    0.069069,     0.07007,    0.071071,\n",
       "          0.072072,    0.073073,    0.074074,    0.075075,    0.076076,    0.077077,    0.078078,    0.079079,     0.08008,    0.081081,    0.082082,    0.083083,    0.084084,    0.085085,    0.086086,    0.087087,    0.088088,    0.089089,     0.09009,    0.091091,    0.092092,    0.093093,    0.094094,    0.095095,\n",
       "          0.096096,    0.097097,    0.098098,    0.099099,      0.1001,      0.1011,      0.1021,      0.1031,      0.1041,     0.10511,     0.10611,     0.10711,     0.10811,     0.10911,     0.11011,     0.11111,     0.11211,     0.11311,     0.11411,     0.11512,     0.11612,     0.11712,     0.11812,     0.11912,\n",
       "           0.12012,     0.12112,     0.12212,     0.12312,     0.12412,     0.12513,     0.12613,     0.12713,     0.12813,     0.12913,     0.13013,     0.13113,     0.13213,     0.13313,     0.13413,     0.13514,     0.13614,     0.13714,     0.13814,     0.13914,     0.14014,     0.14114,     0.14214,     0.14314,\n",
       "           0.14414,     0.14515,     0.14615,     0.14715,     0.14815,     0.14915,     0.15015,     0.15115,     0.15215,     0.15315,     0.15415,     0.15516,     0.15616,     0.15716,     0.15816,     0.15916,     0.16016,     0.16116,     0.16216,     0.16316,     0.16416,     0.16517,     0.16617,     0.16717,\n",
       "           0.16817,     0.16917,     0.17017,     0.17117,     0.17217,     0.17317,     0.17417,     0.17518,     0.17618,     0.17718,     0.17818,     0.17918,     0.18018,     0.18118,     0.18218,     0.18318,     0.18418,     0.18519,     0.18619,     0.18719,     0.18819,     0.18919,     0.19019,     0.19119,\n",
       "           0.19219,     0.19319,     0.19419,      0.1952,      0.1962,      0.1972,      0.1982,      0.1992,      0.2002,      0.2012,      0.2022,      0.2032,      0.2042,     0.20521,     0.20621,     0.20721,     0.20821,     0.20921,     0.21021,     0.21121,     0.21221,     0.21321,     0.21421,     0.21522,\n",
       "           0.21622,     0.21722,     0.21822,     0.21922,     0.22022,     0.22122,     0.22222,     0.22322,     0.22422,     0.22523,     0.22623,     0.22723,     0.22823,     0.22923,     0.23023,     0.23123,     0.23223,     0.23323,     0.23423,     0.23524,     0.23624,     0.23724,     0.23824,     0.23924,\n",
       "           0.24024,     0.24124,     0.24224,     0.24324,     0.24424,     0.24525,     0.24625,     0.24725,     0.24825,     0.24925,     0.25025,     0.25125,     0.25225,     0.25325,     0.25425,     0.25526,     0.25626,     0.25726,     0.25826,     0.25926,     0.26026,     0.26126,     0.26226,     0.26326,\n",
       "           0.26426,     0.26527,     0.26627,     0.26727,     0.26827,     0.26927,     0.27027,     0.27127,     0.27227,     0.27327,     0.27427,     0.27528,     0.27628,     0.27728,     0.27828,     0.27928,     0.28028,     0.28128,     0.28228,     0.28328,     0.28428,     0.28529,     0.28629,     0.28729,\n",
       "           0.28829,     0.28929,     0.29029,     0.29129,     0.29229,     0.29329,     0.29429,      0.2953,      0.2963,      0.2973,      0.2983,      0.2993,      0.3003,      0.3013,      0.3023,      0.3033,      0.3043,     0.30531,     0.30631,     0.30731,     0.30831,     0.30931,     0.31031,     0.31131,\n",
       "           0.31231,     0.31331,     0.31431,     0.31532,     0.31632,     0.31732,     0.31832,     0.31932,     0.32032,     0.32132,     0.32232,     0.32332,     0.32432,     0.32533,     0.32633,     0.32733,     0.32833,     0.32933,     0.33033,     0.33133,     0.33233,     0.33333,     0.33433,     0.33534,\n",
       "           0.33634,     0.33734,     0.33834,     0.33934,     0.34034,     0.34134,     0.34234,     0.34334,     0.34434,     0.34535,     0.34635,     0.34735,     0.34835,     0.34935,     0.35035,     0.35135,     0.35235,     0.35335,     0.35435,     0.35536,     0.35636,     0.35736,     0.35836,     0.35936,\n",
       "           0.36036,     0.36136,     0.36236,     0.36336,     0.36436,     0.36537,     0.36637,     0.36737,     0.36837,     0.36937,     0.37037,     0.37137,     0.37237,     0.37337,     0.37437,     0.37538,     0.37638,     0.37738,     0.37838,     0.37938,     0.38038,     0.38138,     0.38238,     0.38338,\n",
       "           0.38438,     0.38539,     0.38639,     0.38739,     0.38839,     0.38939,     0.39039,     0.39139,     0.39239,     0.39339,     0.39439,      0.3954,      0.3964,      0.3974,      0.3984,      0.3994,      0.4004,      0.4014,      0.4024,      0.4034,      0.4044,     0.40541,     0.40641,     0.40741,\n",
       "           0.40841,     0.40941,     0.41041,     0.41141,     0.41241,     0.41341,     0.41441,     0.41542,     0.41642,     0.41742,     0.41842,     0.41942,     0.42042,     0.42142,     0.42242,     0.42342,     0.42442,     0.42543,     0.42643,     0.42743,     0.42843,     0.42943,     0.43043,     0.43143,\n",
       "           0.43243,     0.43343,     0.43443,     0.43544,     0.43644,     0.43744,     0.43844,     0.43944,     0.44044,     0.44144,     0.44244,     0.44344,     0.44444,     0.44545,     0.44645,     0.44745,     0.44845,     0.44945,     0.45045,     0.45145,     0.45245,     0.45345,     0.45445,     0.45546,\n",
       "           0.45646,     0.45746,     0.45846,     0.45946,     0.46046,     0.46146,     0.46246,     0.46346,     0.46446,     0.46547,     0.46647,     0.46747,     0.46847,     0.46947,     0.47047,     0.47147,     0.47247,     0.47347,     0.47447,     0.47548,     0.47648,     0.47748,     0.47848,     0.47948,\n",
       "           0.48048,     0.48148,     0.48248,     0.48348,     0.48448,     0.48549,     0.48649,     0.48749,     0.48849,     0.48949,     0.49049,     0.49149,     0.49249,     0.49349,     0.49449,      0.4955,      0.4965,      0.4975,      0.4985,      0.4995,      0.5005,      0.5015,      0.5025,      0.5035,\n",
       "            0.5045,     0.50551,     0.50651,     0.50751,     0.50851,     0.50951,     0.51051,     0.51151,     0.51251,     0.51351,     0.51451,     0.51552,     0.51652,     0.51752,     0.51852,     0.51952,     0.52052,     0.52152,     0.52252,     0.52352,     0.52452,     0.52553,     0.52653,     0.52753,\n",
       "           0.52853,     0.52953,     0.53053,     0.53153,     0.53253,     0.53353,     0.53453,     0.53554,     0.53654,     0.53754,     0.53854,     0.53954,     0.54054,     0.54154,     0.54254,     0.54354,     0.54454,     0.54555,     0.54655,     0.54755,     0.54855,     0.54955,     0.55055,     0.55155,\n",
       "           0.55255,     0.55355,     0.55455,     0.55556,     0.55656,     0.55756,     0.55856,     0.55956,     0.56056,     0.56156,     0.56256,     0.56356,     0.56456,     0.56557,     0.56657,     0.56757,     0.56857,     0.56957,     0.57057,     0.57157,     0.57257,     0.57357,     0.57457,     0.57558,\n",
       "           0.57658,     0.57758,     0.57858,     0.57958,     0.58058,     0.58158,     0.58258,     0.58358,     0.58458,     0.58559,     0.58659,     0.58759,     0.58859,     0.58959,     0.59059,     0.59159,     0.59259,     0.59359,     0.59459,      0.5956,      0.5966,      0.5976,      0.5986,      0.5996,\n",
       "            0.6006,      0.6016,      0.6026,      0.6036,      0.6046,     0.60561,     0.60661,     0.60761,     0.60861,     0.60961,     0.61061,     0.61161,     0.61261,     0.61361,     0.61461,     0.61562,     0.61662,     0.61762,     0.61862,     0.61962,     0.62062,     0.62162,     0.62262,     0.62362,\n",
       "           0.62462,     0.62563,     0.62663,     0.62763,     0.62863,     0.62963,     0.63063,     0.63163,     0.63263,     0.63363,     0.63463,     0.63564,     0.63664,     0.63764,     0.63864,     0.63964,     0.64064,     0.64164,     0.64264,     0.64364,     0.64464,     0.64565,     0.64665,     0.64765,\n",
       "           0.64865,     0.64965,     0.65065,     0.65165,     0.65265,     0.65365,     0.65465,     0.65566,     0.65666,     0.65766,     0.65866,     0.65966,     0.66066,     0.66166,     0.66266,     0.66366,     0.66466,     0.66567,     0.66667,     0.66767,     0.66867,     0.66967,     0.67067,     0.67167,\n",
       "           0.67267,     0.67367,     0.67467,     0.67568,     0.67668,     0.67768,     0.67868,     0.67968,     0.68068,     0.68168,     0.68268,     0.68368,     0.68468,     0.68569,     0.68669,     0.68769,     0.68869,     0.68969,     0.69069,     0.69169,     0.69269,     0.69369,     0.69469,      0.6957,\n",
       "            0.6967,      0.6977,      0.6987,      0.6997,      0.7007,      0.7017,      0.7027,      0.7037,      0.7047,     0.70571,     0.70671,     0.70771,     0.70871,     0.70971,     0.71071,     0.71171,     0.71271,     0.71371,     0.71471,     0.71572,     0.71672,     0.71772,     0.71872,     0.71972,\n",
       "           0.72072,     0.72172,     0.72272,     0.72372,     0.72472,     0.72573,     0.72673,     0.72773,     0.72873,     0.72973,     0.73073,     0.73173,     0.73273,     0.73373,     0.73473,     0.73574,     0.73674,     0.73774,     0.73874,     0.73974,     0.74074,     0.74174,     0.74274,     0.74374,\n",
       "           0.74474,     0.74575,     0.74675,     0.74775,     0.74875,     0.74975,     0.75075,     0.75175,     0.75275,     0.75375,     0.75475,     0.75576,     0.75676,     0.75776,     0.75876,     0.75976,     0.76076,     0.76176,     0.76276,     0.76376,     0.76476,     0.76577,     0.76677,     0.76777,\n",
       "           0.76877,     0.76977,     0.77077,     0.77177,     0.77277,     0.77377,     0.77477,     0.77578,     0.77678,     0.77778,     0.77878,     0.77978,     0.78078,     0.78178,     0.78278,     0.78378,     0.78478,     0.78579,     0.78679,     0.78779,     0.78879,     0.78979,     0.79079,     0.79179,\n",
       "           0.79279,     0.79379,     0.79479,      0.7958,      0.7968,      0.7978,      0.7988,      0.7998,      0.8008,      0.8018,      0.8028,      0.8038,      0.8048,     0.80581,     0.80681,     0.80781,     0.80881,     0.80981,     0.81081,     0.81181,     0.81281,     0.81381,     0.81481,     0.81582,\n",
       "           0.81682,     0.81782,     0.81882,     0.81982,     0.82082,     0.82182,     0.82282,     0.82382,     0.82482,     0.82583,     0.82683,     0.82783,     0.82883,     0.82983,     0.83083,     0.83183,     0.83283,     0.83383,     0.83483,     0.83584,     0.83684,     0.83784,     0.83884,     0.83984,\n",
       "           0.84084,     0.84184,     0.84284,     0.84384,     0.84484,     0.84585,     0.84685,     0.84785,     0.84885,     0.84985,     0.85085,     0.85185,     0.85285,     0.85385,     0.85485,     0.85586,     0.85686,     0.85786,     0.85886,     0.85986,     0.86086,     0.86186,     0.86286,     0.86386,\n",
       "           0.86486,     0.86587,     0.86687,     0.86787,     0.86887,     0.86987,     0.87087,     0.87187,     0.87287,     0.87387,     0.87487,     0.87588,     0.87688,     0.87788,     0.87888,     0.87988,     0.88088,     0.88188,     0.88288,     0.88388,     0.88488,     0.88589,     0.88689,     0.88789,\n",
       "           0.88889,     0.88989,     0.89089,     0.89189,     0.89289,     0.89389,     0.89489,      0.8959,      0.8969,      0.8979,      0.8989,      0.8999,      0.9009,      0.9019,      0.9029,      0.9039,      0.9049,     0.90591,     0.90691,     0.90791,     0.90891,     0.90991,     0.91091,     0.91191,\n",
       "           0.91291,     0.91391,     0.91491,     0.91592,     0.91692,     0.91792,     0.91892,     0.91992,     0.92092,     0.92192,     0.92292,     0.92392,     0.92492,     0.92593,     0.92693,     0.92793,     0.92893,     0.92993,     0.93093,     0.93193,     0.93293,     0.93393,     0.93493,     0.93594,\n",
       "           0.93694,     0.93794,     0.93894,     0.93994,     0.94094,     0.94194,     0.94294,     0.94394,     0.94494,     0.94595,     0.94695,     0.94795,     0.94895,     0.94995,     0.95095,     0.95195,     0.95295,     0.95395,     0.95495,     0.95596,     0.95696,     0.95796,     0.95896,     0.95996,\n",
       "           0.96096,     0.96196,     0.96296,     0.96396,     0.96496,     0.96597,     0.96697,     0.96797,     0.96897,     0.96997,     0.97097,     0.97197,     0.97297,     0.97397,     0.97497,     0.97598,     0.97698,     0.97798,     0.97898,     0.97998,     0.98098,     0.98198,     0.98298,     0.98398,\n",
       "           0.98498,     0.98599,     0.98699,     0.98799,     0.98899,     0.98999,     0.99099,     0.99199,     0.99299,     0.99399,     0.99499,       0.996,       0.997,       0.998,       0.999,           1]), array([[     0.9927,      0.9927,      0.9927,      0.9927,      0.9927,      0.9927,      0.9927,      0.9927,      0.9927,      0.9927,      0.9927,      0.9927,      0.9927,      0.9927,      0.9927,      0.9927,      0.9927,      0.9927,      0.9927,      0.9927,      0.9927,      0.9927,      0.9927,\n",
       "             0.9927,      0.9927,      0.9927,      0.9927,      0.9927,      0.9927,      0.9927,      0.9927,      0.9927,      0.9927,      0.9927,      0.9927,      0.9927,      0.9927,      0.9927,      0.9927,      0.9927,      0.9927,      0.9927,      0.9927,      0.9927,      0.9927,      0.9927,\n",
       "             0.9927,      0.9927,      0.9927,      0.9927,      0.9927,      0.9927,      0.9927,      0.9927,      0.9927,      0.9927,      0.9927,      0.9927,      0.9927,      0.9927,      0.9927,      0.9927,      0.9927,      0.9927,      0.9927,      0.9927,      0.9927,      0.9927,      0.9927,\n",
       "             0.9927,      0.9927,      0.9927,      0.9927,      0.9927,      0.9927,      0.9927,      0.9927,      0.9927,      0.9927,      0.9927,      0.9927,      0.9927,      0.9927,      0.9927,      0.9927,      0.9927,      0.9927,      0.9927,      0.9927,      0.9927,      0.9927,      0.9927,\n",
       "             0.9927,      0.9927,      0.9927,      0.9927,      0.9927,      0.9927,      0.9927,      0.9927,      0.9927,      0.9927,      0.9927,      0.9927,      0.9927,      0.9927,      0.9927,      0.9927,      0.9927,      0.9927,      0.9927,      0.9927,      0.9927,      0.9927,      0.9927,\n",
       "             0.9927,      0.9927,      0.9927,      0.9927,      0.9927,      0.9927,      0.9927,      0.9927,      0.9927,      0.9927,      0.9927,      0.9927,      0.9927,      0.9927,      0.9927,      0.9927,      0.9927,      0.9927,      0.9927,      0.9927,      0.9927,      0.9927,      0.9927,\n",
       "             0.9927,      0.9927,      0.9927,      0.9927,      0.9927,      0.9927,      0.9927,      0.9927,      0.9927,      0.9927,      0.9927,      0.9927,      0.9927,      0.9927,      0.9927,      0.9927,      0.9927,      0.9927,      0.9927,      0.9927,      0.9927,      0.9927,      0.9927,\n",
       "             0.9927,      0.9927,      0.9927,      0.9927,      0.9927,      0.9927,      0.9927,      0.9927,      0.9927,      0.9927,      0.9927,      0.9927,      0.9927,      0.9927,      0.9927,      0.9927,      0.9927,      0.9927,      0.9927,      0.9927,      0.9927,      0.9927,      0.9927,\n",
       "             0.9927,      0.9927,      0.9927,      0.9927,      0.9927,      0.9927,      0.9927,      0.9927,      0.9927,      0.9927,      0.9927,      0.9927,      0.9927,      0.9927,      0.9927,      0.9927,      0.9927,      0.9927,      0.9927,      0.9927,      0.9927,      0.9927,      0.9927,\n",
       "             0.9927,      0.9927,      0.9927,      0.9927,      0.9927,      0.9927,      0.9927,      0.9927,      0.9927,      0.9927,      0.9927,      0.9927,      0.9927,      0.9927,      0.9927,      0.9927,      0.9927,      0.9927,      0.9927,      0.9927,      0.9927,      0.9927,      0.9927,\n",
       "             0.9927,      0.9927,      0.9927,      0.9927,      0.9927,      0.9927,      0.9927,      0.9927,      0.9927,      0.9927,      0.9927,      0.9927,      0.9927,      0.9927,      0.9927,      0.9927,      0.9927,      0.9927,      0.9927,      0.9927,      0.9927,      0.9927,      0.9927,\n",
       "             0.9927,      0.9927,      0.9927,      0.9927,      0.9927,      0.9927,      0.9927,      0.9927,      0.9927,      0.9927,      0.9927,      0.9927,      0.9927,      0.9927,      0.9927,      0.9927,      0.9927,      0.9927,      0.9927,      0.9927,      0.9927,      0.9927,      0.9927,\n",
       "             0.9927,      0.9927,      0.9927,      0.9927,      0.9927,      0.9927,      0.9927,      0.9927,      0.9927,      0.9927,      0.9927,      0.9927,      0.9927,      0.9927,      0.9927,      0.9927,      0.9927,      0.9927,      0.9927,      0.9927,      0.9927,      0.9927,      0.9927,\n",
       "             0.9927,      0.9927,      0.9927,      0.9927,      0.9927,      0.9927,      0.9927,      0.9927,      0.9927,      0.9927,      0.9927,      0.9927,      0.9927,      0.9927,      0.9927,      0.9927,      0.9927,      0.9927,      0.9927,      0.9927,      0.9927,      0.9927,      0.9927,\n",
       "             0.9927,      0.9927,      0.9927,      0.9927,      0.9927,      0.9927,      0.9927,      0.9927,      0.9927,      0.9927,      0.9927,      0.9927,      0.9927,      0.9927,      0.9927,      0.9927,      0.9927,      0.9927,      0.9927,      0.9927,      0.9927,      0.9927,      0.9927,\n",
       "             0.9927,      0.9927,      0.9927,      0.9927,      0.9927,      0.9927,      0.9927,      0.9927,      0.9927,      0.9927,      0.9927,      0.9927,      0.9927,      0.9927,      0.9927,      0.9927,      0.9927,      0.9927,      0.9927,      0.9927,      0.9927,      0.9927,      0.9927,\n",
       "             0.9927,      0.9927,      0.9927,      0.9927,      0.9927,      0.9927,      0.9927,      0.9927,      0.9927,      0.9927,      0.9927,      0.9927,      0.9927,      0.9927,      0.9927,      0.9927,      0.9927,      0.9927,      0.9927,      0.9927,      0.9927,      0.9927,      0.9927,\n",
       "             0.9927,      0.9927,      0.9927,      0.9927,      0.9927,      0.9927,      0.9927,      0.9927,      0.9927,      0.9927,      0.9927,      0.9927,      0.9927,      0.9927,      0.9927,      0.9927,      0.9927,      0.9927,      0.9927,      0.9927,      0.9927,      0.9927,      0.9927,\n",
       "             0.9927,      0.9927,      0.9927,      0.9927,      0.9927,      0.9927,      0.9927,      0.9927,      0.9927,      0.9927,      0.9927,      0.9927,      0.9927,      0.9927,      0.9927,      0.9927,      0.9927,      0.9927,      0.9927,      0.9927,      0.9927,      0.9927,      0.9927,\n",
       "             0.9927,      0.9927,      0.9927,      0.9927,      0.9927,      0.9927,      0.9927,      0.9927,      0.9927,      0.9927,      0.9927,      0.9927,      0.9927,      0.9927,      0.9927,      0.9927,      0.9927,      0.9927,      0.9927,      0.9927,      0.9927,      0.9927,      0.9927,\n",
       "             0.9927,      0.9927,      0.9927,      0.9927,      0.9927,      0.9927,      0.9927,      0.9927,      0.9927,      0.9927,      0.9927,      0.9927,      0.9927,      0.9927,      0.9927,      0.9927,      0.9927,      0.9927,      0.9927,      0.9927,      0.9927,      0.9927,      0.9927,\n",
       "             0.9927,      0.9927,      0.9927,      0.9927,      0.9927,      0.9927,      0.9927,      0.9927,      0.9927,      0.9927,      0.9927,      0.9927,      0.9927,      0.9927,      0.9927,      0.9927,      0.9927,      0.9927,      0.9927,      0.9927,      0.9927,      0.9927,      0.9927,\n",
       "             0.9927,      0.9927,      0.9927,      0.9927,      0.9927,      0.9927,      0.9927,      0.9927,      0.9927,      0.9927,      0.9927,      0.9927,      0.9927,      0.9927,      0.9927,      0.9927,      0.9927,      0.9927,      0.9927,      0.9927,      0.9927,      0.9927,      0.9927,\n",
       "             0.9927,      0.9927,      0.9927,      0.9927,      0.9927,      0.9927,      0.9927,      0.9927,      0.9927,      0.9927,      0.9927,      0.9927,      0.9927,      0.9927,      0.9927,      0.9927,      0.9927,      0.9927,      0.9927,      0.9927,      0.9927,      0.9927,      0.9927,\n",
       "             0.9927,      0.9927,      0.9927,      0.9927,      0.9927,      0.9927,      0.9927,      0.9927,      0.9927,      0.9927,      0.9927,      0.9927,      0.9927,      0.9927,      0.9927,      0.9927,      0.9927,      0.9927,      0.9927,      0.9927,      0.9927,      0.9927,      0.9927,\n",
       "             0.9927,      0.9927,      0.9927,      0.9927,      0.9927,      0.9927,      0.9927,      0.9927,      0.9927,      0.9927,      0.9927,      0.9927,      0.9927,      0.9927,      0.9927,      0.9927,      0.9927,      0.9927,      0.9927,      0.9927,      0.9927,      0.9927,      0.9927,\n",
       "             0.9927,      0.9927,      0.9927,      0.9927,      0.9927,      0.9927,      0.9927,      0.9927,      0.9927,      0.9927,      0.9927,      0.9927,      0.9927,      0.9927,      0.9927,      0.9927,      0.9927,      0.9927,      0.9927,      0.9927,      0.9927,      0.9927,      0.9927,\n",
       "             0.9927,      0.9927,      0.9927,      0.9927,      0.9927,      0.9927,      0.9927,      0.9927,      0.9927,      0.9927,      0.9927,      0.9927,      0.9927,      0.9927,      0.9927,      0.9927,      0.9927,      0.9927,      0.9927,      0.9927,      0.9927,      0.9927,      0.9927,\n",
       "             0.9927,      0.9927,      0.9927,      0.9927,      0.9927,      0.9927,      0.9927,      0.9927,      0.9927,      0.9927,     0.99197,     0.99105,     0.99013,     0.98922,      0.9883,     0.98738,     0.98647,     0.98555,      0.9854,      0.9854,      0.9854,      0.9854,      0.9854,\n",
       "             0.9854,      0.9854,      0.9854,      0.9854,      0.9854,      0.9854,      0.9854,      0.9854,      0.9854,      0.9854,      0.9854,      0.9854,      0.9854,      0.9854,      0.9854,      0.9854,      0.9854,      0.9854,      0.9854,      0.9854,      0.9854,      0.9854,      0.9854,\n",
       "             0.9854,      0.9854,      0.9854,      0.9854,      0.9854,      0.9854,      0.9854,      0.9854,      0.9854,      0.9854,      0.9854,      0.9854,      0.9854,      0.9854,      0.9854,      0.9854,      0.9854,      0.9854,      0.9854,      0.9854,      0.9854,      0.9854,      0.9854,\n",
       "             0.9854,      0.9854,      0.9854,      0.9854,      0.9854,      0.9854,      0.9854,      0.9854,      0.9854,      0.9854,      0.9854,      0.9854,      0.9854,      0.9854,      0.9854,      0.9854,      0.9854,      0.9854,      0.9854,      0.9854,      0.9854,      0.9854,      0.9854,\n",
       "             0.9854,      0.9854,      0.9854,      0.9854,      0.9854,      0.9854,      0.9854,      0.9854,      0.9854,      0.9854,      0.9854,      0.9854,      0.9854,      0.9854,      0.9854,      0.9854,      0.9854,      0.9854,      0.9854,      0.9854,      0.9854,      0.9854,      0.9854,\n",
       "             0.9854,      0.9854,      0.9854,      0.9854,      0.9854,      0.9854,      0.9854,      0.9854,      0.9854,      0.9854,      0.9854,      0.9854,      0.9854,      0.9854,      0.9854,      0.9854,      0.9854,      0.9854,      0.9854,      0.9854,      0.9854,      0.9854,      0.9854,\n",
       "             0.9854,      0.9854,      0.9854,      0.9854,      0.9854,      0.9854,      0.9854,      0.9854,      0.9854,      0.9854,      0.9854,      0.9854,      0.9854,      0.9854,      0.9854,      0.9854,      0.9854,      0.9854,      0.9854,      0.9854,      0.9854,      0.9854,      0.9854,\n",
       "             0.9854,      0.9854,      0.9854,      0.9854,      0.9854,      0.9854,      0.9854,      0.9854,      0.9854,      0.9854,      0.9854,      0.9854,      0.9854,      0.9854,      0.9854,      0.9854,      0.9854,      0.9854,     0.98452,      0.9825,     0.98047,     0.97844,     0.97777,\n",
       "            0.97736,     0.97696,     0.97655,     0.97615,     0.97574,     0.97534,     0.97493,     0.97453,     0.97412,     0.97372,     0.97331,     0.97291,      0.9725,      0.9721,      0.9717,     0.97129,     0.97089,     0.96993,     0.96884,     0.96774,     0.96664,     0.96554,     0.96445,\n",
       "            0.96333,     0.96207,      0.9608,     0.95954,     0.95828,     0.95702,     0.95415,     0.94861,     0.94535,     0.94208,     0.93682,      0.9324,     0.92895,     0.92112,     0.91856,      0.9171,     0.91563,     0.91417,      0.9127,     0.91126,     0.90982,     0.90837,     0.90693,\n",
       "            0.90549,     0.90052,     0.89658,      0.8944,     0.89222,     0.88778,      0.8751,     0.87069,     0.86642,     0.86226,      0.8548,     0.85104,     0.84777,     0.84341,     0.83942,     0.83656,     0.83283,     0.82045,     0.81618,     0.81378,     0.81138,     0.80025,     0.79361,\n",
       "            0.78988,     0.77806,     0.76698,     0.75478,     0.74202,     0.71488,     0.70948,      0.6858,     0.68082,     0.66215,     0.64802,     0.63765,     0.62105,     0.60127,     0.58437,     0.56174,     0.54405,     0.53961,     0.53567,     0.52836,     0.50752,     0.49633,     0.48559,\n",
       "            0.45791,     0.44392,     0.44025,     0.42934,     0.42375,     0.41015,     0.39128,     0.36717,     0.35919,     0.33784,     0.32655,     0.31651,     0.31116,     0.30701,     0.29089,     0.28292,     0.27573,     0.25483,     0.22628,     0.22628,     0.22628,      0.2102,     0.19662,\n",
       "             0.1794,     0.15959,     0.15681,     0.15403,     0.14414,     0.13924,    0.094822,     0.09201,    0.089199,     0.08178,    0.065819,     0.05502,    0.044981,     0.04247,    0.040958,    0.039445,    0.037933,    0.035724,     0.02595,    0.021274,    0.019061,    0.016848,    0.014635,\n",
       "           0.013761,    0.012909,    0.012057,    0.011205,    0.010353,   0.0095011,   0.0086492,   0.0077972,           0,           0,           0,           0,           0,           0,           0,           0,           0,           0,           0,           0,           0,           0,           0,\n",
       "                  0,           0,           0,           0,           0,           0,           0,           0,           0,           0,           0]]), 'Confidence', 'Recall']]\n",
       "fitness: 0.9118456925012703\n",
       "keys: ['metrics/precision(B)', 'metrics/recall(B)', 'metrics/mAP50(B)', 'metrics/mAP50-95(B)']\n",
       "maps: array([    0.90354])\n",
       "names: {0: 'Coin-Dataset'}\n",
       "plot: True\n",
       "results_dict: {'metrics/precision(B)': 0.9760752153953729, 'metrics/recall(B)': 0.9854014598540146, 'metrics/mAP50(B)': 0.986615030250832, 'metrics/mAP50-95(B)': 0.9035379883068746, 'fitness': 0.9118456925012703}\n",
       "save_dir: PosixPath('runs/detect/train')\n",
       "speed: {'preprocess': 0.2587147248096955, 'inference': 1.4272225208771534, 'loss': 0.00040347759540264425, 'postprocess': 0.32784999945224863}\n",
       "task: 'detect'"
      ]
     },
     "execution_count": 4,
     "metadata": {},
     "output_type": "execute_result"
    }
   ],
   "source": [
    "from ultralytics import YOLO\n",
    "\n",
    "# Initialize YOLOv8 model\n",
    "model = YOLO(\"./yolov8s.pt\")  # You can also use other versions like yolov8s.pt, yolov8m.pt\n",
    "\n",
    "# Train the model\n",
    "model.train(\n",
    "    data=\"./dataset_splitted_2/dataset.yaml\",\n",
    "    epochs=30,  # Specify the number of epochs\n",
    "    batch=16,   # Specify the batch size\n",
    "    imgsz=256,   # Image size for training\n",
    "    amp=False\n",
    ")\n"
   ]
  },
  {
   "cell_type": "code",
   "execution_count": 5,
   "id": "09a7a47a-3b8b-47e5-a6d7-ce136f84ae76",
   "metadata": {
    "tags": []
   },
   "outputs": [
    {
     "data": {
      "text/plain": [
       "2"
      ]
     },
     "execution_count": 5,
     "metadata": {},
     "output_type": "execute_result"
    }
   ],
   "source": [
    "1+1"
   ]
  },
  {
   "cell_type": "code",
   "execution_count": 6,
   "id": "c9327f8f-4413-48f7-bb77-4410cbe349df",
   "metadata": {
    "tags": []
   },
   "outputs": [
    {
     "name": "stdout",
     "output_type": "stream",
     "text": [
      "Model created\n",
      "\n",
      "image 1/1 /home/jovyan/work/run_pipeline/olga_detection/dataset_splitted_2/val/images/5_1477145514_jpg.rf.c4fef6838ef83a8751c50207c1a7e257.jpg: 192x256 1 Coin-Dataset, 13.4ms\n",
      "Speed: 0.6ms preprocess, 13.4ms inference, 0.9ms postprocess per image at shape (1, 3, 192, 256)\n",
      "Detected objects for 5_1477145514_jpg.rf.c4fef6838ef83a8751c50207c1a7e257.jpg:\n",
      "Class: 0, Confidence: 0.90, BBox: [465.23779296875, 128.99209594726562, 533.4615478515625, 196.69564819335938]\n",
      "\n",
      "image 1/1 /home/jovyan/work/run_pipeline/olga_detection/dataset_splitted_2/val/images/DSC_2659_1561538896_jpg.rf.648567511c992914c2e9877a623f9af8.jpg: 160x256 1 Coin-Dataset, 13.6ms\n",
      "Speed: 0.5ms preprocess, 13.6ms inference, 0.8ms postprocess per image at shape (1, 3, 160, 256)\n",
      "Detected objects for DSC_2659_1561538896_jpg.rf.648567511c992914c2e9877a623f9af8.jpg:\n",
      "Class: 0, Confidence: 0.92, BBox: [195.56817626953125, 119.8035888671875, 268.36328125, 194.4598388671875]\n",
      "\n",
      "image 1/1 /home/jovyan/work/run_pipeline/olga_detection/dataset_splitted_2/val/images/0c32061c-a21b-46e5-8b6b-b483b1829271_jpg.rf.cc038429f89871ce7b34b6ac3eb3e983.jpg: 192x256 2 Coin-Datasets, 8.8ms\n",
      "Speed: 0.6ms preprocess, 8.8ms inference, 0.9ms postprocess per image at shape (1, 3, 192, 256)\n",
      "Detected objects for 0c32061c-a21b-46e5-8b6b-b483b1829271_jpg.rf.cc038429f89871ce7b34b6ac3eb3e983.jpg:\n",
      "Class: 0, Confidence: 0.95, BBox: [327.02557373046875, 97.01580810546875, 547.96435546875, 314.50030517578125]\n",
      "Class: 0, Confidence: 0.95, BBox: [71.44309997558594, 91.9963150024414, 292.39031982421875, 313.55902099609375]\n",
      "\n",
      "image 1/1 /home/jovyan/work/run_pipeline/olga_detection/dataset_splitted_2/val/images/20190619_085005_jpg.rf.51f6e4201bafb96f57381874d70b184b.jpg: 128x256 4 Coin-Datasets, 13.7ms\n",
      "Speed: 0.4ms preprocess, 13.7ms inference, 0.9ms postprocess per image at shape (1, 3, 128, 256)\n",
      "Detected objects for 20190619_085005_jpg.rf.51f6e4201bafb96f57381874d70b184b.jpg:\n",
      "Class: 0, Confidence: 0.92, BBox: [317.00054931640625, 92.32785034179688, 383.10015869140625, 157.74581909179688]\n",
      "Class: 0, Confidence: 0.92, BBox: [167.62185668945312, 67.75978088378906, 230.26791381835938, 128.7139892578125]\n",
      "Class: 0, Confidence: 0.92, BBox: [247.54852294921875, 45.818023681640625, 303.207763671875, 101.43136596679688]\n",
      "Class: 0, Confidence: 0.89, BBox: [174.02337646484375, 132.62213134765625, 236.83599853515625, 196.80352783203125]\n",
      "\n",
      "image 1/1 /home/jovyan/work/run_pipeline/olga_detection/dataset_splitted_2/val/images/DSC_0876_jpg.rf.49107d3da2cb704cf2f348589847e6a4.jpg: 192x256 6 Coin-Datasets, 8.7ms\n",
      "Speed: 0.4ms preprocess, 8.7ms inference, 0.9ms postprocess per image at shape (1, 3, 192, 256)\n",
      "Detected objects for DSC_0876_jpg.rf.49107d3da2cb704cf2f348589847e6a4.jpg:\n",
      "Class: 0, Confidence: 0.92, BBox: [116.04164123535156, 118.06793212890625, 176.81483459472656, 176.68939208984375]\n",
      "Class: 0, Confidence: 0.91, BBox: [190.261474609375, 143.3131103515625, 259.3099365234375, 214.882080078125]\n",
      "Class: 0, Confidence: 0.90, BBox: [323.818603515625, 140.38125610351562, 387.70123291015625, 199.62545776367188]\n",
      "Class: 0, Confidence: 0.86, BBox: [257.3212890625, 156.2296142578125, 315.2939453125, 212.03411865234375]\n",
      "Class: 0, Confidence: 0.42, BBox: [294.03924560546875, 140.03744506835938, 337.27728271484375, 198.37643432617188]\n",
      "Class: 0, Confidence: 0.39, BBox: [288.5265197753906, 145.52923583984375, 323.4963073730469, 199.9515380859375]\n",
      "\n",
      "image 1/1 /home/jovyan/work/run_pipeline/olga_detection/dataset_splitted_2/val/images/5_1477145556_jpg.rf.0ee89878a2648ef94364bd71487c0d35.jpg: 192x256 1 Coin-Dataset, 8.7ms\n",
      "Speed: 0.6ms preprocess, 8.7ms inference, 0.9ms postprocess per image at shape (1, 3, 192, 256)\n",
      "Detected objects for 5_1477145556_jpg.rf.0ee89878a2648ef94364bd71487c0d35.jpg:\n",
      "Class: 0, Confidence: 0.93, BBox: [218.34371948242188, 51.379554748535156, 294.9378356933594, 124.6003646850586]\n",
      "\n",
      "image 1/1 /home/jovyan/work/run_pipeline/olga_detection/dataset_splitted_2/val/images/DSC_0818_jpg.rf.0aaa4a9563aca5dd96fd7e97f94d718b.jpg: 192x256 1 Coin-Dataset, 8.2ms\n",
      "Speed: 0.4ms preprocess, 8.2ms inference, 0.9ms postprocess per image at shape (1, 3, 192, 256)\n",
      "Detected objects for DSC_0818_jpg.rf.0aaa4a9563aca5dd96fd7e97f94d718b.jpg:\n",
      "Class: 0, Confidence: 0.93, BBox: [178.387451171875, 161.11148071289062, 245.6192626953125, 224.019775390625]\n",
      "\n",
      "image 1/1 /home/jovyan/work/run_pipeline/olga_detection/dataset_splitted_2/val/images/DSC_0855_1561593693_jpg.rf.0f4340cdda4b1e2ada3fc0b2b8c75233.jpg: 192x256 2 Coin-Datasets, 8.4ms\n",
      "Speed: 0.5ms preprocess, 8.4ms inference, 0.9ms postprocess per image at shape (1, 3, 192, 256)\n",
      "Detected objects for DSC_0855_1561593693_jpg.rf.0f4340cdda4b1e2ada3fc0b2b8c75233.jpg:\n",
      "Class: 0, Confidence: 0.94, BBox: [174.84954833984375, 152.19747924804688, 280.5703125, 241.00265502929688]\n",
      "Class: 0, Confidence: 0.88, BBox: [206.6763916015625, 110.73997497558594, 312.52545166015625, 189.6627960205078]\n",
      "\n",
      "image 1/1 /home/jovyan/work/run_pipeline/olga_detection/dataset_splitted_2/val/images/DSC_2647_1561679976_jpg.rf.a280f2c5f4fa9e663f778ae96794cf3c.jpg: 160x256 2 Coin-Datasets, 8.7ms\n",
      "Speed: 0.4ms preprocess, 8.7ms inference, 0.9ms postprocess per image at shape (1, 3, 160, 256)\n",
      "Detected objects for DSC_2647_1561679976_jpg.rf.a280f2c5f4fa9e663f778ae96794cf3c.jpg:\n",
      "Class: 0, Confidence: 0.88, BBox: [204.743896484375, 135.5802001953125, 265.3961181640625, 193.5726318359375]\n",
      "Class: 0, Confidence: 0.81, BBox: [228.3649444580078, 119.51239013671875, 293.84991455078125, 186.18307495117188]\n",
      "\n",
      "image 1/1 /home/jovyan/work/run_pipeline/olga_detection/dataset_splitted_2/val/images/DSC_0839_jpg.rf.a193e37ea0f6df54ed309d99678ab599.jpg: 192x256 2 Coin-Datasets, 8.8ms\n",
      "Speed: 0.4ms preprocess, 8.8ms inference, 0.9ms postprocess per image at shape (1, 3, 192, 256)\n",
      "Detected objects for DSC_0839_jpg.rf.a193e37ea0f6df54ed309d99678ab599.jpg:\n",
      "Class: 0, Confidence: 0.92, BBox: [188.103271484375, 158.03543090820312, 244.43777465820312, 211.58822631835938]\n",
      "Class: 0, Confidence: 0.89, BBox: [258.45654296875, 130.8836669921875, 313.2767333984375, 182.97265625]\n",
      "\n",
      "image 1/1 /home/jovyan/work/run_pipeline/olga_detection/dataset_splitted_2/val/images/1917b297-8c8d-435b-8e3b-166708fc9aba_jpg.rf.b1ef94ec7a309012b4764479000706ae.jpg: 256x160 1 Coin-Dataset, 14.0ms\n",
      "Speed: 0.7ms preprocess, 14.0ms inference, 0.9ms postprocess per image at shape (1, 3, 256, 160)\n",
      "Detected objects for 1917b297-8c8d-435b-8e3b-166708fc9aba_jpg.rf.b1ef94ec7a309012b4764479000706ae.jpg:\n",
      "Class: 0, Confidence: 0.94, BBox: [375.7320556640625, 942.7386474609375, 818.7054443359375, 1386.3001708984375]\n",
      "\n",
      "image 1/1 /home/jovyan/work/run_pipeline/olga_detection/dataset_splitted_2/val/images/5_1477145592_jpg.rf.cc88630b6c56f2a1b9eca4258b648f9c.jpg: 192x256 1 Coin-Dataset, 8.9ms\n",
      "Speed: 0.6ms preprocess, 8.9ms inference, 0.9ms postprocess per image at shape (1, 3, 192, 256)\n",
      "Detected objects for 5_1477145592_jpg.rf.cc88630b6c56f2a1b9eca4258b648f9c.jpg:\n",
      "Class: 0, Confidence: 0.93, BBox: [135.86721801757812, 14.14578628540039, 212.26792907714844, 87.4189453125]\n",
      "\n",
      "image 1/1 /home/jovyan/work/run_pipeline/olga_detection/dataset_splitted_2/val/images/51074018-b49e-4230-9365-09f97e783316_jpg.rf.10dd28327ee25c3b181831c22923c070.jpg: 256x256 9 Coin-Datasets, 8.6ms\n",
      "Speed: 0.6ms preprocess, 8.6ms inference, 0.9ms postprocess per image at shape (1, 3, 256, 256)\n",
      "Detected objects for 51074018-b49e-4230-9365-09f97e783316_jpg.rf.10dd28327ee25c3b181831c22923c070.jpg:\n",
      "Class: 0, Confidence: 0.96, BBox: [51.617610931396484, 252.550048828125, 154.23475646972656, 352.6290588378906]\n",
      "Class: 0, Confidence: 0.95, BBox: [45.126522064208984, 355.9776916503906, 146.5923309326172, 457.67205810546875]\n",
      "Class: 0, Confidence: 0.95, BBox: [165.2060546875, 364.4924621582031, 266.64691162109375, 464.9961242675781]\n",
      "Class: 0, Confidence: 0.95, BBox: [269.69146728515625, 254.0509033203125, 370.16607666015625, 354.3489990234375]\n",
      "Class: 0, Confidence: 0.95, BBox: [372.26458740234375, 256.5463562011719, 479.7430419921875, 360.37823486328125]\n",
      "Class: 0, Confidence: 0.94, BBox: [164.7993621826172, 250.43214416503906, 267.64593505859375, 350.57080078125]\n",
      "Class: 0, Confidence: 0.94, BBox: [378.1247253417969, 368.618408203125, 483.808349609375, 472.1891784667969]\n",
      "Class: 0, Confidence: 0.94, BBox: [274.8326110839844, 355.73858642578125, 376.6750183105469, 458.2782287597656]\n",
      "Class: 0, Confidence: 0.94, BBox: [467.2509765625, 307.71728515625, 574.6060180664062, 411.88671875]\n",
      "\n",
      "image 1/1 /home/jovyan/work/run_pipeline/olga_detection/dataset_splitted_2/val/images/150_1479430338_jpg.rf.d707b93a1030d6b1e73ada2bbaa676de.jpg: 192x256 4 Coin-Datasets, 8.6ms\n",
      "Speed: 0.5ms preprocess, 8.6ms inference, 0.9ms postprocess per image at shape (1, 3, 192, 256)\n",
      "Detected objects for 150_1479430338_jpg.rf.d707b93a1030d6b1e73ada2bbaa676de.jpg:\n",
      "Class: 0, Confidence: 0.94, BBox: [228.33023071289062, 308.1800537109375, 313.12750244140625, 389.6505432128906]\n",
      "Class: 0, Confidence: 0.93, BBox: [492.45416259765625, 127.81073760986328, 574.47900390625, 206.7535400390625]\n",
      "Class: 0, Confidence: 0.90, BBox: [98.50418090820312, 323.08819580078125, 173.97256469726562, 394.9109191894531]\n",
      "Class: 0, Confidence: 0.90, BBox: [21.68086051940918, 264.6083068847656, 98.19929504394531, 337.1165771484375]\n",
      "\n",
      "image 1/1 /home/jovyan/work/run_pipeline/olga_detection/dataset_splitted_2/val/images/DSC_0831_jpg.rf.91192a012e931a7fb875d41b09eec308.jpg: 192x256 1 Coin-Dataset, 8.6ms\n",
      "Speed: 0.5ms preprocess, 8.6ms inference, 0.9ms postprocess per image at shape (1, 3, 192, 256)\n",
      "Detected objects for DSC_0831_jpg.rf.91192a012e931a7fb875d41b09eec308.jpg:\n",
      "Class: 0, Confidence: 0.92, BBox: [259.9376220703125, 141.87936401367188, 328.58282470703125, 203.23886108398438]\n",
      "\n",
      "image 1/1 /home/jovyan/work/run_pipeline/olga_detection/dataset_splitted_2/val/images/00db272e-1d5f-4ff1-9cd6-1d8be42cb1a5_jpg.rf.f5818b173262a6f187db2af748531648.jpg: 192x256 13 Coin-Datasets, 8.6ms\n",
      "Speed: 0.7ms preprocess, 8.6ms inference, 0.9ms postprocess per image at shape (1, 3, 192, 256)\n",
      "Detected objects for 00db272e-1d5f-4ff1-9cd6-1d8be42cb1a5_jpg.rf.f5818b173262a6f187db2af748531648.jpg:\n",
      "Class: 0, Confidence: 0.93, BBox: [338.4043884277344, 679.7831420898438, 490.9824523925781, 826.4174194335938]\n",
      "Class: 0, Confidence: 0.93, BBox: [271.182861328125, 425.3833923339844, 422.2655029296875, 574.1553344726562]\n",
      "Class: 0, Confidence: 0.93, BBox: [102.23223114013672, 0.0, 265.7635192871094, 86.37407684326172]\n",
      "Class: 0, Confidence: 0.92, BBox: [331.21710205078125, 0.0, 470.44244384765625, 65.26396942138672]\n",
      "Class: 0, Confidence: 0.92, BBox: [836.9192504882812, 652.9212036132812, 972.9481811523438, 781.3016357421875]\n",
      "Class: 0, Confidence: 0.92, BBox: [0.33382922410964966, 509.985595703125, 138.55233764648438, 657.0744018554688]\n",
      "Class: 0, Confidence: 0.92, BBox: [183.60804748535156, 172.6580352783203, 326.4840087890625, 320.5957946777344]\n",
      "Class: 0, Confidence: 0.91, BBox: [472.2485046386719, 104.19617462158203, 606.0841674804688, 236.51539611816406]\n",
      "Class: 0, Confidence: 0.91, BBox: [609.059326171875, 288.7607116699219, 732.0509033203125, 410.9000244140625]\n",
      "Class: 0, Confidence: 0.91, BBox: [110.44878387451172, 756.3146362304688, 262.7459716796875, 870.3472900390625]\n",
      "Class: 0, Confidence: 0.90, BBox: [985.2461547851562, 537.40869140625, 1126.351318359375, 674.885986328125]\n",
      "Class: 0, Confidence: 0.88, BBox: [918.7847900390625, 381.6911926269531, 1043.718017578125, 503.9385986328125]\n",
      "Class: 0, Confidence: 0.85, BBox: [0.0, 260.46923828125, 62.35701370239258, 419.0351867675781]\n",
      "\n",
      "image 1/1 /home/jovyan/work/run_pipeline/olga_detection/dataset_splitted_2/val/images/939bf6b9-f5dc-4025-8ece-845bf3ae5544_jpg.rf.cb77f4b8751e317e80c98f7820a1b5aa.jpg: 256x256 5 Coin-Datasets, 9.1ms\n",
      "Speed: 0.7ms preprocess, 9.1ms inference, 0.9ms postprocess per image at shape (1, 3, 256, 256)\n",
      "Detected objects for 939bf6b9-f5dc-4025-8ece-845bf3ae5544_jpg.rf.cb77f4b8751e317e80c98f7820a1b5aa.jpg:\n",
      "Class: 0, Confidence: 0.94, BBox: [451.35955810546875, 620.8143920898438, 810.8236083984375, 985.6634521484375]\n",
      "Class: 0, Confidence: 0.93, BBox: [43.932373046875, 608.2333984375, 409.9260559082031, 977.1469116210938]\n",
      "Class: 0, Confidence: 0.92, BBox: [236.60508728027344, 199.06939697265625, 597.1177368164062, 562.8694458007812]\n",
      "Class: 0, Confidence: 0.90, BBox: [648.0195922851562, 215.1792449951172, 1010.4378051757812, 578.658447265625]\n",
      "Class: 0, Confidence: 0.90, BBox: [874.4370727539062, 627.0587158203125, 1234.8831787109375, 990.9841918945312]\n",
      "\n",
      "image 1/1 /home/jovyan/work/run_pipeline/olga_detection/dataset_splitted_2/val/images/8eb6dc58-bab0-4378-8209-b17c4d9c74a1_jpg.rf.50d3b31c53105ed1dd7a5f70fa56603d.jpg: 192x256 2 Coin-Datasets, 9.0ms\n",
      "Speed: 0.5ms preprocess, 9.0ms inference, 0.9ms postprocess per image at shape (1, 3, 192, 256)\n",
      "Detected objects for 8eb6dc58-bab0-4378-8209-b17c4d9c74a1_jpg.rf.50d3b31c53105ed1dd7a5f70fa56603d.jpg:\n",
      "Class: 0, Confidence: 0.93, BBox: [305.7586364746094, 113.2802734375, 465.4775695800781, 275.4162902832031]\n",
      "Class: 0, Confidence: 0.93, BBox: [133.74302673339844, 114.85626220703125, 294.4851989746094, 275.696533203125]\n",
      "\n",
      "image 1/1 /home/jovyan/work/run_pipeline/olga_detection/dataset_splitted_2/val/images/DSC_0846_1561593693_jpg.rf.defa085a6f12c7373b6329a41555ea4f.jpg: 192x256 3 Coin-Datasets, 8.4ms\n",
      "Speed: 0.5ms preprocess, 8.4ms inference, 0.9ms postprocess per image at shape (1, 3, 192, 256)\n",
      "Detected objects for DSC_0846_1561593693_jpg.rf.defa085a6f12c7373b6329a41555ea4f.jpg:\n",
      "Class: 0, Confidence: 0.94, BBox: [156.88131713867188, 132.33499145507812, 288.87933349609375, 231.63629150390625]\n",
      "Class: 0, Confidence: 0.86, BBox: [240.095947265625, 133.04159545898438, 354.85430908203125, 249.3924560546875]\n",
      "Class: 0, Confidence: 0.27, BBox: [199.89059448242188, 130.64230346679688, 353.3774108886719, 245.59173583984375]\n",
      "\n",
      "image 1/1 /home/jovyan/work/run_pipeline/olga_detection/dataset_splitted_2/val/images/DSC_0832_1561593693_jpg.rf.35b770def84e9a5c71e56f5d7ac2f956.jpg: 192x256 2 Coin-Datasets, 8.3ms\n",
      "Speed: 0.4ms preprocess, 8.3ms inference, 0.9ms postprocess per image at shape (1, 3, 192, 256)\n",
      "Detected objects for DSC_0832_1561593693_jpg.rf.35b770def84e9a5c71e56f5d7ac2f956.jpg:\n",
      "Class: 0, Confidence: 0.94, BBox: [152.65774536132812, 238.40524291992188, 265.7430419921875, 340.0]\n",
      "Class: 0, Confidence: 0.94, BBox: [224.67666625976562, 97.82191467285156, 330.6405334472656, 200.9845733642578]\n",
      "\n",
      "image 1/1 /home/jovyan/work/run_pipeline/olga_detection/dataset_splitted_2/val/images/DSC_2666_1561538896_jpg.rf.2785c4ddab98574af38582e58c99ca17.jpg: 160x256 2 Coin-Datasets, 8.8ms\n",
      "Speed: 0.4ms preprocess, 8.8ms inference, 0.9ms postprocess per image at shape (1, 3, 160, 256)\n",
      "Detected objects for DSC_2666_1561538896_jpg.rf.2785c4ddab98574af38582e58c99ca17.jpg:\n",
      "Class: 0, Confidence: 0.92, BBox: [216.515625, 115.836181640625, 302.56268310546875, 169.916259765625]\n",
      "Class: 0, Confidence: 0.92, BBox: [159.40289306640625, 123.7059326171875, 239.031494140625, 175.1787109375]\n",
      "\n",
      "image 1/1 /home/jovyan/work/run_pipeline/olga_detection/dataset_splitted_2/val/images/0044de2f-d45b-4526-99eb-adf982d98b05_jpg.rf.2140f29410c7dad67cfd6b952645a3fb.jpg: 256x256 2 Coin-Datasets, 9.0ms\n",
      "Speed: 0.7ms preprocess, 9.0ms inference, 0.9ms postprocess per image at shape (1, 3, 256, 256)\n",
      "Detected objects for 0044de2f-d45b-4526-99eb-adf982d98b05_jpg.rf.2140f29410c7dad67cfd6b952645a3fb.jpg:\n",
      "Class: 0, Confidence: 0.97, BBox: [711.7901611328125, 471.92706298828125, 1071.9039306640625, 838.6498413085938]\n",
      "Class: 0, Confidence: 0.94, BBox: [216.73049926757812, 476.2864074707031, 579.0813598632812, 841.8956909179688]\n",
      "\n",
      "image 1/1 /home/jovyan/work/run_pipeline/olga_detection/dataset_splitted_2/val/images/DSC_0403_1561781542_jpg.rf.55b229d90dc1664e033f378997cac3d1.jpg: 160x256 11 Coin-Datasets, 9.1ms\n",
      "Speed: 0.5ms preprocess, 9.1ms inference, 0.9ms postprocess per image at shape (1, 3, 160, 256)\n",
      "Detected objects for DSC_0403_1561781542_jpg.rf.55b229d90dc1664e033f378997cac3d1.jpg:\n",
      "Class: 0, Confidence: 0.90, BBox: [312.83978271484375, 80.62716674804688, 359.37213134765625, 124.84457397460938]\n",
      "Class: 0, Confidence: 0.89, BBox: [139.797119140625, 182.24977111816406, 182.8857421875, 225.9862518310547]\n",
      "Class: 0, Confidence: 0.87, BBox: [235.97994995117188, 106.83224487304688, 278.2488708496094, 147.8714599609375]\n",
      "Class: 0, Confidence: 0.86, BBox: [179.517578125, 56.04011535644531, 221.62066650390625, 97.44297790527344]\n",
      "Class: 0, Confidence: 0.86, BBox: [158.88771057128906, 145.36358642578125, 206.0183868408203, 192.490478515625]\n",
      "Class: 0, Confidence: 0.85, BBox: [172.18482971191406, 193.26666259765625, 222.0141143798828, 245.3228759765625]\n",
      "Class: 0, Confidence: 0.85, BBox: [302.54248046875, 149.17039489746094, 347.6171875, 192.01210021972656]\n",
      "Class: 0, Confidence: 0.83, BBox: [221.90127563476562, 147.05081176757812, 267.5483093261719, 189.57315063476562]\n",
      "Class: 0, Confidence: 0.81, BBox: [159.61456298828125, 65.25169372558594, 205.35662841796875, 110.99418640136719]\n",
      "Class: 0, Confidence: 0.63, BBox: [206.19696044921875, 146.59524536132812, 242.99578857421875, 188.76937866210938]\n",
      "Class: 0, Confidence: 0.42, BBox: [166.63626098632812, 59.141021728515625, 221.17929077148438, 107.03485107421875]\n",
      "\n",
      "image 1/1 /home/jovyan/work/run_pipeline/olga_detection/dataset_splitted_2/val/images/DSC_0375_2_jpg.rf.855618d8350bda8d620e1a74431d3a3b.jpg: 160x256 2 Coin-Datasets, 8.6ms\n",
      "Speed: 0.5ms preprocess, 8.6ms inference, 0.9ms postprocess per image at shape (1, 3, 160, 256)\n",
      "Detected objects for DSC_0375_2_jpg.rf.855618d8350bda8d620e1a74431d3a3b.jpg:\n",
      "Class: 0, Confidence: 0.96, BBox: [154.2162322998047, 104.17819213867188, 250.1073760986328, 199.86322021484375]\n",
      "Class: 0, Confidence: 0.94, BBox: [253.47454833984375, 101.80335998535156, 341.4378662109375, 186.5582733154297]\n",
      "\n",
      "image 1/1 /home/jovyan/work/run_pipeline/olga_detection/dataset_splitted_2/val/images/DSC_0367_jpg.rf.5ba9bc9aa6cb4eb03a1562354b07ef40.jpg: 160x256 17 Coin-Datasets, 8.3ms\n",
      "Speed: 0.4ms preprocess, 8.3ms inference, 0.9ms postprocess per image at shape (1, 3, 160, 256)\n",
      "Detected objects for DSC_0367_jpg.rf.5ba9bc9aa6cb4eb03a1562354b07ef40.jpg:\n",
      "Class: 0, Confidence: 0.95, BBox: [292.4858093261719, 142.41293334960938, 376.0659484863281, 224.32684326171875]\n",
      "Class: 0, Confidence: 0.95, BBox: [84.4627685546875, 56.7021484375, 175.34017944335938, 138.05792236328125]\n",
      "Class: 0, Confidence: 0.94, BBox: [183.46710205078125, 96.99431610107422, 269.21685791015625, 178.507080078125]\n",
      "Class: 0, Confidence: 0.93, BBox: [32.78040313720703, 2.1841506958007812, 109.95336151123047, 68.54741668701172]\n",
      "Class: 0, Confidence: 0.93, BBox: [261.76580810546875, 212.90118408203125, 350.79608154296875, 288.0]\n",
      "Class: 0, Confidence: 0.91, BBox: [323.917724609375, 0.0, 402.7222900390625, 58.95140075683594]\n",
      "Class: 0, Confidence: 0.91, BBox: [355.7862243652344, 109.21427917480469, 444.3269348144531, 195.09986877441406]\n",
      "Class: 0, Confidence: 0.91, BBox: [344.42449951171875, 219.14923095703125, 455.34979248046875, 287.42938232421875]\n",
      "Class: 0, Confidence: 0.90, BBox: [225.01876831054688, 12.64569091796875, 299.4220886230469, 80.77022552490234]\n",
      "Class: 0, Confidence: 0.90, BBox: [268.0052490234375, 96.39976501464844, 357.3970947265625, 169.86961364746094]\n",
      "Class: 0, Confidence: 0.89, BBox: [106.46255493164062, 0.0, 183.36077880859375, 36.777076721191406]\n",
      "Class: 0, Confidence: 0.88, BBox: [193.56161499023438, 34.09053039550781, 265.4695129394531, 97.08415222167969]\n",
      "Class: 0, Confidence: 0.87, BBox: [137.3662109375, 0.0, 209.2425537109375, 61.597869873046875]\n",
      "Class: 0, Confidence: 0.70, BBox: [268.94256591796875, 0.0, 331.80377197265625, 20.764549255371094]\n",
      "Class: 0, Confidence: 0.64, BBox: [287.0816650390625, 9.718727111816406, 332.521728515625, 63.56170654296875]\n",
      "Class: 0, Confidence: 0.47, BBox: [346.4869384765625, 193.06631469726562, 484.16876220703125, 288.0]\n",
      "Class: 0, Confidence: 0.40, BBox: [120.10456085205078, 0.0, 193.98394775390625, 41.16529083251953]\n",
      "\n",
      "image 1/1 /home/jovyan/work/run_pipeline/olga_detection/dataset_splitted_2/val/images/DSC_0837_1561593693_jpg.rf.915355aba5575f3b0c421e96d0dcd218.jpg: 192x256 2 Coin-Datasets, 8.9ms\n",
      "Speed: 0.4ms preprocess, 8.9ms inference, 0.9ms postprocess per image at shape (1, 3, 192, 256)\n",
      "Detected objects for DSC_0837_1561593693_jpg.rf.915355aba5575f3b0c421e96d0dcd218.jpg:\n",
      "Class: 0, Confidence: 0.95, BBox: [170.74984741210938, 105.5676498413086, 330.9538269042969, 251.59317016601562]\n",
      "Class: 0, Confidence: 0.88, BBox: [46.87887191772461, 52.016380310058594, 95.2572021484375, 99.8549575805664]\n",
      "\n",
      "image 1/1 /home/jovyan/work/run_pipeline/olga_detection/dataset_splitted_2/val/images/c7b4fc68-b813-4850-9f7b-ab7201cf8199_jpg.rf.7fa91d1b07cd7906e5afb5b6fa61f5b7.jpg: 160x256 2 Coin-Datasets, 8.8ms\n",
      "Speed: 0.5ms preprocess, 8.8ms inference, 0.9ms postprocess per image at shape (1, 3, 160, 256)\n",
      "Detected objects for c7b4fc68-b813-4850-9f7b-ab7201cf8199_jpg.rf.7fa91d1b07cd7906e5afb5b6fa61f5b7.jpg:\n",
      "Class: 0, Confidence: 0.95, BBox: [386.0086975097656, 93.06244659423828, 690.683837890625, 382.0828552246094]\n",
      "Class: 0, Confidence: 0.94, BBox: [170.87168884277344, 140.84759521484375, 381.1607360839844, 341.629638671875]\n",
      "\n",
      "image 1/1 /home/jovyan/work/run_pipeline/olga_detection/dataset_splitted_2/val/images/DSC_0816_jpg.rf.117887580391953ac3bc06cf6708504f.jpg: 192x256 1 Coin-Dataset, 8.8ms\n",
      "Speed: 0.4ms preprocess, 8.8ms inference, 0.9ms postprocess per image at shape (1, 3, 192, 256)\n",
      "Detected objects for DSC_0816_jpg.rf.117887580391953ac3bc06cf6708504f.jpg:\n",
      "Class: 0, Confidence: 0.91, BBox: [311.92340087890625, 141.7637939453125, 378.317626953125, 204.3858642578125]\n",
      "\n",
      "image 1/1 /home/jovyan/work/run_pipeline/olga_detection/dataset_splitted_2/val/images/903d67ad-9ad2-4c04-b618-fda5e031b896_jpg.rf.3a4394e8f301dd6ebc7a333d1598506b.jpg: 256x256 1 Coin-Dataset, 8.7ms\n",
      "Speed: 0.6ms preprocess, 8.7ms inference, 0.9ms postprocess per image at shape (1, 3, 256, 256)\n",
      "Detected objects for 903d67ad-9ad2-4c04-b618-fda5e031b896_jpg.rf.3a4394e8f301dd6ebc7a333d1598506b.jpg:\n",
      "Class: 0, Confidence: 0.96, BBox: [74.63074493408203, 95.99008178710938, 362.7662353515625, 376.4411315917969]\n",
      "\n",
      "image 1/1 /home/jovyan/work/run_pipeline/olga_detection/dataset_splitted_2/val/images/70f585cd-ea18-443d-a2f1-49ada422bedb_jpg.rf.65283d871114090baac88f519c53491b.jpg: 256x256 1 Coin-Dataset, 8.5ms\n",
      "Speed: 0.7ms preprocess, 8.5ms inference, 0.9ms postprocess per image at shape (1, 3, 256, 256)\n",
      "Detected objects for 70f585cd-ea18-443d-a2f1-49ada422bedb_jpg.rf.65283d871114090baac88f519c53491b.jpg:\n",
      "Class: 0, Confidence: 0.96, BBox: [168.35296630859375, 169.2243194580078, 427.4591064453125, 427.75225830078125]\n",
      "\n",
      "image 1/1 /home/jovyan/work/run_pipeline/olga_detection/dataset_splitted_2/val/images/20190619_085429_jpg.rf.e0f493e2f22c3fafc8673128a55949df.jpg: 128x256 2 Coin-Datasets, 8.9ms\n",
      "Speed: 0.4ms preprocess, 8.9ms inference, 0.9ms postprocess per image at shape (1, 3, 128, 256)\n",
      "Detected objects for 20190619_085429_jpg.rf.e0f493e2f22c3fafc8673128a55949df.jpg:\n",
      "Class: 0, Confidence: 0.94, BBox: [233.9688720703125, 91.145751953125, 314.91552734375, 169.778564453125]\n",
      "Class: 0, Confidence: 0.93, BBox: [159.35523986816406, 90.03192138671875, 228.84364318847656, 156.47055053710938]\n",
      "\n",
      "image 1/1 /home/jovyan/work/run_pipeline/olga_detection/dataset_splitted_2/val/images/170_1479423252_jpg.rf.5a7f7902be9b50aa518f2d4ea3b008ba.jpg: 192x256 13 Coin-Datasets, 8.5ms\n",
      "Speed: 0.5ms preprocess, 8.5ms inference, 0.9ms postprocess per image at shape (1, 3, 192, 256)\n",
      "Detected objects for 170_1479423252_jpg.rf.5a7f7902be9b50aa518f2d4ea3b008ba.jpg:\n",
      "Class: 0, Confidence: 0.94, BBox: [351.06353759765625, 185.85162353515625, 435.17547607421875, 266.7699890136719]\n",
      "Class: 0, Confidence: 0.92, BBox: [453.47027587890625, 202.58502197265625, 521.5794677734375, 268.345458984375]\n",
      "Class: 0, Confidence: 0.92, BBox: [237.255859375, 216.60369873046875, 308.1092834472656, 282.69439697265625]\n",
      "Class: 0, Confidence: 0.91, BBox: [506.11212158203125, 338.8238830566406, 572.9238891601562, 402.70892333984375]\n",
      "Class: 0, Confidence: 0.91, BBox: [408.5323486328125, 325.00860595703125, 476.19146728515625, 390.0338134765625]\n",
      "Class: 0, Confidence: 0.91, BBox: [26.16031837463379, 197.878662109375, 93.17495727539062, 263.5983581542969]\n",
      "Class: 0, Confidence: 0.91, BBox: [272.3762512207031, 40.55729675292969, 350.8388977050781, 116.82884216308594]\n",
      "Class: 0, Confidence: 0.91, BBox: [381.8968200683594, 1.4749908447265625, 450.7977294921875, 67.69151306152344]\n",
      "Class: 0, Confidence: 0.90, BBox: [573.3426513671875, 149.24288940429688, 639.716552734375, 218.12240600585938]\n",
      "Class: 0, Confidence: 0.90, BBox: [407.709716796875, 67.2873764038086, 480.62860107421875, 139.42401123046875]\n",
      "Class: 0, Confidence: 0.90, BBox: [140.9617156982422, 66.69656372070312, 211.14956665039062, 132.68919372558594]\n",
      "Class: 0, Confidence: 0.89, BBox: [530.304931640625, 268.5232238769531, 600.8577270507812, 336.39337158203125]\n",
      "Class: 0, Confidence: 0.87, BBox: [463.7307434082031, 129.2516326904297, 531.10302734375, 193.6243896484375]\n",
      "\n",
      "image 1/1 /home/jovyan/work/run_pipeline/olga_detection/dataset_splitted_2/val/images/175_1479423456_jpg.rf.0723ceef6a241da65f4f36db2132002b.jpg: 192x256 14 Coin-Datasets, 8.5ms\n",
      "Speed: 0.5ms preprocess, 8.5ms inference, 0.9ms postprocess per image at shape (1, 3, 192, 256)\n",
      "Detected objects for 175_1479423456_jpg.rf.0723ceef6a241da65f4f36db2132002b.jpg:\n",
      "Class: 0, Confidence: 0.92, BBox: [290.9106750488281, 309.302978515625, 365.582763671875, 380.2896728515625]\n",
      "Class: 0, Confidence: 0.92, BBox: [173.99462890625, 296.39862060546875, 252.85565185546875, 371.3893127441406]\n",
      "Class: 0, Confidence: 0.91, BBox: [518.92236328125, 339.89263916015625, 583.6806640625, 401.6768798828125]\n",
      "Class: 0, Confidence: 0.91, BBox: [529.294189453125, 244.2208709716797, 595.0284423828125, 308.619140625]\n",
      "Class: 0, Confidence: 0.91, BBox: [402.5975341796875, 192.5504913330078, 473.7737731933594, 257.4527893066406]\n",
      "Class: 0, Confidence: 0.91, BBox: [299.43707275390625, 107.76594543457031, 373.5721130371094, 180.56991577148438]\n",
      "Class: 0, Confidence: 0.91, BBox: [398.9469909667969, 12.933359146118164, 483.6785888671875, 93.87791442871094]\n",
      "Class: 0, Confidence: 0.91, BBox: [558.0890502929688, 14.480409622192383, 623.8392944335938, 78.96893310546875]\n",
      "Class: 0, Confidence: 0.90, BBox: [213.48324584960938, 147.73497009277344, 283.380615234375, 213.8650665283203]\n",
      "Class: 0, Confidence: 0.90, BBox: [553.1564331054688, 143.75961303710938, 623.40869140625, 213.404052734375]\n",
      "Class: 0, Confidence: 0.90, BBox: [263.79730224609375, 218.94729614257812, 339.2591552734375, 290.21661376953125]\n",
      "Class: 0, Confidence: 0.90, BBox: [400.85516357421875, 292.05828857421875, 470.3255615234375, 354.560546875]\n",
      "Class: 0, Confidence: 0.90, BBox: [412.85546875, 368.7944030761719, 480.78985595703125, 431.62322998046875]\n",
      "Class: 0, Confidence: 0.89, BBox: [413.4219970703125, 108.08244323730469, 482.407470703125, 172.4910125732422]\n",
      "\n",
      "image 1/1 /home/jovyan/work/run_pipeline/olga_detection/dataset_splitted_2/val/images/20190619_090231_jpg.rf.a69f951ba0a005df728a5ee54c86d27e.jpg: 192x256 1 Coin-Dataset, 8.4ms\n",
      "Speed: 0.5ms preprocess, 8.4ms inference, 0.9ms postprocess per image at shape (1, 3, 192, 256)\n",
      "Detected objects for 20190619_090231_jpg.rf.a69f951ba0a005df728a5ee54c86d27e.jpg:\n",
      "Class: 0, Confidence: 0.96, BBox: [203.06051635742188, 152.52972412109375, 310.8475036621094, 242.8732452392578]\n",
      "\n",
      "image 1/1 /home/jovyan/work/run_pipeline/olga_detection/dataset_splitted_2/val/images/20190619_090037_jpg.rf.73718a57c35e547233dc95958ee45808.jpg: 192x256 2 Coin-Datasets, 8.3ms\n",
      "Speed: 0.4ms preprocess, 8.3ms inference, 0.9ms postprocess per image at shape (1, 3, 192, 256)\n",
      "Detected objects for 20190619_090037_jpg.rf.73718a57c35e547233dc95958ee45808.jpg:\n",
      "Class: 0, Confidence: 0.94, BBox: [262.9520263671875, 131.3304443359375, 395.679443359375, 234.699951171875]\n",
      "Class: 0, Confidence: 0.93, BBox: [121.41893005371094, 138.99349975585938, 243.83763122558594, 234.73037719726562]\n",
      "\n",
      "image 1/1 /home/jovyan/work/run_pipeline/olga_detection/dataset_splitted_2/val/images/8ea74b64-c9a5-4caf-9e0b-e659b748632b_jpg.rf.db1b105879caa0d18eaf1ca6fab1b2da.jpg: 192x256 2 Coin-Datasets, 8.5ms\n",
      "Speed: 0.6ms preprocess, 8.5ms inference, 0.9ms postprocess per image at shape (1, 3, 192, 256)\n",
      "Detected objects for 8ea74b64-c9a5-4caf-9e0b-e659b748632b_jpg.rf.db1b105879caa0d18eaf1ca6fab1b2da.jpg:\n",
      "Class: 0, Confidence: 0.95, BBox: [198.17510986328125, 250.1757354736328, 566.2083129882812, 610.07177734375]\n",
      "Class: 0, Confidence: 0.92, BBox: [733.427490234375, 250.00498962402344, 1102.955078125, 615.4346923828125]\n",
      "\n",
      "image 1/1 /home/jovyan/work/run_pipeline/olga_detection/dataset_splitted_2/val/images/DSC_2648_1561679976_jpg.rf.8ebb610ac4ef9c3f23697e892e0f4514.jpg: 160x256 3 Coin-Datasets, 8.9ms\n",
      "Speed: 0.4ms preprocess, 8.9ms inference, 0.9ms postprocess per image at shape (1, 3, 160, 256)\n",
      "Detected objects for DSC_2648_1561679976_jpg.rf.8ebb610ac4ef9c3f23697e892e0f4514.jpg:\n",
      "Class: 0, Confidence: 0.93, BBox: [176.72999572753906, 105.81475830078125, 253.0011749267578, 178.016845703125]\n",
      "Class: 0, Confidence: 0.93, BBox: [256.90911865234375, 99.80218505859375, 334.24530029296875, 172.65203857421875]\n",
      "Class: 0, Confidence: 0.90, BBox: [226.43218994140625, 144.6552276611328, 292.89544677734375, 211.66172790527344]\n",
      "\n",
      "image 1/1 /home/jovyan/work/run_pipeline/olga_detection/dataset_splitted_2/val/images/DSC_0388_1561683368_jpg.rf.f8387a2b4a2bf9dce05338f63a23aee8.jpg: 160x256 1 Coin-Dataset, 8.7ms\n",
      "Speed: 0.5ms preprocess, 8.7ms inference, 0.9ms postprocess per image at shape (1, 3, 160, 256)\n",
      "Detected objects for DSC_0388_1561683368_jpg.rf.f8387a2b4a2bf9dce05338f63a23aee8.jpg:\n",
      "Class: 0, Confidence: 0.93, BBox: [176.54476928710938, 118.32614135742188, 245.86380004882812, 187.63479614257812]\n",
      "\n",
      "image 1/1 /home/jovyan/work/run_pipeline/olga_detection/dataset_splitted_2/val/images/4bc07dea-9e08-4802-99ae-fbcec55d410b_jpg.rf.fca64189ac38d4a1265341caf4d98e7f.jpg: 256x256 6 Coin-Datasets, 8.8ms\n",
      "Speed: 0.8ms preprocess, 8.8ms inference, 0.9ms postprocess per image at shape (1, 3, 256, 256)\n",
      "Detected objects for 4bc07dea-9e08-4802-99ae-fbcec55d410b_jpg.rf.fca64189ac38d4a1265341caf4d98e7f.jpg:\n",
      "Class: 0, Confidence: 0.97, BBox: [167.1903076171875, 505.60638427734375, 389.7532043457031, 705.396240234375]\n",
      "Class: 0, Confidence: 0.96, BBox: [619.0154418945312, 452.3747253417969, 827.0275268554688, 645.834716796875]\n",
      "Class: 0, Confidence: 0.95, BBox: [408.7748718261719, 381.64111328125, 617.9205932617188, 571.1229858398438]\n",
      "Class: 0, Confidence: 0.94, BBox: [400.0758361816406, 608.234619140625, 618.8478393554688, 813.9970703125]\n",
      "Class: 0, Confidence: 0.93, BBox: [235.06919860839844, 214.98959350585938, 437.7039489746094, 424.8402404785156]\n",
      "Class: 0, Confidence: 0.60, BBox: [0.0, 0.0, 446.234375, 390.3513488769531]\n",
      "Inference completed. Results saved to ./inference_results_val.\n"
     ]
    }
   ],
   "source": [
    "from ultralytics import YOLO\n",
    "import cv2\n",
    "import os\n",
    "\n",
    "# Path to the trained model\n",
    "model_path = \"./runs/detect/train/weights/best.pt\"  # Update the path to your trained model\n",
    "\n",
    "# Directory containing the images for inference\n",
    "inference_images_dir = \"./dataset_splitted_2/val/images\"\n",
    "\n",
    "# Output directory for annotated results\n",
    "output_dir = \"./inference_results_val\"\n",
    "os.makedirs(output_dir, exist_ok=True)\n",
    "\n",
    "# Load the trained model\n",
    "model = YOLO(model_path)\n",
    "print('Model created')\n",
    "\n",
    "# Perform inference on each image in the directory\n",
    "for image_name in os.listdir(inference_images_dir):\n",
    "    image_path = os.path.join(inference_images_dir, image_name)\n",
    "    \n",
    "    # Load the image\n",
    "    image = cv2.imread(image_path)\n",
    "    \n",
    "    # Perform inference\n",
    "    results = model(image_path)\n",
    "    \n",
    "    # Save results\n",
    "    annotated_image = results[0].plot()  # Annotated image with bounding boxes\n",
    "    output_image_path = os.path.join(output_dir, image_name)\n",
    "    cv2.imwrite(output_image_path, annotated_image)\n",
    "    \n",
    "    # Print detected objects for the image\n",
    "    print(f\"Detected objects for {image_name}:\")\n",
    "    for result in results[0].boxes.data:\n",
    "        class_id, confidence, bbox = int(result[5]), result[4].item(), result[:4].tolist()\n",
    "        print(f\"Class: {class_id}, Confidence: {confidence:.2f}, BBox: {bbox}\")\n",
    "\n",
    "print(f\"Inference completed. Results saved to {output_dir}.\")\n"
   ]
  },
  {
   "cell_type": "code",
   "execution_count": null,
   "id": "6d51e20e-f3e5-44eb-be07-0c6e2a868584",
   "metadata": {},
   "outputs": [],
   "source": []
  }
 ],
 "metadata": {
  "kernelspec": {
   "display_name": "cv",
   "language": "python",
   "name": "cv"
  },
  "language_info": {
   "codemirror_mode": {
    "name": "ipython",
    "version": 3
   },
   "file_extension": ".py",
   "mimetype": "text/x-python",
   "name": "python",
   "nbconvert_exporter": "python",
   "pygments_lexer": "ipython3",
   "version": "3.9.10"
  }
 },
 "nbformat": 4,
 "nbformat_minor": 5
}
