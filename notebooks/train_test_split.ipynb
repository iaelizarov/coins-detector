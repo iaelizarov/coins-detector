{
 "cells": [
  {
   "cell_type": "code",
   "execution_count": 3,
   "id": "1e8c4128-4e7e-483d-8108-dd0ce571a48c",
   "metadata": {
    "tags": []
   },
   "outputs": [
    {
     "name": "stdout",
     "output_type": "stream",
     "text": [
      "Dataset split into ./dataset_splitted_2 with train and val folders in the required structure.\n"
     ]
    }
   ],
   "source": [
    "import os\n",
    "import shutil\n",
    "import json\n",
    "from sklearn.model_selection import train_test_split\n",
    "\n",
    "# Paths to your dataset and output folder\n",
    "dataset_folder = './coin-dataset'\n",
    "output_folder = './dataset_splitted_2'\n",
    "\n",
    "# Create output directories\n",
    "train_images_dir = os.path.join(output_folder, 'train/images')\n",
    "train_labels_dir = os.path.join(output_folder, 'train/labels')\n",
    "val_images_dir = os.path.join(output_folder, 'val/images')\n",
    "val_labels_dir = os.path.join(output_folder, 'val/labels')\n",
    "\n",
    "os.makedirs(train_images_dir, exist_ok=True)\n",
    "os.makedirs(train_labels_dir, exist_ok=True)\n",
    "os.makedirs(val_images_dir, exist_ok=True)\n",
    "os.makedirs(val_labels_dir, exist_ok=True)\n",
    "\n",
    "# Path to your annotations JSON file\n",
    "annotations_path = os.path.join(dataset_folder, '_annotations.json')\n",
    "\n",
    "# Load annotations\n",
    "with open(annotations_path, 'r') as f:\n",
    "    annotations = json.load(f)\n",
    "\n",
    "# Split dataset into train and validation sets\n",
    "image_annotations = list(annotations['images'])\n",
    "train_data, val_data = train_test_split(image_annotations, test_size=0.2, random_state=42)\n",
    "\n",
    "# Helper function to save labels\n",
    "def save_label(image_info, annotations, output_labels_dir):\n",
    "    image_id = image_info['id']\n",
    "    label_path = os.path.join(output_labels_dir, os.path.splitext(image_info['file_name'])[0] + '.txt')\n",
    "    \n",
    "    with open(label_path, 'w') as label_file:\n",
    "        for ann in annotations['annotations']:\n",
    "            if ann['image_id'] == image_id:\n",
    "                category_id = ann['category_id'] - 1  # YOLOv8 uses zero-based indexing\n",
    "                bbox = ann['bbox']\n",
    "                x_center = (bbox[0] + bbox[2] / 2) / image_info['width']\n",
    "                y_center = (bbox[1] + bbox[3] / 2) / image_info['height']\n",
    "                width = bbox[2] / image_info['width']\n",
    "                height = bbox[3] / image_info['height']\n",
    "                label_file.write(f\"{category_id} {x_center} {y_center} {width} {height}\\n\")\n",
    "\n",
    "# Move files and create labels for training and validation datasets\n",
    "for image_info, output_image_dir, output_labels_dir in zip(\n",
    "    [train_data, val_data], \n",
    "    [train_images_dir, val_images_dir], \n",
    "    [train_labels_dir, val_labels_dir]\n",
    "):\n",
    "    for image in image_info:\n",
    "        src_image_path = os.path.join(dataset_folder, image['file_name'])\n",
    "        dst_image_path = os.path.join(output_image_dir, os.path.basename(image['file_name']))\n",
    "        shutil.copy(src_image_path, dst_image_path)\n",
    "        save_label(image, annotations, output_labels_dir)\n",
    "\n",
    "print(f\"Dataset split into {output_folder} with train and val folders in the required structure.\")\n"
   ]
  },
  {
   "cell_type": "code",
   "execution_count": null,
   "id": "cf5b60ae-a314-43b6-a6c1-69f66e536550",
   "metadata": {},
   "outputs": [],
   "source": []
  }
 ],
 "metadata": {
  "kernelspec": {
   "display_name": "cv",
   "language": "python",
   "name": "cv"
  },
  "language_info": {
   "codemirror_mode": {
    "name": "ipython",
    "version": 3
   },
   "file_extension": ".py",
   "mimetype": "text/x-python",
   "name": "python",
   "nbconvert_exporter": "python",
   "pygments_lexer": "ipython3",
   "version": "3.9.10"
  }
 },
 "nbformat": 4,
 "nbformat_minor": 5
}
